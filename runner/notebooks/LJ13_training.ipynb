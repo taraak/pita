{
 "cells": [
  {
   "cell_type": "code",
   "execution_count": 3,
   "metadata": {},
   "outputs": [],
   "source": [
    "%load_ext autoreload\n",
    "%autoreload 2"
   ]
  },
  {
   "cell_type": "code",
   "execution_count": 4,
   "metadata": {},
   "outputs": [],
   "source": [
    "import matplotlib.pyplot as plt\n",
    "import torch\n",
    "import numpy as np\n",
    "from torch.optim import Adam\n",
    "from torch.utils.data import TensorDataset, DataLoader\n",
    "from fab.utils.logging import ListLogger\n",
    "from fab.target_distributions.gmm import GMM\n",
    "from fab.utils.prioritised_replay_buffer import SimpleBuffer\n",
    "from torch.autograd import grad\n",
    "from tqdm import tqdm\n",
    "\n",
    "\n",
    "from typing import Union\n",
    "import numpy as np\n",
    "import matplotlib.pyplot as plt\n",
    "import torch\n",
    "\n",
    "from typing import Tuple, Optional\n",
    "import torch\n",
    "from functorch import vmap\n",
    "\n",
    "\n",
    "from functools import partial\n",
    "\n",
    "\n",
    "import torchsde\n",
    "import matplotlib.pyplot as plt\n",
    "import numpy as np\n",
    "from typing import Callable\n",
    "\n",
    "from math import sqrt\n",
    "\n",
    "\n",
    "from torchdiffeq import odeint\n",
    "from torch.func import jacrev\n",
    "\n",
    "from src.utils.data_utils import remove_mean\n",
    "from src.models.components.egnn import EGNN_dynamics\n",
    "\n",
    "from bgflow import Energy\n",
    "from bgflow.utils import distance_vectors, distances_from_vectors"
   ]
  },
  {
   "cell_type": "code",
   "execution_count": 5,
   "metadata": {},
   "outputs": [
    {
     "name": "stdout",
     "output_type": "stream",
     "text": [
      "cuda\n"
     ]
    }
   ],
   "source": [
    "device = torch.device(\"cuda\" if torch.cuda.is_available() else \"cpu\")\n",
    "print(device)"
   ]
  },
  {
   "cell_type": "markdown",
   "metadata": {},
   "source": [
    "### Target Distribution"
   ]
  },
  {
   "cell_type": "code",
   "execution_count": 6,
   "metadata": {},
   "outputs": [],
   "source": [
    "from src.energies.lennardjones_energy import LennardJonesEnergy\n",
    "\n",
    "target = LennardJonesEnergy(\n",
    "    dimensionality=39,\n",
    "    n_particles=13,\n",
    "    device=device,\n",
    "    data_path=\"../../data/all_data_LJ13-2.npy\",\n",
    ")"
   ]
  },
  {
   "cell_type": "markdown",
   "metadata": {},
   "source": [
    "### Helper Functions"
   ]
  },
  {
   "cell_type": "code",
   "execution_count": 7,
   "metadata": {},
   "outputs": [],
   "source": [
    "from src.models.components.noise_schedules import QuadraticNoiseSchedule"
   ]
  },
  {
   "cell_type": "code",
   "execution_count": 8,
   "metadata": {},
   "outputs": [],
   "source": [
    "def clip(f, max_norm):\n",
    "    norm = torch.linalg.vector_norm(f, dim=-1)\n",
    "    clip_coef = torch.clamp(max_norm / (norm + 1e-6), max=1)\n",
    "    f = f * clip_coef.unsqueeze(-1)\n",
    "    return f"
   ]
  },
  {
   "cell_type": "code",
   "execution_count": 9,
   "metadata": {},
   "outputs": [],
   "source": [
    "def sample_from_array(array, size):\n",
    "    idx = np.random.choice(array.shape[0], size=size)\n",
    "    return array[idx]"
   ]
  },
  {
   "cell_type": "markdown",
   "metadata": {},
   "source": [
    "## Function Definitions"
   ]
  },
  {
   "cell_type": "markdown",
   "metadata": {},
   "source": [
    "### Estimated Reward Functions"
   ]
  },
  {
   "cell_type": "code",
   "execution_count": 10,
   "metadata": {},
   "outputs": [],
   "source": [
    "# calculate the log expectation of the reward\n",
    "def log_E_R(_x, _t, noise_schedule, num_mc_samples, var_exploding=True):\n",
    "    repeated_x = _x.unsqueeze(0).repeat_interleave(num_mc_samples, dim=0)\n",
    "    repeated_t = _t.unsqueeze(0).repeat_interleave(num_mc_samples, dim=0)\n",
    "    h_t = noise_schedule.h(repeated_t)\n",
    "    h_t = h_t.unsqueeze(1)\n",
    "    if var_exploding:\n",
    "        # variance exploding\n",
    "        samples = repeated_x + torch.randn(repeated_x.shape).to(device) * (h_t**0.5)\n",
    "        log_rewards = target(samples).squeeze()\n",
    "        log_expectation_R = torch.logsumexp(log_rewards, dim=-1) - np.log(\n",
    "            num_mc_samples\n",
    "        )\n",
    "    else:\n",
    "        # variance preserving\n",
    "        samples = repeated_x / torch.sqrt(1 - repeated_t.unsqueeze(1)) + torch.randn(\n",
    "            repeated_x.shape\n",
    "        ).to(device) * (h_t**0.5)\n",
    "        log_rewards = target._log_prob(samples).squeeze()\n",
    "        log_expectation_R = (\n",
    "            torch.log(1 / (1 - _t))\n",
    "            + torch.logsumexp(log_rewards, dim=-1)\n",
    "            - np.log(num_mc_samples)\n",
    "        )\n",
    "    return log_expectation_R"
   ]
  },
  {
   "cell_type": "code",
   "execution_count": 11,
   "metadata": {},
   "outputs": [],
   "source": [
    "def estimated_Rt(x, t, beta, num_mc_samples=100, var_exploding=True):\n",
    "    if t.dim() == 0:\n",
    "        # repeat the same time for all points if we have a scalar time\n",
    "        t = t * torch.ones(x.shape[0]).to(device)\n",
    "    return torch.vmap(log_E_R, randomness=\"different\", in_dims=(0, 0, None, None))(\n",
    "        x, t, beta, num_mc_samples, var_exploding=var_exploding\n",
    "    )"
   ]
  },
  {
   "cell_type": "code",
   "execution_count": 12,
   "metadata": {},
   "outputs": [],
   "source": [
    "def estimate_grad_Rt(\n",
    "    x, t, noise_schedule, num_mc_samples=100, var_exploding=True, richardson=False\n",
    "):\n",
    "    est_scores_n = torch.func.grad(log_E_R)(\n",
    "        x, t, noise_schedule, num_mc_samples, var_exploding=var_exploding\n",
    "    )\n",
    "    if richardson:\n",
    "        est_scores_n_div2 = torch.func.grad(log_E_R)(\n",
    "            x, t, noise_schedule, num_mc_samples // 2, var_exploding=var_exploding\n",
    "        )\n",
    "        return 2 * est_scores_n - est_scores_n_div2\n",
    "    else:\n",
    "        return est_scores_n"
   ]
  },
  {
   "cell_type": "markdown",
   "metadata": {},
   "source": [
    "## SDE"
   ]
  },
  {
   "cell_type": "markdown",
   "metadata": {},
   "source": [
    "### Dataset"
   ]
  },
  {
   "cell_type": "code",
   "execution_count": 13,
   "metadata": {},
   "outputs": [],
   "source": [
    "n_nodes = 13\n",
    "dim = 3"
   ]
  },
  {
   "cell_type": "code",
   "execution_count": 14,
   "metadata": {},
   "outputs": [],
   "source": [
    "samples_all = np.load(\"../../data/all_data_LJ13-2.npy\")\n",
    "test_data = samples_all[len(samples_all) // 2 :]\n",
    "test_data_smaller = sample_from_array(test_data, 1000)\n",
    "del samples_all\n",
    "\n",
    "test_data = remove_mean(test_data, n_particles=n_nodes, n_dimensions=dim)\n",
    "test_data = torch.tensor(test_data, device=device)\n",
    "\n",
    "\n",
    "test_data_smaller = remove_mean(\n",
    "    test_data_smaller, n_particles=n_nodes, n_dimensions=dim\n",
    ")\n",
    "test_data_smaller = torch.tensor(test_data_smaller, device=device)"
   ]
  },
  {
   "cell_type": "code",
   "execution_count": 15,
   "metadata": {},
   "outputs": [
    {
     "data": {
      "image/png": "[encoded data removed]",
      "text/plain": [
       "<Figure size 640x480 with 1 Axes>"
      ]
     },
     "metadata": {},
     "output_type": "display_data"
    }
   ],
   "source": [
    "dist_test = target.interatomic_dist(test_data_smaller)\n",
    "plt.hist(\n",
    "    dist_test.view(-1).cpu(),\n",
    "    bins=100,\n",
    "    label=\"holdout samples\",\n",
    "    alpha=0.5,\n",
    "    density=True,\n",
    "    histtype=\"step\",\n",
    "    linewidth=4,\n",
    ")\n",
    "plt.show()"
   ]
  },
  {
   "cell_type": "markdown",
   "metadata": {},
   "source": [
    "### VE SDE"
   ]
  },
  {
   "cell_type": "code",
   "execution_count": 85,
   "metadata": {},
   "outputs": [],
   "source": [
    "from src.models.components.sdes import VEReverseSDE\n",
    "from src.models.components.sde_integration import integrate_sde"
   ]
  },
  {
   "cell_type": "code",
   "execution_count": 86,
   "metadata": {},
   "outputs": [],
   "source": [
    "# class VEReverseSDE(torch.nn.Module):\n",
    "\n",
    "#     def __init__(self, score, noise_schedule):\n",
    "#         super().__init__()\n",
    "#         self.score = score\n",
    "#         self.noise_schedule = noise_schedule\n",
    "\n",
    "#     def f(self, t, x):\n",
    "#         if t.dim() == 0:\n",
    "#             # repeat the same time for all points if we have a scalar time\n",
    "#             t = t * torch.ones(x.shape[0]).to(device)\n",
    "\n",
    "#         x.requires_grad = True\n",
    "#         score = self.score(t, x)\n",
    "#         norm = torch.linalg.vector_norm(score, dim=-1)\n",
    "#         max_norm = 200\n",
    "#         clip_coef = torch.clamp(max_norm / (norm+1e-6), max=1)\n",
    "#         return self.g(t, x)**2 * score * clip_coef[:,None]\n",
    "\n",
    "#     def g(self, t, x):\n",
    "#         g = self.noise_schedule.g(t)\n",
    "#         return g.unsqueeze(1) if g.ndim > 0 else torch.full_like(x, g)"
   ]
  },
  {
   "cell_type": "code",
   "execution_count": 87,
   "metadata": {},
   "outputs": [],
   "source": [
    "def generate_samples(reverse_sde, num_samples, return_full_trajectory):\n",
    "    samples = prior.sample(num_samples)\n",
    "\n",
    "    return integrate(\n",
    "        reverse_sde=reverse_sde,\n",
    "        samples=samples,\n",
    "        return_full_trajectory=return_full_trajectory,\n",
    "    )\n",
    "\n",
    "\n",
    "def integrate(reverse_sde, samples, return_full_trajectory=False):\n",
    "    trajectory = integrate_sde(\n",
    "        reverse_sde, samples, 1000 + 1, reverse_time=True, diffusion_scale=0.1\n",
    "    )\n",
    "    if return_full_trajectory:\n",
    "        return trajectory\n",
    "    return trajectory[-1]"
   ]
  },
  {
   "cell_type": "markdown",
   "metadata": {},
   "source": [
    "### SDE Tests"
   ]
  },
  {
   "cell_type": "code",
   "execution_count": 102,
   "metadata": {},
   "outputs": [],
   "source": [
    "class VEReverseSDE(torch.nn.Module):\n",
    "    noise_type = \"diagonal\"\n",
    "    sde_type = \"ito\"\n",
    "\n",
    "    def __init__(self, score, noise_schedule):\n",
    "        super().__init__()\n",
    "        self.score = score\n",
    "        self.noise_schedule = noise_schedule\n",
    "\n",
    "    def f(self, t, x):\n",
    "        if t.dim() == 0:\n",
    "            # repeat the same time for all points if we have a scalar time\n",
    "            t = t * torch.ones(x.shape[0]).to(device)\n",
    "\n",
    "        x.requires_grad = True\n",
    "        score = torch.vmap(self.score, randomness=\"different\", in_dims=(0, 0, None))(\n",
    "            x, 1 - t, self.noise_schedule\n",
    "        )\n",
    "        return self.g(t) ** 2 * score\n",
    "\n",
    "    def g(self, t):\n",
    "        return self.noise_schedule.g(1 - t.unsqueeze(1))"
   ]
  },
  {
   "cell_type": "code",
   "execution_count": 114,
   "metadata": {},
   "outputs": [],
   "source": [
    "def euler_maruyama_step(sde, x, t, dt):\n",
    "    # Calculate drift and diffusion terms\n",
    "    if t.dim() == 0:\n",
    "        # repeat the same time for all points if we have a scalar time\n",
    "        t = t * torch.ones(x.shape[0]).to(device)\n",
    "\n",
    "    drift = sde.f(t, x) * dt\n",
    "    diffusion = sde.g(t) * 0.5 * np.sqrt(dt) * torch.randn_like(x).to(device)\n",
    "\n",
    "    # Update the state\n",
    "    x_next = x + drift + diffusion\n",
    "    return x_next, drift\n",
    "\n",
    "\n",
    "def integrate_sde(sde, x0, t_span, dt):\n",
    "    times = torch.arange(t_span[0], t_span[1], dt).to(device)\n",
    "    x = x0\n",
    "    x0.requires_grad = True\n",
    "    vectors = []\n",
    "    samples = []\n",
    "    with torch.no_grad():\n",
    "        for t in times:\n",
    "            x, f = euler_maruyama_step(sde, x, t, dt)\n",
    "            samples.append(x)\n",
    "            vectors.append(f)\n",
    "    return torch.stack(samples)"
   ]
  },
  {
   "cell_type": "code",
   "execution_count": 115,
   "metadata": {},
   "outputs": [],
   "source": [
    "from src.models.components.noise_schedules import GeometricNoiseSchedule\n",
    "from src.models.components.noise_schedules import (\n",
    "    LinearNoiseSchedule,\n",
    "    SubLinearNoiseSchedule,\n",
    ")"
   ]
  },
  {
   "cell_type": "code",
   "execution_count": 116,
   "metadata": {},
   "outputs": [
    {
     "name": "stdout",
     "output_type": "stream",
     "text": [
      "1.4\n"
     ]
    }
   ],
   "source": [
    "from statistics import LinearRegression\n",
    "\n",
    "\n",
    "sigma = np.sqrt(1.5)\n",
    "beta = torch.tensor(sigma**2)\n",
    "dim = 3\n",
    "n_nodes = 13\n",
    "n_samples = 512  # 512\n",
    "\n",
    "noise_schedule = GeometricNoiseSchedule(np.sqrt(0.1), sigma)\n",
    "# noise_schedule = LinearNoiseSchedule(beta)\n",
    "\n",
    "prior = MeanFreePrior(13, 3, noise_schedule.h(1) ** 0.5, device=device)\n",
    "print(noise_schedule.h(1))\n",
    "x1_samples = prior.sample(n_samples).to(device)"
   ]
  },
  {
   "cell_type": "code",
   "execution_count": 124,
   "metadata": {},
   "outputs": [
    {
     "data": {
      "text/plain": [
       "1.224744871391589"
      ]
     },
     "execution_count": 124,
     "metadata": {},
     "output_type": "execute_result"
    }
   ],
   "source": [
    "sigma"
   ]
  },
  {
   "cell_type": "code",
   "execution_count": 117,
   "metadata": {},
   "outputs": [],
   "source": [
    "t = torch.linspace(0, 1, 1000).to(device)\n",
    "g = noise_schedule.g(t)\n",
    "h = noise_schedule.h(t)"
   ]
  },
  {
   "cell_type": "code",
   "execution_count": 118,
   "metadata": {},
   "outputs": [
    {
     "data": {
      "text/plain": [
       "[<matplotlib.lines.Line2D at 0x7f5fe0a13e50>]"
      ]
     },
     "execution_count": 118,
     "metadata": {},
     "output_type": "execute_result"
    },
    {
     "data": {
      "image/png": "[encoded data removed]",
      "text/plain": [
       "<Figure size 640x480 with 1 Axes>"
      ]
     },
     "metadata": {},
     "output_type": "display_data"
    }
   ],
   "source": [
    "plt.plot(t.cpu(), g.cpu())"
   ]
  },
  {
   "cell_type": "code",
   "execution_count": 119,
   "metadata": {},
   "outputs": [],
   "source": [
    "ve_reverse_sde = VEReverseSDE(estimate_grad_Rt, noise_schedule)\n",
    "samples_pred = integrate_sde(ve_reverse_sde, x1_samples, [0, 1], 1e-3)"
   ]
  },
  {
   "cell_type": "code",
   "execution_count": 120,
   "metadata": {},
   "outputs": [],
   "source": [
    "samples_energy = target(samples_pred[-1])\n",
    "test_data_energy = target(test_data)"
   ]
  },
  {
   "cell_type": "code",
   "execution_count": 121,
   "metadata": {},
   "outputs": [],
   "source": [
    "# plt.hist(-test_data_energy.detach().cpu(), bins=100, density=True, alpha=0.4,\n",
    "#     color=\"g\", histtype='step', linewidth=4, label=\"test data\");"
   ]
  },
  {
   "cell_type": "code",
   "execution_count": 122,
   "metadata": {},
   "outputs": [
    {
     "data": {
      "image/png": "[encoded data removed]",
      "text/plain": [
       "<Figure size 800x800 with 1 Axes>"
      ]
     },
     "metadata": {},
     "output_type": "display_data"
    }
   ],
   "source": [
    "fig = plt.figure(figsize=(8, 8))\n",
    "for i in range(0, 1000, 199):\n",
    "    pred_dists = target.interatomic_dist(samples_pred[i]).detach()\n",
    "    plt.hist(\n",
    "        pred_dists.view(-1).cpu().numpy(),\n",
    "        bins=200,\n",
    "        alpha=0.5,\n",
    "        density=True,\n",
    "        histtype=\"step\",\n",
    "        linewidth=4,\n",
    "    )\n",
    "\n",
    "\n",
    "plt.hist(\n",
    "    dist_test.view(-1).cpu(),\n",
    "    bins=100,\n",
    "    color=\"r\",\n",
    "    alpha=0.5,\n",
    "    density=True,\n",
    "    histtype=\"step\",\n",
    "    linewidth=4,\n",
    ")\n",
    "plt.xlim(0, 5)\n",
    "plt.show()"
   ]
  },
  {
   "cell_type": "code",
   "execution_count": 112,
   "metadata": {},
   "outputs": [
    {
     "data": {
      "image/png": "[encoded data removed]",
      "text/plain": [
       "<Figure size 640x480 with 1 Axes>"
      ]
     },
     "metadata": {},
     "output_type": "display_data"
    }
   ],
   "source": [
    "plt.hist(\n",
    "    -test_data_energy.detach().cpu(),\n",
    "    bins=100,\n",
    "    density=True,\n",
    "    alpha=0.4,\n",
    "    range=(-60, 0),\n",
    "    color=\"g\",\n",
    "    histtype=\"step\",\n",
    "    linewidth=4,\n",
    "    label=\"test data\",\n",
    ")\n",
    "\n",
    "plt.hist(\n",
    "    -samples_energy.detach().cpu(),\n",
    "    bins=100,\n",
    "    density=True,\n",
    "    alpha=0.4,\n",
    "    range=(-60, 0),\n",
    "    color=\"r\",\n",
    "    histtype=\"step\",\n",
    "    linewidth=4,\n",
    "    label=\"generated data\",\n",
    ")\n",
    "plt.xlabel(\"Energy\")\n",
    "plt.legend()\n",
    "plt.show()"
   ]
  },
  {
   "cell_type": "markdown",
   "metadata": {},
   "source": [
    "## Training"
   ]
  },
  {
   "cell_type": "markdown",
   "metadata": {},
   "source": [
    "### Dataset"
   ]
  },
  {
   "cell_type": "code",
   "execution_count": 88,
   "metadata": {},
   "outputs": [],
   "source": [
    "from src.models.components.noise_schedules import LinearNoiseSchedule"
   ]
  },
  {
   "cell_type": "code",
   "execution_count": 89,
   "metadata": {},
   "outputs": [],
   "source": [
    "sigma = np.sqrt(1.5)\n",
    "beta = torch.tensor(sigma**2)\n",
    "dim = 3\n",
    "n_nodes = 13\n",
    "n_samples = 1000  # 512\n",
    "\n",
    "noise_schedule = LinearNoiseSchedule(beta)"
   ]
  },
  {
   "cell_type": "code",
   "execution_count": 90,
   "metadata": {},
   "outputs": [],
   "source": [
    "from src.energies.base_prior import MeanFreePrior"
   ]
  },
  {
   "cell_type": "code",
   "execution_count": 91,
   "metadata": {},
   "outputs": [
    {
     "data": {
      "image/png": "[encoded data removed]",
      "text/plain": [
       "<Figure size 640x480 with 1 Axes>"
      ]
     },
     "metadata": {},
     "output_type": "display_data"
    }
   ],
   "source": [
    "prior = MeanFreePrior(13, 3, sigma, device=device)\n",
    "x1_samples = prior.sample(n_samples).to(device)\n",
    "x1_energy = prior.log_prob(x1_samples)\n",
    "\n",
    "x1_dists = target.interatomic_dist(x1_samples)\n",
    "plt.hist(\n",
    "    x1_dists.view(-1).cpu().numpy(),\n",
    "    bins=100,\n",
    "    alpha=0.5,\n",
    "    density=True,\n",
    "    histtype=\"step\",\n",
    "    linewidth=4,\n",
    ")\n",
    "plt.show()"
   ]
  },
  {
   "cell_type": "markdown",
   "metadata": {},
   "source": [
    "### Model"
   ]
  },
  {
   "cell_type": "code",
   "execution_count": 60,
   "metadata": {},
   "outputs": [],
   "source": [
    "# class VEReverseSDE(torch.nn.Module):\n",
    "\n",
    "#     def __init__(self, score, noise_schedule):\n",
    "#         super().__init__()\n",
    "#         self.score = score\n",
    "#         self.noise_schedule = noise_schedule\n",
    "\n",
    "#     def f(self, t, x):\n",
    "#         with torch.enable_grad():\n",
    "#             if t.dim() == 0:/\n",
    "#                 # repeat the same time for all points if we have a scalar time\n",
    "#                 t = t * torch.ones(x.shape[0]).to(x.device)\n",
    "\n",
    "#             x.requires_grad = True\n",
    "#             score = self.score(t, x)\n",
    "\n",
    "#         return self.g(t, x).pow(2) * score\n",
    "\n",
    "#     def g(self, t, x):\n",
    "#         g = self.noise_schedule.g(t)\n",
    "#         return g.unsqueeze(1) if g.ndim > 0 else torch.full_like(x, g)"
   ]
  },
  {
   "cell_type": "code",
   "execution_count": 61,
   "metadata": {},
   "outputs": [],
   "source": [
    "# class VEReverseSDE(torch.nn.Module):\n",
    "\n",
    "#     def __init__(self, score, noise_schedule):\n",
    "#         super().__init__()\n",
    "#         self.score = score\n",
    "#         self.noise_schedule = noise_schedule\n",
    "\n",
    "#     def f(self, t, x):\n",
    "#         if t.dim() == 0:\n",
    "#             # repeat the same time for all points if we have a scalar time\n",
    "#             t = t * torch.ones(x.shape[0]).to(device)\n",
    "\n",
    "#         x.requires_grad = True\n",
    "#         score = self.score((1-t), x)\n",
    "#         return self.g(t, x)**2 * score\n",
    "\n",
    "#     def g(self, t, x):\n",
    "#         return self.noise_schedule.g(1-t.unsqueeze(1))"
   ]
  },
  {
   "cell_type": "code",
   "execution_count": 43,
   "metadata": {},
   "outputs": [],
   "source": [
    "# def euler_maruyama_step(sde, x, t, dt):\n",
    "#     # Calculate drift and diffusion terms\n",
    "#     if t.dim() == 0:\n",
    "#         # repeat the same time for all points if we have a scalar time\n",
    "#         t = t * torch.ones(x.shape[0]).to(device)\n",
    "\n",
    "#     drift = sde.f(t, x) * dt\n",
    "#     diffusion = sde.g(t, x) * 0.1 * np.sqrt(dt) * torch.randn_like(x).to(device)\n",
    "\n",
    "#     # Update the state\n",
    "#     x_next = x + drift + diffusion\n",
    "#     return x_next, drift\n",
    "\n",
    "# def integrate_sde(sde, x0, t_span, dt):\n",
    "#     times = torch.arange(t_span[0], t_span[1], dt).to(device)\n",
    "#     x = x0\n",
    "#     x0.requires_grad = True\n",
    "#     vectors = []\n",
    "#     samples = []\n",
    "#     with torch.no_grad():\n",
    "#         for t in times:\n",
    "#             x, f = euler_maruyama_step(sde, x, t, dt)\n",
    "#             samples.append(x)\n",
    "#             vectors.append(f)\n",
    "#     return torch.stack(samples)"
   ]
  },
  {
   "cell_type": "markdown",
   "metadata": {},
   "source": [
    "### Training"
   ]
  },
  {
   "cell_type": "code",
   "execution_count": 92,
   "metadata": {},
   "outputs": [],
   "source": [
    "def reward_matching_loss_biased(vectorfield, x, t, noise_schedule, weighted=False):\n",
    "    h_t = noise_schedule.h(t.unsqueeze(1))\n",
    "\n",
    "    x.requires_grad = True\n",
    "\n",
    "    # noisy sample: x(t)\n",
    "    noisy_x = torch.normal(x, h_t**0.5)\n",
    "    pred_scores = vectorfield(t, noisy_x)\n",
    "\n",
    "    estimated_scores = torch.vmap(\n",
    "        estimate_grad_Rt, in_dims=(0, 0, None), randomness=\"different\"\n",
    "    )(noisy_x, t, noise_schedule)\n",
    "    estimated_scores = clip(estimated_scores, max_norm=50)\n",
    "\n",
    "    if weighted:\n",
    "        lambda_t = h_t + 1e-3\n",
    "        err = (\n",
    "            estimated_scores - pred_scores\n",
    "        ) ** 2  # torch.linalg.vector_norm((estimated_scores - pred_scores), dim=-1)**2\n",
    "        return (lambda_t * err).mean()\n",
    "    else:\n",
    "        err = (\n",
    "            estimated_scores - pred_scores\n",
    "        ) ** 2  # torch.linalg.vector_norm((estimated_scores - pred_scores), dim=-1)**2\n",
    "        return err.mean()"
   ]
  },
  {
   "cell_type": "code",
   "execution_count": 93,
   "metadata": {},
   "outputs": [],
   "source": [
    "from src.models.components.prioritised_replay_buffer import SimpleBuffer"
   ]
  },
  {
   "cell_type": "code",
   "execution_count": 94,
   "metadata": {},
   "outputs": [
    {
     "name": "stdout",
     "output_type": "stream",
     "text": [
      "Buffer not initialised, expected that checkpoint will be loaded.\n"
     ]
    }
   ],
   "source": [
    "buffer = SimpleBuffer(\n",
    "    n_nodes * dim,\n",
    "    10000,\n",
    "    1000,\n",
    "    initial_sampler=None,\n",
    "    device=device,\n",
    "    fill_buffer_during_init=False,\n",
    "    sample_with_replacement=True,\n",
    "    prioritize=False,\n",
    ")\n",
    "\n",
    "buffer.add(x1_samples.reshape(-1, n_nodes * dim), x1_energy)"
   ]
  },
  {
   "cell_type": "code",
   "execution_count": 95,
   "metadata": {},
   "outputs": [],
   "source": [
    "outer_epochs = 100\n",
    "inner_epochs = 100\n",
    "\n",
    "batch_size = 512\n",
    "\n",
    "train_dataset = TensorDataset(x1_samples.clone(), x1_energy.clone())\n",
    "trainloader = DataLoader(train_dataset, batch_size=batch_size, shuffle=True)"
   ]
  },
  {
   "cell_type": "code",
   "execution_count": 96,
   "metadata": {},
   "outputs": [],
   "source": [
    "vectorfield = EGNN_dynamics(\n",
    "    n_particles=n_nodes,\n",
    "    n_dimension=dim,\n",
    "    hidden_nf=32,\n",
    "    act_fn=torch.nn.SiLU(),\n",
    "    n_layers=3,\n",
    "    recurrent=True,\n",
    "    tanh=True,\n",
    "    attention=True,\n",
    "    condition_time=True,\n",
    "    agg=\"sum\",\n",
    ").to(device)\n",
    "\n",
    "opt_vectorfield = Adam(vectorfield.parameters(), lr=1e-3)\n",
    "weighted = False"
   ]
  },
  {
   "cell_type": "code",
   "execution_count": 97,
   "metadata": {},
   "outputs": [],
   "source": [
    "from src.models.components.clipper import Clipper"
   ]
  },
  {
   "cell_type": "code",
   "execution_count": 98,
   "metadata": {},
   "outputs": [],
   "source": [
    "clipper_sde = Clipper(\n",
    "    should_clip_scores=False, should_clip_log_rewards=True, max_score_norm=100\n",
    ")"
   ]
  },
  {
   "cell_type": "code",
   "execution_count": 100,
   "metadata": {},
   "outputs": [
    {
     "name": "stderr",
     "output_type": "stream",
     "text": [
      "  0%|          | 0/100 [00:00<?, ?it/s]"
     ]
    },
    {
     "name": "stdout",
     "output_type": "stream",
     "text": [
      "Epoch 0 | Loss 34.949993\n",
      "Epoch 49 | Loss 37.658928\n",
      "Epoch 98 | Loss 35.120689\n"
     ]
    },
    {
     "data": {
      "image/png": "[encoded data removed]",
      "text/plain": [
       "<Figure size 640x480 with 1 Axes>"
      ]
     },
     "metadata": {},
     "output_type": "display_data"
    },
    {
     "name": "stderr",
     "output_type": "stream",
     "text": [
      "  1%|          | 1/100 [01:10<1:56:25, 70.56s/it]"
     ]
    },
    {
     "name": "stdout",
     "output_type": "stream",
     "text": [
      "Epoch 0 | Loss 36.067844\n",
      "Epoch 49 | Loss 35.442318\n",
      "Epoch 98 | Loss 36.970222\n"
     ]
    },
    {
     "data": {
      "image/png": "[encoded data removed]",
      "text/plain": [
       "<Figure size 640x480 with 1 Axes>"
      ]
     },
     "metadata": {},
     "output_type": "display_data"
    },
    {
     "name": "stderr",
     "output_type": "stream",
     "text": [
      "  2%|▏         | 2/100 [02:20<1:54:44, 70.25s/it]"
     ]
    },
    {
     "name": "stdout",
     "output_type": "stream",
     "text": [
      "Epoch 0 | Loss 37.629658\n"
     ]
    },
    {
     "name": "stderr",
     "output_type": "stream",
     "text": [
      "  2%|▏         | 2/100 [02:39<2:10:14, 79.74s/it]\n"
     ]
    },
    {
     "ename": "KeyboardInterrupt",
     "evalue": "",
     "output_type": "error",
     "traceback": [
      "\u001b[0;31m---------------------------------------------------------------------------\u001b[0m",
      "\u001b[0;31mKeyboardInterrupt\u001b[0m                         Traceback (most recent call last)",
      "Cell \u001b[0;32mIn[100], line 10\u001b[0m\n\u001b[1;32m      6\u001b[0m opt_vectorfield\u001b[38;5;241m.\u001b[39mzero_grad()\n\u001b[1;32m      8\u001b[0m t \u001b[38;5;241m=\u001b[39m torch\u001b[38;5;241m.\u001b[39mrand(\u001b[38;5;28mlen\u001b[39m(samples), device\u001b[38;5;241m=\u001b[39mdevice)\n\u001b[0;32m---> 10\u001b[0m loss \u001b[38;5;241m=\u001b[39m \u001b[43mreward_matching_loss_biased\u001b[49m\u001b[43m(\u001b[49m\u001b[43mvectorfield\u001b[49m\u001b[43m,\u001b[49m\u001b[43m \u001b[49m\u001b[43msamples\u001b[49m\u001b[43m,\u001b[49m\u001b[43m \u001b[49m\u001b[43mt\u001b[49m\u001b[43m,\u001b[49m\u001b[43m \u001b[49m\u001b[43mnoise_schedule\u001b[49m\u001b[43m,\u001b[49m\u001b[43m \u001b[49m\u001b[43mweighted\u001b[49m\u001b[38;5;241;43m=\u001b[39;49m\u001b[43mweighted\u001b[49m\u001b[43m)\u001b[49m\n\u001b[1;32m     11\u001b[0m total_loss \u001b[38;5;241m+\u001b[39m\u001b[38;5;241m=\u001b[39m loss\u001b[38;5;241m.\u001b[39mitem()\n\u001b[1;32m     12\u001b[0m loss\u001b[38;5;241m.\u001b[39mbackward()\n",
      "Cell \u001b[0;32mIn[92], line 10\u001b[0m, in \u001b[0;36mreward_matching_loss_biased\u001b[0;34m(vectorfield, x, t, noise_schedule, weighted)\u001b[0m\n\u001b[1;32m      7\u001b[0m noisy_x \u001b[38;5;241m=\u001b[39m torch\u001b[38;5;241m.\u001b[39mnormal(x, h_t \u001b[38;5;241m*\u001b[39m\u001b[38;5;241m*\u001b[39m \u001b[38;5;241m0.5\u001b[39m)\n\u001b[1;32m      8\u001b[0m pred_scores \u001b[38;5;241m=\u001b[39m vectorfield(t, noisy_x)\n\u001b[0;32m---> 10\u001b[0m estimated_scores \u001b[38;5;241m=\u001b[39m \u001b[43mtorch\u001b[49m\u001b[38;5;241;43m.\u001b[39;49m\u001b[43mvmap\u001b[49m\u001b[43m(\u001b[49m\u001b[43mestimate_grad_Rt\u001b[49m\u001b[43m,\u001b[49m\u001b[43m \u001b[49m\u001b[43min_dims\u001b[49m\u001b[38;5;241;43m=\u001b[39;49m\u001b[43m(\u001b[49m\u001b[38;5;241;43m0\u001b[39;49m\u001b[43m,\u001b[49m\u001b[38;5;241;43m0\u001b[39;49m\u001b[43m,\u001b[49m\u001b[38;5;28;43;01mNone\u001b[39;49;00m\u001b[43m)\u001b[49m\u001b[43m,\u001b[49m\u001b[43m \u001b[49m\u001b[43mrandomness\u001b[49m\u001b[38;5;241;43m=\u001b[39;49m\u001b[38;5;124;43m\"\u001b[39;49m\u001b[38;5;124;43mdifferent\u001b[39;49m\u001b[38;5;124;43m\"\u001b[39;49m\u001b[43m)\u001b[49m\u001b[43m(\u001b[49m\u001b[43mnoisy_x\u001b[49m\u001b[43m,\u001b[49m\u001b[43m \u001b[49m\u001b[43mt\u001b[49m\u001b[43m,\u001b[49m\u001b[43m \u001b[49m\u001b[43mnoise_schedule\u001b[49m\u001b[43m)\u001b[49m\n\u001b[1;32m     11\u001b[0m estimated_scores \u001b[38;5;241m=\u001b[39m clip(estimated_scores, max_norm\u001b[38;5;241m=\u001b[39m\u001b[38;5;241m50\u001b[39m)\n\u001b[1;32m     13\u001b[0m \u001b[38;5;28;01mif\u001b[39;00m weighted:\n",
      "File \u001b[0;32m~/.conda/envs/actinfenv/lib/python3.10/site-packages/torch/_functorch/apis.py:188\u001b[0m, in \u001b[0;36mvmap.<locals>.wrapped\u001b[0;34m(*args, **kwargs)\u001b[0m\n\u001b[1;32m    187\u001b[0m \u001b[38;5;28;01mdef\u001b[39;00m \u001b[38;5;21mwrapped\u001b[39m(\u001b[38;5;241m*\u001b[39margs, \u001b[38;5;241m*\u001b[39m\u001b[38;5;241m*\u001b[39mkwargs):\n\u001b[0;32m--> 188\u001b[0m     \u001b[38;5;28;01mreturn\u001b[39;00m \u001b[43mvmap_impl\u001b[49m\u001b[43m(\u001b[49m\u001b[43mfunc\u001b[49m\u001b[43m,\u001b[49m\u001b[43m \u001b[49m\u001b[43min_dims\u001b[49m\u001b[43m,\u001b[49m\u001b[43m \u001b[49m\u001b[43mout_dims\u001b[49m\u001b[43m,\u001b[49m\u001b[43m \u001b[49m\u001b[43mrandomness\u001b[49m\u001b[43m,\u001b[49m\u001b[43m \u001b[49m\u001b[43mchunk_size\u001b[49m\u001b[43m,\u001b[49m\u001b[43m \u001b[49m\u001b[38;5;241;43m*\u001b[39;49m\u001b[43margs\u001b[49m\u001b[43m,\u001b[49m\u001b[43m \u001b[49m\u001b[38;5;241;43m*\u001b[39;49m\u001b[38;5;241;43m*\u001b[39;49m\u001b[43mkwargs\u001b[49m\u001b[43m)\u001b[49m\n",
      "File \u001b[0;32m~/.conda/envs/actinfenv/lib/python3.10/site-packages/torch/_functorch/vmap.py:266\u001b[0m, in \u001b[0;36mvmap_impl\u001b[0;34m(func, in_dims, out_dims, randomness, chunk_size, *args, **kwargs)\u001b[0m\n\u001b[1;32m    262\u001b[0m     \u001b[38;5;28;01mreturn\u001b[39;00m _chunked_vmap(func, flat_in_dims, chunks_flat_args,\n\u001b[1;32m    263\u001b[0m                          args_spec, out_dims, randomness, \u001b[38;5;241m*\u001b[39m\u001b[38;5;241m*\u001b[39mkwargs)\n\u001b[1;32m    265\u001b[0m \u001b[38;5;66;03m# If chunk_size is not specified.\u001b[39;00m\n\u001b[0;32m--> 266\u001b[0m \u001b[38;5;28;01mreturn\u001b[39;00m \u001b[43m_flat_vmap\u001b[49m\u001b[43m(\u001b[49m\n\u001b[1;32m    267\u001b[0m \u001b[43m    \u001b[49m\u001b[43mfunc\u001b[49m\u001b[43m,\u001b[49m\u001b[43m \u001b[49m\u001b[43mbatch_size\u001b[49m\u001b[43m,\u001b[49m\u001b[43m \u001b[49m\u001b[43mflat_in_dims\u001b[49m\u001b[43m,\u001b[49m\u001b[43m \u001b[49m\u001b[43mflat_args\u001b[49m\u001b[43m,\u001b[49m\u001b[43m \u001b[49m\u001b[43margs_spec\u001b[49m\u001b[43m,\u001b[49m\u001b[43m \u001b[49m\u001b[43mout_dims\u001b[49m\u001b[43m,\u001b[49m\u001b[43m \u001b[49m\u001b[43mrandomness\u001b[49m\u001b[43m,\u001b[49m\u001b[43m \u001b[49m\u001b[38;5;241;43m*\u001b[39;49m\u001b[38;5;241;43m*\u001b[39;49m\u001b[43mkwargs\u001b[49m\n\u001b[1;32m    268\u001b[0m \u001b[43m\u001b[49m\u001b[43m)\u001b[49m\n",
      "File \u001b[0;32m~/.conda/envs/actinfenv/lib/python3.10/site-packages/torch/_functorch/vmap.py:38\u001b[0m, in \u001b[0;36mdoesnt_support_saved_tensors_hooks.<locals>.fn\u001b[0;34m(*args, **kwargs)\u001b[0m\n\u001b[1;32m     35\u001b[0m \u001b[38;5;129m@functools\u001b[39m\u001b[38;5;241m.\u001b[39mwraps(f)\n\u001b[1;32m     36\u001b[0m \u001b[38;5;28;01mdef\u001b[39;00m \u001b[38;5;21mfn\u001b[39m(\u001b[38;5;241m*\u001b[39margs, \u001b[38;5;241m*\u001b[39m\u001b[38;5;241m*\u001b[39mkwargs):\n\u001b[1;32m     37\u001b[0m     \u001b[38;5;28;01mwith\u001b[39;00m torch\u001b[38;5;241m.\u001b[39mautograd\u001b[38;5;241m.\u001b[39mgraph\u001b[38;5;241m.\u001b[39mdisable_saved_tensors_hooks(message):\n\u001b[0;32m---> 38\u001b[0m         \u001b[38;5;28;01mreturn\u001b[39;00m \u001b[43mf\u001b[49m\u001b[43m(\u001b[49m\u001b[38;5;241;43m*\u001b[39;49m\u001b[43margs\u001b[49m\u001b[43m,\u001b[49m\u001b[43m \u001b[49m\u001b[38;5;241;43m*\u001b[39;49m\u001b[38;5;241;43m*\u001b[39;49m\u001b[43mkwargs\u001b[49m\u001b[43m)\u001b[49m\n",
      "File \u001b[0;32m~/.conda/envs/actinfenv/lib/python3.10/site-packages/torch/_functorch/vmap.py:379\u001b[0m, in \u001b[0;36m_flat_vmap\u001b[0;34m(func, batch_size, flat_in_dims, flat_args, args_spec, out_dims, randomness, **kwargs)\u001b[0m\n\u001b[1;32m    377\u001b[0m \u001b[38;5;28;01mtry\u001b[39;00m:\n\u001b[1;32m    378\u001b[0m     batched_inputs \u001b[38;5;241m=\u001b[39m _create_batched_inputs(flat_in_dims, flat_args, vmap_level, args_spec)\n\u001b[0;32m--> 379\u001b[0m     batched_outputs \u001b[38;5;241m=\u001b[39m \u001b[43mfunc\u001b[49m\u001b[43m(\u001b[49m\u001b[38;5;241;43m*\u001b[39;49m\u001b[43mbatched_inputs\u001b[49m\u001b[43m,\u001b[49m\u001b[43m \u001b[49m\u001b[38;5;241;43m*\u001b[39;49m\u001b[38;5;241;43m*\u001b[39;49m\u001b[43mkwargs\u001b[49m\u001b[43m)\u001b[49m\n\u001b[1;32m    380\u001b[0m     \u001b[38;5;28;01mreturn\u001b[39;00m _unwrap_batched(batched_outputs, out_dims, vmap_level, batch_size, func)\n\u001b[1;32m    381\u001b[0m \u001b[38;5;28;01mfinally\u001b[39;00m:\n",
      "Cell \u001b[0;32mIn[12], line 2\u001b[0m, in \u001b[0;36mestimate_grad_Rt\u001b[0;34m(x, t, noise_schedule, num_mc_samples, var_exploding, richardson)\u001b[0m\n\u001b[1;32m      1\u001b[0m \u001b[38;5;28;01mdef\u001b[39;00m \u001b[38;5;21mestimate_grad_Rt\u001b[39m(x, t, noise_schedule, num_mc_samples\u001b[38;5;241m=\u001b[39m\u001b[38;5;241m100\u001b[39m, var_exploding\u001b[38;5;241m=\u001b[39m\u001b[38;5;28;01mTrue\u001b[39;00m, richardson\u001b[38;5;241m=\u001b[39m\u001b[38;5;28;01mFalse\u001b[39;00m):\n\u001b[0;32m----> 2\u001b[0m     est_scores_n \u001b[38;5;241m=\u001b[39m \u001b[43mtorch\u001b[49m\u001b[38;5;241;43m.\u001b[39;49m\u001b[43mfunc\u001b[49m\u001b[38;5;241;43m.\u001b[39;49m\u001b[43mgrad\u001b[49m\u001b[43m(\u001b[49m\u001b[43mlog_E_R\u001b[49m\u001b[43m)\u001b[49m\u001b[43m(\u001b[49m\u001b[43mx\u001b[49m\u001b[43m,\u001b[49m\u001b[43m \u001b[49m\u001b[43mt\u001b[49m\u001b[43m,\u001b[49m\u001b[43m \u001b[49m\u001b[43mnoise_schedule\u001b[49m\u001b[43m,\u001b[49m\u001b[43m \u001b[49m\u001b[43mnum_mc_samples\u001b[49m\u001b[43m,\u001b[49m\u001b[43m \u001b[49m\u001b[43mvar_exploding\u001b[49m\u001b[38;5;241;43m=\u001b[39;49m\u001b[43mvar_exploding\u001b[49m\u001b[43m)\u001b[49m\n\u001b[1;32m      3\u001b[0m     \u001b[38;5;28;01mif\u001b[39;00m richardson:\n\u001b[1;32m      4\u001b[0m         est_scores_n_div2 \u001b[38;5;241m=\u001b[39m torch\u001b[38;5;241m.\u001b[39mfunc\u001b[38;5;241m.\u001b[39mgrad(log_E_R)(x, t, noise_schedule, num_mc_samples\u001b[38;5;241m/\u001b[39m\u001b[38;5;241m/\u001b[39m\u001b[38;5;241m2\u001b[39m, var_exploding\u001b[38;5;241m=\u001b[39mvar_exploding)\n",
      "File \u001b[0;32m~/.conda/envs/actinfenv/lib/python3.10/site-packages/torch/_functorch/apis.py:363\u001b[0m, in \u001b[0;36mgrad.<locals>.wrapper\u001b[0;34m(*args, **kwargs)\u001b[0m\n\u001b[1;32m    361\u001b[0m \u001b[38;5;129m@functools\u001b[39m\u001b[38;5;241m.\u001b[39mwraps(func)\n\u001b[1;32m    362\u001b[0m \u001b[38;5;28;01mdef\u001b[39;00m \u001b[38;5;21mwrapper\u001b[39m(\u001b[38;5;241m*\u001b[39margs, \u001b[38;5;241m*\u001b[39m\u001b[38;5;241m*\u001b[39mkwargs):\n\u001b[0;32m--> 363\u001b[0m     \u001b[38;5;28;01mreturn\u001b[39;00m \u001b[43meager_transforms\u001b[49m\u001b[38;5;241;43m.\u001b[39;49m\u001b[43mgrad_impl\u001b[49m\u001b[43m(\u001b[49m\u001b[43mfunc\u001b[49m\u001b[43m,\u001b[49m\u001b[43m \u001b[49m\u001b[43margnums\u001b[49m\u001b[43m,\u001b[49m\u001b[43m \u001b[49m\u001b[43mhas_aux\u001b[49m\u001b[43m,\u001b[49m\u001b[43m \u001b[49m\u001b[43margs\u001b[49m\u001b[43m,\u001b[49m\u001b[43m \u001b[49m\u001b[43mkwargs\u001b[49m\u001b[43m)\u001b[49m\n",
      "File \u001b[0;32m~/.conda/envs/actinfenv/lib/python3.10/site-packages/torch/_functorch/eager_transforms.py:1287\u001b[0m, in \u001b[0;36mgrad_impl\u001b[0;34m(func, argnums, has_aux, args, kwargs)\u001b[0m\n\u001b[1;32m   1285\u001b[0m \u001b[38;5;28;01mdef\u001b[39;00m \u001b[38;5;21mgrad_impl\u001b[39m(func: Callable, argnums: argnums_t, has_aux: \u001b[38;5;28mbool\u001b[39m, args, kwargs):\n\u001b[1;32m   1286\u001b[0m     func \u001b[38;5;241m=\u001b[39m lazy_dynamo_disable(func)\n\u001b[0;32m-> 1287\u001b[0m     results \u001b[38;5;241m=\u001b[39m \u001b[43mgrad_and_value\u001b[49m\u001b[43m(\u001b[49m\u001b[43mfunc\u001b[49m\u001b[43m,\u001b[49m\u001b[43m \u001b[49m\u001b[43margnums\u001b[49m\u001b[43m,\u001b[49m\u001b[43m \u001b[49m\u001b[43mhas_aux\u001b[49m\u001b[38;5;241;43m=\u001b[39;49m\u001b[43mhas_aux\u001b[49m\u001b[43m)\u001b[49m\u001b[43m(\u001b[49m\u001b[38;5;241;43m*\u001b[39;49m\u001b[43margs\u001b[49m\u001b[43m,\u001b[49m\u001b[43m \u001b[49m\u001b[38;5;241;43m*\u001b[39;49m\u001b[38;5;241;43m*\u001b[39;49m\u001b[43mkwargs\u001b[49m\u001b[43m)\u001b[49m\n\u001b[1;32m   1288\u001b[0m     \u001b[38;5;28;01mif\u001b[39;00m has_aux:\n\u001b[1;32m   1289\u001b[0m         grad, (_, aux) \u001b[38;5;241m=\u001b[39m results\n",
      "File \u001b[0;32m~/.conda/envs/actinfenv/lib/python3.10/site-packages/torch/_functorch/vmap.py:38\u001b[0m, in \u001b[0;36mdoesnt_support_saved_tensors_hooks.<locals>.fn\u001b[0;34m(*args, **kwargs)\u001b[0m\n\u001b[1;32m     35\u001b[0m \u001b[38;5;129m@functools\u001b[39m\u001b[38;5;241m.\u001b[39mwraps(f)\n\u001b[1;32m     36\u001b[0m \u001b[38;5;28;01mdef\u001b[39;00m \u001b[38;5;21mfn\u001b[39m(\u001b[38;5;241m*\u001b[39margs, \u001b[38;5;241m*\u001b[39m\u001b[38;5;241m*\u001b[39mkwargs):\n\u001b[1;32m     37\u001b[0m     \u001b[38;5;28;01mwith\u001b[39;00m torch\u001b[38;5;241m.\u001b[39mautograd\u001b[38;5;241m.\u001b[39mgraph\u001b[38;5;241m.\u001b[39mdisable_saved_tensors_hooks(message):\n\u001b[0;32m---> 38\u001b[0m         \u001b[38;5;28;01mreturn\u001b[39;00m \u001b[43mf\u001b[49m\u001b[43m(\u001b[49m\u001b[38;5;241;43m*\u001b[39;49m\u001b[43margs\u001b[49m\u001b[43m,\u001b[49m\u001b[43m \u001b[49m\u001b[38;5;241;43m*\u001b[39;49m\u001b[38;5;241;43m*\u001b[39;49m\u001b[43mkwargs\u001b[49m\u001b[43m)\u001b[49m\n",
      "File \u001b[0;32m~/.conda/envs/actinfenv/lib/python3.10/site-packages/torch/_functorch/eager_transforms.py:1248\u001b[0m, in \u001b[0;36mgrad_and_value.<locals>.wrapper\u001b[0;34m(*args, **kwargs)\u001b[0m\n\u001b[1;32m   1245\u001b[0m diff_args \u001b[38;5;241m=\u001b[39m _slice_argnums(args, argnums, as_tuple\u001b[38;5;241m=\u001b[39m\u001b[38;5;28;01mFalse\u001b[39;00m)\n\u001b[1;32m   1246\u001b[0m tree_map_(partial(_create_differentiable, level\u001b[38;5;241m=\u001b[39mlevel), diff_args)\n\u001b[0;32m-> 1248\u001b[0m output \u001b[38;5;241m=\u001b[39m \u001b[43mfunc\u001b[49m\u001b[43m(\u001b[49m\u001b[38;5;241;43m*\u001b[39;49m\u001b[43margs\u001b[49m\u001b[43m,\u001b[49m\u001b[43m \u001b[49m\u001b[38;5;241;43m*\u001b[39;49m\u001b[38;5;241;43m*\u001b[39;49m\u001b[43mkwargs\u001b[49m\u001b[43m)\u001b[49m\n\u001b[1;32m   1249\u001b[0m \u001b[38;5;28;01mif\u001b[39;00m has_aux:\n\u001b[1;32m   1250\u001b[0m     \u001b[38;5;28;01mif\u001b[39;00m \u001b[38;5;129;01mnot\u001b[39;00m (\u001b[38;5;28misinstance\u001b[39m(output, \u001b[38;5;28mtuple\u001b[39m) \u001b[38;5;129;01mand\u001b[39;00m \u001b[38;5;28mlen\u001b[39m(output) \u001b[38;5;241m==\u001b[39m \u001b[38;5;241m2\u001b[39m):\n",
      "File \u001b[0;32m~/.conda/envs/actinfenv/lib/python3.10/site-packages/torch/_dynamo/eval_frame.py:328\u001b[0m, in \u001b[0;36m_TorchDynamoContext.__call__.<locals>._fn\u001b[0;34m(*args, **kwargs)\u001b[0m\n\u001b[1;32m    326\u001b[0m dynamic_ctx\u001b[38;5;241m.\u001b[39m\u001b[38;5;21m__enter__\u001b[39m()\n\u001b[1;32m    327\u001b[0m \u001b[38;5;28;01mtry\u001b[39;00m:\n\u001b[0;32m--> 328\u001b[0m     \u001b[38;5;28;01mreturn\u001b[39;00m \u001b[43mfn\u001b[49m\u001b[43m(\u001b[49m\u001b[38;5;241;43m*\u001b[39;49m\u001b[43margs\u001b[49m\u001b[43m,\u001b[49m\u001b[43m \u001b[49m\u001b[38;5;241;43m*\u001b[39;49m\u001b[38;5;241;43m*\u001b[39;49m\u001b[43mkwargs\u001b[49m\u001b[43m)\u001b[49m\n\u001b[1;32m    329\u001b[0m \u001b[38;5;28;01mfinally\u001b[39;00m:\n\u001b[1;32m    330\u001b[0m     set_eval_frame(prior)\n",
      "Cell \u001b[0;32mIn[10], line 9\u001b[0m, in \u001b[0;36mlog_E_R\u001b[0;34m(_x, _t, noise_schedule, num_mc_samples, var_exploding)\u001b[0m\n\u001b[1;32m      6\u001b[0m h_t \u001b[38;5;241m=\u001b[39m h_t\u001b[38;5;241m.\u001b[39munsqueeze(\u001b[38;5;241m1\u001b[39m)\n\u001b[1;32m      7\u001b[0m \u001b[38;5;28;01mif\u001b[39;00m var_exploding:\n\u001b[1;32m      8\u001b[0m     \u001b[38;5;66;03m# variance exploding\u001b[39;00m\n\u001b[0;32m----> 9\u001b[0m     samples \u001b[38;5;241m=\u001b[39m repeated_x \u001b[38;5;241m+\u001b[39m \u001b[43mtorch\u001b[49m\u001b[38;5;241;43m.\u001b[39;49m\u001b[43mrandn\u001b[49m\u001b[43m(\u001b[49m\u001b[43mrepeated_x\u001b[49m\u001b[38;5;241;43m.\u001b[39;49m\u001b[43mshape\u001b[49m\u001b[43m)\u001b[49m\u001b[38;5;241m.\u001b[39mto(device) \u001b[38;5;241m*\u001b[39m (h_t \u001b[38;5;241m*\u001b[39m\u001b[38;5;241m*\u001b[39m \u001b[38;5;241m0.5\u001b[39m)\n\u001b[1;32m     10\u001b[0m     log_rewards \u001b[38;5;241m=\u001b[39m target(samples)\u001b[38;5;241m.\u001b[39msqueeze()\n\u001b[1;32m     11\u001b[0m     log_expectation_R \u001b[38;5;241m=\u001b[39m torch\u001b[38;5;241m.\u001b[39mlogsumexp(log_rewards, dim\u001b[38;5;241m=\u001b[39m\n\u001b[1;32m     12\u001b[0m                                         \u001b[38;5;241m-\u001b[39m\u001b[38;5;241m1\u001b[39m) \u001b[38;5;241m-\u001b[39m np\u001b[38;5;241m.\u001b[39mlog(num_mc_samples)\n",
      "\u001b[0;31mKeyboardInterrupt\u001b[0m: "
     ]
    }
   ],
   "source": [
    "for epoch in tqdm(range(outer_epochs)):\n",
    "    for epoch in range(inner_epochs):\n",
    "        total_loss = 0.0\n",
    "        for samples, _ in trainloader:\n",
    "            samples = samples.to(device)\n",
    "            opt_vectorfield.zero_grad()\n",
    "\n",
    "            t = torch.rand(len(samples), device=device)\n",
    "\n",
    "            loss = reward_matching_loss_biased(\n",
    "                vectorfield, samples, t, noise_schedule, weighted=weighted\n",
    "            )\n",
    "            total_loss += loss.item()\n",
    "            loss.backward()\n",
    "            opt_vectorfield.step()\n",
    "        if epoch % 49 == 0:\n",
    "            print(\"Epoch %d | Loss %f\" % (epoch, loss.item()))\n",
    "\n",
    "    # Generate samples using the vector field\n",
    "\n",
    "    # ve_reverse_sde = VEReverseSDE(\n",
    "    #             clipper_sde.wrap_grad_fxn(vectorfield),\n",
    "    #             noise_schedule\n",
    "    #           )\n",
    "\n",
    "    ve_reverse_sde = VEReverseSDE(vectorfield, noise_schedule)\n",
    "    samples = generate_samples(ve_reverse_sde, n_samples, return_full_trajectory=False)\n",
    "    # x1_samples = prior.sample(n_samples)\n",
    "    # samples = integrate_sde(ve_reverse_sde, x1_samples, [0, 1], 1e-3)[-1]\n",
    "    samples_energy = target(samples).detach().squeeze()\n",
    "\n",
    "    # Update Buffer\n",
    "    buffer.add(samples, samples_energy)\n",
    "\n",
    "    dist_samples = target.interatomic_dist(samples)\n",
    "\n",
    "    plt.hist(\n",
    "        dist_samples.view(-1).detach().cpu().numpy(),\n",
    "        bins=200,\n",
    "        alpha=0.5,\n",
    "        density=True,\n",
    "        histtype=\"step\",\n",
    "        linewidth=4,\n",
    "    )\n",
    "    plt.hist(\n",
    "        dist_test.view(-1).detach().cpu().numpy(),\n",
    "        bins=100,\n",
    "        alpha=0.5,\n",
    "        density=True,\n",
    "        histtype=\"step\",\n",
    "        linewidth=4,\n",
    "    )\n",
    "    plt.show()\n",
    "    # target.get_dist_hist(samples)\n",
    "\n",
    "    # Resample data from the buffer\n",
    "    samples, samples_energy, _ = buffer.sample(512 * 10)\n",
    "    train_dataset = TensorDataset(samples, samples_energy)\n",
    "    trainloader = DataLoader(train_dataset, batch_size=batch_size, shuffle=True)"
   ]
  },
  {
   "cell_type": "code",
   "execution_count": null,
   "metadata": {},
   "outputs": [],
   "source": [
    "x1_samples = prior.sample(10000).reshape(-1, n_nodes * dim)\n",
    "ve_reverse_sde = VEReverseSDE(vectorfield, noise_schedule)\n",
    "samples = integrate_sde(ve_reverse_sde, x1_samples, [0, 1], 1e-3)[-1]\n",
    "\n",
    "\n",
    "samples_energy = -target._log_prob(samples).detach().squeeze()\n",
    "test_energy = -target._log_prob(test_data).detach().squeeze()"
   ]
  },
  {
   "cell_type": "code",
   "execution_count": null,
   "metadata": {},
   "outputs": [
    {
     "data": {
      "text/plain": [
       "torch.Size([500000, 39])"
      ]
     },
     "execution_count": 376,
     "metadata": {},
     "output_type": "execute_result"
    }
   ],
   "source": [
    "data_holdout.shape"
   ]
  },
  {
   "cell_type": "code",
   "execution_count": null,
   "metadata": {},
   "outputs": [
    {
     "data": {
      "text/plain": [
       "torch.Size([1000])"
      ]
     },
     "execution_count": 56,
     "metadata": {},
     "output_type": "execute_result"
    }
   ],
   "source": [
    "test_energy.shape"
   ]
  },
  {
   "cell_type": "code",
   "execution_count": null,
   "metadata": {},
   "outputs": [],
   "source": [
    "min_energy = min(test_energy.min(), samples_energy.min()).cpu().item()\n",
    "max_energy = max(test_energy.max(), samples_energy.max()).cpu().item()"
   ]
  },
  {
   "cell_type": "code",
   "execution_count": null,
   "metadata": {},
   "outputs": [
    {
     "data": {
      "text/plain": [
       "<matplotlib.legend.Legend at 0x7faac1c53580>"
      ]
     },
     "execution_count": 58,
     "metadata": {},
     "output_type": "execute_result"
    },
    {
     "data": {
      "image/png": "[encoded data removed]",
      "text/plain": [
       "<Figure size 640x480 with 1 Axes>"
      ]
     },
     "metadata": {},
     "output_type": "display_data"
    }
   ],
   "source": [
    "plt.hist(\n",
    "    test_energy.cpu(),\n",
    "    bins=100,\n",
    "    density=True,\n",
    "    alpha=0.4,\n",
    "    range=(-60, 0),\n",
    "    color=\"g\",\n",
    "    histtype=\"step\",\n",
    "    linewidth=4,\n",
    "    label=\"test data\",\n",
    ")\n",
    "\n",
    "plt.hist(\n",
    "    samples_energy.cpu(),\n",
    "    bins=100,\n",
    "    density=True,\n",
    "    alpha=0.4,\n",
    "    range=(-60, 0),\n",
    "    color=\"r\",\n",
    "    histtype=\"step\",\n",
    "    linewidth=4,\n",
    "    label=\"generated data\",\n",
    ")\n",
    "plt.xlabel(\"Energy\")\n",
    "plt.legend()"
   ]
  },
  {
   "cell_type": "code",
   "execution_count": null,
   "metadata": {},
   "outputs": [
    {
     "data": {
      "image/png": "[encoded data removed]",
      "text/plain": [
       "<Figure size 640x480 with 1 Axes>"
      ]
     },
     "metadata": {},
     "output_type": "display_data"
    }
   ],
   "source": [
    "dist_samples = interatomic_dist(samples.reshape(-1, n_nodes, dim))\n",
    "dist_holdout = interatomic_dist(data_holdout.reshape(-1, n_nodes, dim))\n",
    "plt.hist(\n",
    "    dist_samples.view(-1).detach().cpu().numpy(),\n",
    "    bins=200,\n",
    "    alpha=0.5,\n",
    "    density=True,\n",
    "    histtype=\"step\",\n",
    "    linewidth=4,\n",
    ")\n",
    "plt.hist(\n",
    "    dist_holdout.view(-1).detach().cpu().numpy(),\n",
    "    bins=100,\n",
    "    alpha=0.5,\n",
    "    density=True,\n",
    "    histtype=\"step\",\n",
    "    linewidth=4,\n",
    ");"
   ]
  },
  {
   "cell_type": "markdown",
   "metadata": {},
   "source": [
    "### Evaluation"
   ]
  },
  {
   "cell_type": "markdown",
   "metadata": {},
   "source": [
    "### NLL"
   ]
  },
  {
   "cell_type": "code",
   "execution_count": null,
   "metadata": {},
   "outputs": [],
   "source": [
    "follow_estimate = False\n",
    "follow_model = True\n",
    "reverse_time = False"
   ]
  },
  {
   "cell_type": "code",
   "execution_count": null,
   "metadata": {},
   "outputs": [],
   "source": [
    "def prior_dist(beta):\n",
    "    dist = torch.distributions.MultivariateNormal(\n",
    "        torch.zeros(n_nodes * dim).to(device),\n",
    "        torch.eye(n_nodes * dim).to(device) * beta,\n",
    "    )\n",
    "    return dist"
   ]
  },
  {
   "cell_type": "code",
   "execution_count": null,
   "metadata": {},
   "outputs": [],
   "source": [
    "def drift(x, t):\n",
    "    with torch.enable_grad():\n",
    "        x.requires_grad = True\n",
    "\n",
    "        if follow_estimate:\n",
    "            f = estimate_grad_Rt(x, t, noise_schedule, num_mc_samples=100)\n",
    "            f = clip(f, max_norm=100)\n",
    "            f = -0.5 * noise_schedule.g(t) ** 2 * f\n",
    "\n",
    "        else:\n",
    "            f = vectorfield(t.unsqueeze(-1), x)\n",
    "            # f = clip(f, max_norm=100)\n",
    "            f = -0.5 * noise_schedule.g(t)[0] ** 2 * f\n",
    "\n",
    "    return f"
   ]
  },
  {
   "cell_type": "code",
   "execution_count": null,
   "metadata": {},
   "outputs": [],
   "source": [
    "def div_fn(u):\n",
    "    \"\"\"Accepts a function u:R^D -> R^D.\"\"\"\n",
    "    J = jacrev(u)\n",
    "    if follow_model:\n",
    "\n",
    "        def div(x):\n",
    "            return torch.trace(J(x.unsqueeze(0)).squeeze())\n",
    "\n",
    "        return div\n",
    "    else:\n",
    "        return lambda x: torch.trace(J(x))\n",
    "\n",
    "\n",
    "def output_and_div(vecfield, x):\n",
    "    if follow_estimate:\n",
    "        dx = torch.vmap(vecfield, randomness=\"different\")(x)\n",
    "    else:\n",
    "        dx = vecfield(x)\n",
    "\n",
    "    if reverse_time:\n",
    "        div = torch.zeros((x.shape[0]), device=device)\n",
    "    else:\n",
    "        div = torch.vmap(div_fn(vecfield), randomness=\"different\")(x)\n",
    "    return dx, div"
   ]
  },
  {
   "cell_type": "code",
   "execution_count": null,
   "metadata": {},
   "outputs": [
    {
     "ename": "NameError",
     "evalue": "name 'reverse_time' is not defined",
     "output_type": "error",
     "traceback": [
      "\u001b[0;31m---------------------------------------------------------------------------\u001b[0m",
      "\u001b[0;31mNameError\u001b[0m                                 Traceback (most recent call last)",
      "Cell \u001b[0;32mIn[36], line 15\u001b[0m\n\u001b[1;32m     12\u001b[0m     \u001b[38;5;28;01mreturn\u001b[39;00m torch\u001b[38;5;241m.\u001b[39mcat([dx, div], dim\u001b[38;5;241m=\u001b[39m\u001b[38;5;241m-\u001b[39m\u001b[38;5;241m1\u001b[39m)\n\u001b[1;32m     14\u001b[0m \u001b[38;5;28;01mwith\u001b[39;00m torch\u001b[38;5;241m.\u001b[39mno_grad():\n\u001b[0;32m---> 15\u001b[0m     \u001b[38;5;28;01mif\u001b[39;00m \u001b[43mreverse_time\u001b[49m:\n\u001b[1;32m     16\u001b[0m         x1 \u001b[38;5;241m=\u001b[39m torch\u001b[38;5;241m.\u001b[39mrandn(\u001b[38;5;241m1024\u001b[39m, \u001b[38;5;241m39\u001b[39m)\u001b[38;5;241m.\u001b[39mto(device) \u001b[38;5;241m*\u001b[39m sigma\n\u001b[1;32m     17\u001b[0m         time \u001b[38;5;241m=\u001b[39m torch\u001b[38;5;241m.\u001b[39mlinspace(\u001b[38;5;241m1\u001b[39m, \u001b[38;5;241m0\u001b[39m, \u001b[38;5;241m1000\u001b[39m)\u001b[38;5;241m.\u001b[39mto(device)\n",
      "\u001b[0;31mNameError\u001b[0m: name 'reverse_time' is not defined"
     ]
    }
   ],
   "source": [
    "def odefunc(t, x_in):\n",
    "    x = x_in[..., :-1].clone().detach().requires_grad_(True)\n",
    "    t = t.to(device)\n",
    "\n",
    "    vecfield = lambda x: drift(x, t)\n",
    "    if follow_model:\n",
    "\n",
    "        def vecfield(x):\n",
    "            return drift(x, torch.ones(x.shape[0]).to(device) * t)\n",
    "\n",
    "    dx, div = output_and_div(vecfield, x)\n",
    "    div = div.reshape(-1, 1)\n",
    "    return torch.cat([dx, div], dim=-1)\n",
    "\n",
    "\n",
    "with torch.no_grad():\n",
    "    if reverse_time:\n",
    "        x1 = torch.randn(1024, 39).to(device) * sigma\n",
    "        time = torch.linspace(1, 0, 1000).to(device)\n",
    "    else:\n",
    "        x1 = test_data\n",
    "        time = torch.linspace(0, 1, 100).to(device)\n",
    "    state1 = torch.cat([x1, torch.zeros_like(x1[..., :1])], dim=-1)\n",
    "    state1.requires_grad = True\n",
    "    state0 = odeint(odefunc, state1, t=time, method=\"euler\")[-1]\n",
    "\n",
    "    x0, logdetjac = state0[..., :-1], state0[..., -1]\n",
    "    p0 = prior_dist(beta)\n",
    "    logp0 = p0.log_prob(x0)\n",
    "    logp1 = -(logp0 + logdetjac)"
   ]
  },
  {
   "cell_type": "code",
   "execution_count": null,
   "metadata": {},
   "outputs": [
    {
     "name": "stdout",
     "output_type": "stream",
     "text": [
      "logp0 tensor(-47.5622, device='cuda:0')\n",
      "logdetjac tensor(-15.4821, device='cuda:0')\n",
      "logp1 tensor(63.0443, device='cuda:0')\n"
     ]
    }
   ],
   "source": [
    "print(\"logp0\", logp0.mean())\n",
    "print(\"logdetjac\", logdetjac.mean())\n",
    "print(\"logp1\", logp1.mean())"
   ]
  },
  {
   "cell_type": "code",
   "execution_count": null,
   "metadata": {},
   "outputs": [
    {
     "name": "stdout",
     "output_type": "stream",
     "text": [
      "true_logp0 tensor(-63.3848, device='cuda:0')\n"
     ]
    }
   ],
   "source": [
    "x0_true = torch.randn((1000, n_nodes * dim), device=device) * np.sqrt(beta)\n",
    "true_logp0 = p0.log_prob(x0_true.view(-1, 39))\n",
    "print(\"true_logp0\", true_logp0.mean())"
   ]
  },
  {
   "cell_type": "code",
   "execution_count": null,
   "metadata": {},
   "outputs": [
    {
     "data": {
      "image/png": "[encoded data removed]",
      "text/plain": [
       "<Figure size 640x480 with 1 Axes>"
      ]
     },
     "metadata": {},
     "output_type": "display_data"
    }
   ],
   "source": [
    "x0 = x0.reshape(-1, n_nodes, dim)\n",
    "x0_dists = interatomic_dist(x0)\n",
    "x0_true_dists = interatomic_dist(x0_true.reshape(-1, n_nodes, dim)).detach()\n",
    "test_dists = interatomic_dist(test_data.reshape(-1, n_nodes, dim))\n",
    "\n",
    "plt.hist(\n",
    "    x0_dists.view(-1).detach().cpu().numpy(),\n",
    "    bins=200,\n",
    "    alpha=0.5,\n",
    "    density=True,\n",
    "    histtype=\"step\",\n",
    "    linewidth=4,\n",
    "    label=\"x0\",\n",
    ")\n",
    "plt.hist(\n",
    "    x0_true_dists.view(-1).detach().cpu().numpy(),\n",
    "    bins=200,\n",
    "    alpha=0.5,\n",
    "    density=True,\n",
    "    histtype=\"step\",\n",
    "    linewidth=4,\n",
    "    label=\"true prior\",\n",
    ")\n",
    "plt.hist(\n",
    "    test_dists.view(-1).cpu().numpy(),\n",
    "    bins=200,\n",
    "    alpha=0.5,\n",
    "    density=True,\n",
    "    histtype=\"step\",\n",
    "    linewidth=4,\n",
    "    label=\"true x1\",\n",
    ")\n",
    "plt.xlim(0.05, 8)\n",
    "plt.ylim(0, 2.0)\n",
    "plt.legend()\n",
    "plt.show()"
   ]
  },
  {
   "cell_type": "code",
   "execution_count": null,
   "metadata": {},
   "outputs": [],
   "source": []
  }
 ],
 "metadata": {
  "kernelspec": {
   "display_name": "Python 3",
   "language": "python",
   "name": "python3"
  },
  "language_info": {
   "codemirror_mode": {
    "name": "ipython",
    "version": 3
   },
   "file_extension": ".py",
   "mimetype": "text/x-python",
   "name": "python",
   "nbconvert_exporter": "python",
   "pygments_lexer": "ipython3",
   "version": "3.10.4"
  }
 },
 "nbformat": 4,
 "nbformat_minor": 2
}
