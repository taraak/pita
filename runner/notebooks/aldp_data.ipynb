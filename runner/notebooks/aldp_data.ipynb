{
 "cells": [
  {
   "cell_type": "code",
   "execution_count": null,
   "metadata": {},
   "outputs": [],
   "source": [
    "%load_ext autoreload\n",
    "%autoreload 2"
   ]
  },
  {
   "cell_type": "code",
   "execution_count": null,
   "metadata": {},
   "outputs": [],
   "source": [
    "import matplotlib.pyplot as plt\n",
    "import numpy as np\n",
    "import torch\n",
    "from src.energies.alp_energy import ALPEnergy"
   ]
  },
  {
   "cell_type": "code",
   "execution_count": null,
   "metadata": {},
   "outputs": [],
   "source": [
    "device = \"cuda\" if torch.cuda.is_available() else \"cpu\""
   ]
  },
  {
   "cell_type": "code",
   "execution_count": null,
   "metadata": {},
   "outputs": [],
   "source": [
    "n_particles = 22\n",
    "n_spatial_dim = 3\n",
    "dimensionality = n_spatial_dim * n_particles\n",
    "\n",
    "energy = ALPEnergy(\n",
    "    data_path=\"../../data/alanine/\",\n",
    "    pdb_filename=\"../../data/pdbs/A_capped.pdb\",\n",
    "    n_particles=n_particles,\n",
    "    spatial_dim=n_spatial_dim,\n",
    "    dimensionality=dimensionality,\n",
    "    temperature=1200,\n",
    "    device=device,\n",
    "    device_index=\"0\",\n",
    ")\n",
    "energy_low = ALPEnergy(\n",
    "    data_path=\"../../data/alanine/\",\n",
    "    pdb_filename=\"../../data/pdbs/A_capped.pdb\",\n",
    "    n_particles=n_particles,\n",
    "    spatial_dim=n_spatial_dim,\n",
    "    dimensionality=dimensionality,\n",
    "    temperature=300,\n",
    "    device=device,\n",
    "    device_index=\"0\",\n",
    ")"
   ]
  },
  {
   "cell_type": "code",
   "execution_count": null,
   "metadata": {},
   "outputs": [],
   "source": [
    "path = f\"/network/scratch/a/alexander.tong/energy_temp/data/md/A_capped/A_capped_{1200}_100000.npz\"\n",
    "samples = np.load(path)\n",
    "samples = samples[\"all_positions\"]\n",
    "samples = samples.reshape(-1, dimensionality)\n",
    "high_temp_samples = energy.normalize(samples)\n",
    "high_temp_samples = torch.tensor(high_temp_samples, device=device)\n",
    "\n",
    "path = f\"/network/scratch/a/alexander.tong/energy_temp/data/md/A_capped/A_capped_{300}_100000.npz\"\n",
    "samples = np.load(path)\n",
    "samples = samples[\"all_positions\"]\n",
    "samples = samples.reshape(-1, dimensionality)\n",
    "low_temp_samples = energy_low.normalize(samples)\n",
    "low_temp_samples = torch.tensor(low_temp_samples, device=device)"
   ]
  },
  {
   "cell_type": "code",
   "execution_count": null,
   "metadata": {},
   "outputs": [],
   "source": [
    "high_temp_samples = torch.cat(\n",
    "    (energy.sample_train_set(10000), energy.sample_test_set(10000), energy.sample_val_set(10000)),\n",
    "    dim=0,\n",
    ")\n",
    "low_temp_samples = torch.cat(\n",
    "    (\n",
    "        energy_low.sample_train_set(10000),\n",
    "        energy_low.sample_test_set(10000),\n",
    "        energy_low.sample_val_set(10000),\n",
    "    ),\n",
    "    dim=0,\n",
    ")"
   ]
  },
  {
   "cell_type": "code",
   "execution_count": null,
   "metadata": {},
   "outputs": [],
   "source": [
    "energy.plot_ramachandran(high_temp_samples.cpu())\n",
    "energy_low.plot_ramachandran(low_temp_samples.cpu());"
   ]
  },
  {
   "cell_type": "code",
   "execution_count": null,
   "metadata": {},
   "outputs": [],
   "source": [
    "high_temp_std"
   ]
  },
  {
   "cell_type": "code",
   "execution_count": null,
   "metadata": {},
   "outputs": [],
   "source": [
    "plt.hist(-energy(energy.sample_train_set(5000)).cpu(), bins=200, density=True, alpha=0.5)\n",
    "plt.hist(-energy(energy.sample_test_set(5000)).cpu(), bins=200, density=True, alpha=0.5);"
   ]
  },
  {
   "cell_type": "code",
   "execution_count": null,
   "metadata": {},
   "outputs": [],
   "source": [
    "import glob\n",
    "from collections import defaultdict\n",
    "\n",
    "import numpy as np\n",
    "\n",
    "T = 1\n",
    "noise_std = 0.2\n",
    "\n",
    "samples = defaultdict(list)\n",
    "\n",
    "\n",
    "temps = [300, 400, 450, 500, 550, 600, 1200]\n",
    "for temp in temps:\n",
    "    print(temp)\n",
    "    path = f\"/network/scratch/a/alexander.tong/energy_temp/data/md/A_capped/A_capped_{temp}_100000.npz\"\n",
    "\n",
    "    try:\n",
    "        samples = np.load(path)\n",
    "        samples = samples[\"all_positions\"]\n",
    "        samples = samples.reshape(-1, dimensionality)\n",
    "        print(f\"Samples at {temp} has shape: {samples.shape}\")\n",
    "    except PermissionError:\n",
    "        print(f\"Permission error for file {path}\")\n",
    "        break\n",
    "\n",
    "    idxs = np.random.permutation(samples.shape[0])\n",
    "    train_idx = idxs[:10000]\n",
    "    val_idx = idxs[10000:20000]\n",
    "    test_idx = idxs[20000:30000]\n",
    "\n",
    "    samples_train = samples[train_idx]\n",
    "    samples_val = samples[val_idx]\n",
    "    samples_test = samples[test_idx]\n",
    "\n",
    "    # if directory does not exist, create it\n",
    "    import os\n",
    "\n",
    "    temp = temp.__float__()\n",
    "    data_path = f\"../../data/alanine/AL{n_particles}_temp_{temp}\"\n",
    "    if not os.path.exists(data_path):\n",
    "        os.makedirs(data_path)\n",
    "    else:\n",
    "        print(f\"Directory {data_path} already exists. Overwriting data.\")\n",
    "    break\n",
    "    # np.save(data_path + f\"/train_split_AL{n_particles}-10000.npy\", samples_train)\n",
    "    # np.save(data_path + f\"/val_split_AL{n_particles}-10000.npy\", samples_val)\n",
    "    # np.save(data_path + f\"/test_split_AL{n_particles}-10000.npy\", samples_test)\n",
    "    print(f\"Saved data for temperature {temp} to {data_path}\")"
   ]
  },
  {
   "cell_type": "code",
   "execution_count": null,
   "metadata": {},
   "outputs": [],
   "source": []
  }
 ],
 "metadata": {
  "kernelspec": {
   "display_name": "Python 3 (ipykernel)",
   "language": "python",
   "name": "python3"
  },
  "language_info": {
   "codemirror_mode": {
    "name": "ipython",
    "version": 3
   },
   "file_extension": ".py",
   "mimetype": "text/x-python",
   "name": "python",
   "nbconvert_exporter": "python",
   "pygments_lexer": "ipython3",
   "version": "3.10.17"
  }
 },
 "nbformat": 4,
 "nbformat_minor": 4
}
