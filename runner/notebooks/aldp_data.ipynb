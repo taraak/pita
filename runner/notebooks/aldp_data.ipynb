{
 "cells": [
  {
   "cell_type": "code",
   "execution_count": 1,
   "metadata": {},
   "outputs": [],
   "source": [
    "%load_ext autoreload\n",
    "%autoreload 2"
   ]
  },
  {
   "cell_type": "code",
   "execution_count": 2,
   "metadata": {},
   "outputs": [],
   "source": [
    "from src.energies.alp_energy import ALPEnergy\n",
    "import numpy as np\n",
    "import torch\n",
    "import matplotlib.pyplot as plt"
   ]
  },
  {
   "cell_type": "code",
   "execution_count": 3,
   "metadata": {},
   "outputs": [],
   "source": [
    "device = \"cuda\" if torch.cuda.is_available() else \"cpu\""
   ]
  },
  {
   "cell_type": "code",
   "execution_count": 4,
   "metadata": {},
   "outputs": [
    {
     "name": "stdout",
     "output_type": "stream",
     "text": [
      "8.2\n"
     ]
    }
   ],
   "source": [
    "import openmm\n",
    "print(openmm.__version__)\n"
   ]
  },
  {
   "cell_type": "code",
   "execution_count": 9,
   "metadata": {},
   "outputs": [],
   "source": [
    "n_particles = 22\n",
    "n_spatial_dim = 3\n",
    "dimensionality = n_spatial_dim * n_particles\n",
    "\n",
    "energy = ALPEnergy(\n",
    "    data_path=\"../../data/alanine/\",\n",
    "    pdb_filename=\"../../data/pdbs/A_capped.pdb\",\n",
    "    n_particles=n_particles,\n",
    "    spatial_dim=n_spatial_dim,\n",
    "    dimensionality=dimensionality,\n",
    "    temperature=600,\n",
    "    device = device,\n",
    "    device_index=\"0\",\n",
    ")"
   ]
  },
  {
   "cell_type": "code",
   "execution_count": 10,
   "metadata": {},
   "outputs": [],
   "source": [
    "high_temp_std = energy.sample_train_set(10000).std()"
   ]
  },
  {
   "cell_type": "code",
   "execution_count": 11,
   "metadata": {},
   "outputs": [
    {
     "data": {
      "text/plain": [
       "tensor(0.1651, device='cuda:0')"
      ]
     },
     "execution_count": 11,
     "metadata": {},
     "output_type": "execute_result"
    }
   ],
   "source": [
    "high_temp_std"
   ]
  },
  {
   "cell_type": "code",
   "execution_count": 12,
   "metadata": {},
   "outputs": [
    {
     "data": {
      "image/png": "[encoded data removed]",
      "text/plain": [
       "<Figure size 640x480 with 1 Axes>"
      ]
     },
     "metadata": {},
     "output_type": "display_data"
    }
   ],
   "source": [
    "plt.hist(-energy(energy.sample_train_set(5000)).cpu(), bins=200, density=True, alpha=0.5);\n",
    "plt.hist(-energy(energy.sample_test_set(5000)).cpu(), bins=200, density=True, alpha=0.5);"
   ]
  },
  {
   "cell_type": "code",
   "execution_count": 26,
   "metadata": {},
   "outputs": [
    {
     "name": "stdout",
     "output_type": "stream",
     "text": [
      "300\n",
      "Samples at 300 has shape: (100000, 66)\n",
      "Saved data for temperature 300.0 to ../../data/alanine/AL22_temp_300.0\n",
      "400\n",
      "Samples at 400 has shape: (100000, 66)\n",
      "Saved data for temperature 400.0 to ../../data/alanine/AL22_temp_400.0\n",
      "450\n",
      "Samples at 450 has shape: (100000, 66)\n",
      "Saved data for temperature 450.0 to ../../data/alanine/AL22_temp_450.0\n",
      "500\n",
      "Samples at 500 has shape: (100000, 66)\n",
      "Saved data for temperature 500.0 to ../../data/alanine/AL22_temp_500.0\n",
      "550\n",
      "Samples at 550 has shape: (100000, 66)\n",
      "Saved data for temperature 550.0 to ../../data/alanine/AL22_temp_550.0\n",
      "600\n",
      "Samples at 600 has shape: (100000, 66)\n",
      "Saved data for temperature 600.0 to ../../data/alanine/AL22_temp_600.0\n",
      "1200\n",
      "Samples at 1200 has shape: (100000, 66)\n",
      "Saved data for temperature 1200.0 to ../../data/alanine/AL22_temp_1200.0\n"
     ]
    }
   ],
   "source": [
    "import numpy as np\n",
    "import glob\n",
    "\n",
    "from collections import defaultdict\n",
    "T = 1\n",
    "noise_std = 0.2\n",
    "\n",
    "samples = defaultdict(list)\n",
    "\n",
    "\n",
    "temps = [300,400,450,500,550,600,1200]\n",
    "for temp in temps:\n",
    "    print(temp)\n",
    "    path = f\"/network/scratch/a/alexander.tong/energy_temp/data/md/A_capped/A_capped_{temp}_100000.npz\"\n",
    "\n",
    "    try:\n",
    "        samples = np.load(path)\n",
    "        samples = samples[\"all_positions\"]\n",
    "        samples = samples.reshape(-1, dimensionality)\n",
    "        print(f\"Samples at {temp} has shape: {samples.shape}\")\n",
    "    except PermissionError:\n",
    "        print(f\"Permission error for file {path}\")\n",
    "        break\n",
    "\n",
    "    idxs = np.random.permutation(samples.shape[0])\n",
    "    train_idx = idxs[:10000]\n",
    "    val_idx = idxs[10000: 20000]\n",
    "    test_idx = idxs[20000: 30000]\n",
    "\n",
    "\n",
    "    samples_train = samples[train_idx]\n",
    "    samples_val = samples[val_idx]\n",
    "    samples_test = samples[test_idx]\n",
    "\n",
    "    # if directory does not exist, create it\n",
    "    import os\n",
    "    temp = temp.__float__()\n",
    "    data_path = f\"../../data/alanine/AL{n_particles}_temp_{temp}\"\n",
    "    if not os.path.exists(data_path):\n",
    "        os.makedirs(data_path)\n",
    "    else:\n",
    "        print(f\"Directory {data_path} already exists. Overwriting data.\")\n",
    "    break\n",
    "    #np.save(data_path + f\"/train_split_AL{n_particles}-10000.npy\", samples_train)\n",
    "    #np.save(data_path + f\"/val_split_AL{n_particles}-10000.npy\", samples_val)\n",
    "    #np.save(data_path + f\"/test_split_AL{n_particles}-10000.npy\", samples_test)\n",
    "    print(f\"Saved data for temperature {temp} to {data_path}\")"
   ]
  },
  {
   "cell_type": "code",
   "execution_count": null,
   "metadata": {},
   "outputs": [],
   "source": []
  }
 ],
 "metadata": {
  "kernelspec": {
   "display_name": "Python 3 (ipykernel)",
   "language": "python",
   "name": "python3"
  },
  "language_info": {
   "codemirror_mode": {
    "name": "ipython",
    "version": 3
   },
   "file_extension": ".py",
   "mimetype": "text/x-python",
   "name": "python",
   "nbconvert_exporter": "python",
   "pygments_lexer": "ipython3",
   "version": "3.10.14"
  }
 },
 "nbformat": 4,
 "nbformat_minor": 4
}
