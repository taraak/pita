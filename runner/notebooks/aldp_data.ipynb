{
 "cells": [
  {
   "cell_type": "code",
   "execution_count": 1,
   "metadata": {},
   "outputs": [],
   "source": [
    "%load_ext autoreload\n",
    "%autoreload 2"
   ]
  },
  {
   "cell_type": "code",
   "execution_count": 6,
   "metadata": {},
   "outputs": [],
   "source": [
    "from src.energies.alp_energy import ALPEnergy"
   ]
  },
  {
   "cell_type": "code",
   "execution_count": 8,
   "metadata": {},
   "outputs": [
    {
     "name": "stdout",
     "output_type": "stream",
     "text": [
      "300\n"
     ]
    },
    {
     "ename": "AttributeError",
     "evalue": "'NpzFile' object has no attribute 'shape'",
     "output_type": "error",
     "traceback": [
      "\u001b[0;31m---------------------------------------------------------------------------\u001b[0m",
      "\u001b[0;31mAttributeError\u001b[0m                            Traceback (most recent call last)",
      "Cell \u001b[0;32mIn[8], line 23\u001b[0m\n\u001b[1;32m     19\u001b[0m     \u001b[38;5;28mprint\u001b[39m(\u001b[38;5;124mf\u001b[39m\u001b[38;5;124m\"\u001b[39m\u001b[38;5;124mPermission error for file \u001b[39m\u001b[38;5;132;01m{\u001b[39;00mpath_pattern\u001b[38;5;132;01m}\u001b[39;00m\u001b[38;5;124m\"\u001b[39m)\n\u001b[1;32m     20\u001b[0m     \u001b[38;5;28;01mbreak\u001b[39;00m\n\u001b[0;32m---> 23\u001b[0m \u001b[38;5;28mprint\u001b[39m(\u001b[38;5;124mf\u001b[39m\u001b[38;5;124m\"\u001b[39m\u001b[38;5;124mSamples at \u001b[39m\u001b[38;5;132;01m{\u001b[39;00mtemp\u001b[38;5;132;01m}\u001b[39;00m\u001b[38;5;124m has shape: \u001b[39m\u001b[38;5;132;01m{\u001b[39;00m\u001b[43msamples\u001b[49m\u001b[38;5;241;43m.\u001b[39;49m\u001b[43mshape\u001b[49m\u001b[38;5;132;01m}\u001b[39;00m\u001b[38;5;124m\"\u001b[39m)\n\u001b[1;32m     26\u001b[0m idxs \u001b[38;5;241m=\u001b[39m np\u001b[38;5;241m.\u001b[39mrandom\u001b[38;5;241m.\u001b[39mpermutation(samples\u001b[38;5;241m.\u001b[39mshape[\u001b[38;5;241m0\u001b[39m])\n\u001b[1;32m     27\u001b[0m train_idx \u001b[38;5;241m=\u001b[39m idxs[:\u001b[38;5;241m10000\u001b[39m]\n",
      "\u001b[0;31mAttributeError\u001b[0m: 'NpzFile' object has no attribute 'shape'"
     ]
    }
   ],
   "source": [
    "import numpy as np\n",
    "import glob\n",
    "\n",
    "from collections import defaultdict\n",
    "T = 1\n",
    "noise_std = 0.2\n",
    "\n",
    "samples = defaultdict(list)\n",
    "\n",
    "\n",
    "temps = [300,400,450,500,550,600,1200]\n",
    "for temp in temps:\n",
    "    print(temp)\n",
    "    path_pattern = f\"/network/scratch/a/alexander.tong/energy_temp/data/md/A_capped/A_capped_{temp}_100000.npz\"\n",
    "\n",
    "    try:\n",
    "        samples = np.load(path_pattern)\n",
    "    except PermissionError:\n",
    "        print(f\"Permission error for file {path_pattern}\")\n",
    "        break\n",
    "\n",
    "\n",
    "    print(f\"Samples at {temp} has shape: {samples.shape}\")\n",
    "\n",
    "\n",
    "    idxs = np.random.permutation(samples.shape[0])\n",
    "    train_idx = idxs[:10000]\n",
    "    val_idx = idxs[10000: 20000]\n",
    "    test_idx = idxs[20000: 30000]\n",
    "\n",
    "\n",
    "    samples_train = samples[temp][train_idx]\n",
    "    samples_val = samples[temp][val_idx]\n",
    "    samples_test = samples[temp][test_idx]\n",
    "\n",
    "    # if directory does not exist, create it\n",
    "    import os\n",
    "    temp = temp.__float__()\n",
    "    data_path = f\"../../data/alanine/ALDP_{temp}\"\n",
    "    if not os.path.exists(data_path):\n",
    "        os.makedirs(data_path)\n",
    "    else:\n",
    "        print(f\"Directory {data_path} already exists. Overwriting data.\")\n",
    "\n",
    "    np.save(data_path + f\"/train_split_ALDP-10000.npy\", samples_train)\n",
    "    np.save(data_path + f\"/val_split_ALDP-10000.npy\", samples_val)\n",
    "    np.save(data_path + f\"/test_split_ALDP-10000.npy\", samples_test)\n",
    "    print(f\"Saved data for temperature {temp} to {data_path}\")"
   ]
  },
  {
   "cell_type": "code",
   "execution_count": null,
   "metadata": {},
   "outputs": [],
   "source": []
  }
 ],
 "metadata": {
  "kernelspec": {
   "display_name": "Python 3",
   "language": "python",
   "name": "python3"
  },
  "language_info": {
   "codemirror_mode": {
    "name": "ipython",
    "version": 3
   },
   "file_extension": ".py",
   "mimetype": "text/x-python",
   "name": "python",
   "nbconvert_exporter": "python",
   "pygments_lexer": "ipython3",
   "version": "3.10.16"
  }
 },
 "nbformat": 4,
 "nbformat_minor": 2
}
