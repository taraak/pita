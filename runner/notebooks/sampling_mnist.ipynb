{
 "cells": [
  {
   "cell_type": "code",
   "execution_count": 2,
   "metadata": {},
   "outputs": [],
   "source": [
    "%load_ext autoreload\n",
    "%autoreload 2"
   ]
  },
  {
   "cell_type": "code",
   "execution_count": 3,
   "metadata": {},
   "outputs": [],
   "source": [
    "import torch\n",
    "import torch.nn as nn\n",
    "import matplotlib.pyplot as plt\n",
    "import numpy as np\n",
    "from torch.optim import Adam\n",
    "from torch.utils.data import TensorDataset, DataLoader, Dataset\n",
    "from tqdm import tqdm\n",
    "from src.models.components.mlp import MyMLP\n",
    "\n",
    "from torchvision.datasets import MNIST\n",
    "from PIL import Image\n",
    "\n",
    "\n",
    "from torchvision import transforms\n",
    "import torchvision\n",
    "\n",
    "import os\n",
    "import copy\n",
    "\n",
    "from src.models.components.noise_schedules import GeometricNoiseSchedule\n",
    "from src.energies.base_prior import Prior\n",
    "\n",
    "from math import sqrt\n",
    "\n",
    "from model import UNetModelWrapper\n",
    "\n",
    "device = torch.device('cuda')"
   ]
  },
  {
   "cell_type": "markdown",
   "metadata": {},
   "source": [
    "### Functions"
   ]
  },
  {
   "cell_type": "code",
   "execution_count": 4,
   "metadata": {},
   "outputs": [],
   "source": [
    "def normalize(x):\n",
    "    '''\n",
    "        normalizes to [-1, 1]\n",
    "    '''\n",
    "    # mins = -1 \n",
    "    # maxs = 1\n",
    "    mins = -10\n",
    "    maxs = 10 \n",
    "    ## [ 0, 1 ]\n",
    "    x = (x - mins) / (maxs - mins + 1e-5)\n",
    "    ## [ -1, 1 ]\n",
    "    x = x * 2 - 1\n",
    "    \n",
    "    return x\n",
    "\n",
    "def unnormalize(x, mins=-10, maxs=10):\n",
    "    '''\n",
    "        x : [ -1, 1 ]\n",
    "    '''\n",
    "    # assert x.max() <= 1 and x.min() >= -1, f'x range: ({x.min():.4f}, {x.max():.4f})'\n",
    "    x = (x + 1) / 2\n",
    "    return x * (maxs - mins) + mins"
   ]
  },
  {
   "cell_type": "code",
   "execution_count": null,
   "metadata": {},
   "outputs": [],
   "source": [
    "class VEReverseSDE(torch.nn.Module):\n",
    "    noise_type = \"diagonal\"\n",
    "    sde_type = \"ito\"\n",
    "\n",
    "    def __init__(self, score, noise_schedule):\n",
    "        super().__init__()\n",
    "        self.score = score\n",
    "        self.noise_schedule = noise_schedule\n",
    "\n",
    "    def f(self, t, x):\n",
    "        if t.dim() == 0:\n",
    "            # repeat the same time for all points if we have a scalar time\n",
    "            t = t * torch.ones_like(x).to(x.device)\n",
    "\n",
    "        score = self.score(t, x.view(-1, 1, dim, dim)).view(x.shape)\n",
    "        return self.g(t, x).pow(2) * score\n",
    "\n",
    "    def g(self, t, x):\n",
    "        g = self.noise_schedule.g(t)\n",
    "        return g"
   ]
  },
  {
   "cell_type": "code",
   "execution_count": 27,
   "metadata": {},
   "outputs": [],
   "source": [
    "class VEReverseSDE_combined(torch.nn.Module):\n",
    "    noise_type = \"diagonal\"\n",
    "    sde_type = \"ito\"\n",
    "\n",
    "    def __init__(self, model, diffusion_model, noise_schedule):\n",
    "        super().__init__()\n",
    "        self.model = model\n",
    "        self.diffusion_model = diffusion_model\n",
    "        self.noise_schedule = noise_schedule\n",
    "\n",
    "    def f(self, t, x):\n",
    "        if t.dim() == 0:\n",
    "            # repeat the same time for all points if we have a scalar time\n",
    "            t = t * torch.ones_like(x).to(x.device)\n",
    "\n",
    "        score_diff = self.model(t, x.view(-1, 1, dim, dim)).view(x.shape) #DEM - diffusion_score\n",
    "        diffusion_score = self.diffusion_model(t, x.view(-1, 1, dim, dim)).view(x.shape)\n",
    "        score = score_diff + diffusion_score\n",
    "        return self.g(t, x).pow(2) * score\n",
    "\n",
    "    def g(self, t, x):\n",
    "        g = self.noise_schedule.g(t)\n",
    "        return g"
   ]
  },
  {
   "cell_type": "code",
   "execution_count": 28,
   "metadata": {},
   "outputs": [],
   "source": [
    "def euler_maruyama_step(sde, x, t, dt):\n",
    "    # Calculate drift and diffusion terms\n",
    "    drift = sde.f(t, x) * dt\n",
    "\n",
    "    if t.dim() == 0:\n",
    "        # repeat the same time for all points if we have a scalar time\n",
    "        t = t * torch.ones_like(x).to(device)\n",
    "    diffusion = sde.g(t, x) * np.sqrt(dt) * torch.randn_like(x).to(device)\n",
    "\n",
    "    # Update the state\n",
    "    x_next = x + drift + diffusion\n",
    "    return x_next, drift\n",
    "\n",
    "def integrate_sde(sde, x0, t_span, dt):\n",
    "    times = torch.arange(t_span[0], t_span[1], dt).to(device)\n",
    "    x = x0\n",
    "    x0.requires_grad = True\n",
    "    samples = []\n",
    "    with torch.no_grad():\n",
    "        for t in times:\n",
    "            x, f = euler_maruyama_step(sde, x, 1-t, dt)\n",
    "            samples.append(x)\n",
    "    return torch.stack(samples)\n",
    "\n",
    "def generate_samples(reverse_sde, num_samples, t_span=(0, 1)):\n",
    "    samples = prior.sample(num_samples)\n",
    "    return integrate_sde(\n",
    "        sde=reverse_sde,\n",
    "        x0=samples,\n",
    "        t_span=t_span,\n",
    "        dt=1e-2,\n",
    "    )[-1]"
   ]
  },
  {
   "cell_type": "markdown",
   "metadata": {},
   "source": [
    "### Pre-trained Diffusion"
   ]
  },
  {
   "cell_type": "code",
   "execution_count": 29,
   "metadata": {},
   "outputs": [],
   "source": [
    "dim = 28\n",
    "dimensionality = dim**2\n",
    "\n",
    "batch_size = 128\n",
    "\n",
    "EPS = 1e-6\n",
    "\n",
    "# Data Details\n",
    "noise_schedule = GeometricNoiseSchedule(sigma_min=0.01, sigma_max=sqrt(18))"
   ]
  },
  {
   "cell_type": "code",
   "execution_count": 30,
   "metadata": {},
   "outputs": [
    {
     "data": {
      "text/plain": [
       "<matplotlib.collections.PathCollection at 0x7fdb68259fc0>"
      ]
     },
     "execution_count": 30,
     "metadata": {},
     "output_type": "execute_result"
    },
    {
     "data": {
      "image/png": "[encoded data removed]",
      "text/plain": [
       "<Figure size 640x480 with 1 Axes>"
      ]
     },
     "metadata": {},
     "output_type": "display_data"
    }
   ],
   "source": [
    "prior = Prior(dim=dimensionality, device=device, scale = noise_schedule.h(1) ** 0.5)\n",
    "x1_samples = prior.sample(5000).detach().cpu()\n",
    "plt.scatter(x1_samples[:, 0], x1_samples[:, 1], s=3)"
   ]
  },
  {
   "cell_type": "code",
   "execution_count": 31,
   "metadata": {},
   "outputs": [],
   "source": [
    "# Data Details\n",
    "\n",
    "train_data = torchvision.datasets.MNIST(\"../data\", train=True, transform=torchvision.transforms.Compose([\n",
    "    transforms.ToTensor(),\n",
    "    transforms.Normalize([0.5],[0.5])\n",
    "    ]), download=True)\n",
    "\n",
    "test_data = torchvision.datasets.MNIST(\"../data\", train=False, transform=torchvision.transforms.Compose([\n",
    "    transforms.ToTensor(),\n",
    "    transforms.Normalize([0.5],[0.5])\n",
    "    ]), download=True)\n",
    "\n",
    "train_loader = torch.utils.data.DataLoader(train_data, batch_size=batch_size, shuffle=True, drop_last=True)\n",
    "test_loader = torch.utils.data.DataLoader(test_data, batch_size=batch_size, shuffle=True, drop_last=True)"
   ]
  },
  {
   "cell_type": "code",
   "execution_count": 32,
   "metadata": {},
   "outputs": [
    {
     "name": "stdout",
     "output_type": "stream",
     "text": [
      "tensor([6, 8, 6, 8, 8, 6, 2, 0, 2, 0, 8, 4, 0, 2, 8, 2, 2, 4, 0, 4, 2, 2, 4, 4,\n",
      "        4, 0, 4, 0, 6, 4, 8, 4, 8, 0, 0, 2, 8, 0, 2, 2, 2, 4, 8, 4, 6, 2, 0, 6,\n",
      "        0, 4, 6, 2, 6, 6, 6, 2, 2, 4, 0, 2, 2, 6, 6, 4, 8, 8, 0, 4, 6, 8, 0, 2,\n",
      "        0, 8, 2, 2, 6, 6, 4, 0, 4, 0, 0, 2, 2, 8, 0, 0, 2, 0, 8, 4, 8, 4, 6, 6,\n",
      "        4, 6, 6, 2, 4, 2, 0, 0, 8, 0, 2, 0, 2, 8, 0, 8, 6, 2, 2, 4, 4, 8, 8, 0,\n",
      "        0, 8, 2, 8, 6, 6, 4, 4])\n"
     ]
    }
   ],
   "source": [
    "class EvenMNIST(MNIST):\n",
    "    def __init__(self, root, train=True, transform=None, download=False):\n",
    "        self.mnist = torchvision.datasets.MNIST(root, train=train, transform=None, download=download)\n",
    "        # Filter only the even-numbered digits (0, 2, 4, 6, 8)\n",
    "        self.indices = [i for i, label in enumerate(self.mnist.targets) if label % 2 == 0]\n",
    "        self.data = self.mnist.data[self.indices]\n",
    "        self.targets = self.mnist.targets[self.indices]\n",
    "        self.transform = transform\n",
    "\n",
    "    def __len__(self):\n",
    "        return len(self.targets)\n",
    "\n",
    "    def __getitem__(self, index):\n",
    "        img, target = self.data[index], int(self.targets[index])\n",
    "        img = Image.fromarray(img.numpy(), mode=\"L\")\n",
    "\n",
    "        if self.transform is not None:\n",
    "            img = self.transform(img)\n",
    "        return img, target\n",
    "\n",
    "# Example usage:\n",
    "transform = transforms.Compose([\n",
    "    transforms.ToTensor(),\n",
    "    transforms.Normalize((0.5,), (0.5,))\n",
    "])\n",
    "\n",
    "even_mnist = EvenMNIST(\"../data\", train=True, transform=transform, download=True)\n",
    "train_loader_even = DataLoader(even_mnist, batch_size=batch_size, shuffle=True , drop_last=True)\n",
    "\n",
    "# Check the first batch of the filtered dataset\n",
    "for images, labels in train_loader_even:\n",
    "    print(labels)  # Should only contain even labels (0, 2, 4, 6, 8)\n",
    "    break"
   ]
  },
  {
   "cell_type": "code",
   "execution_count": 33,
   "metadata": {},
   "outputs": [],
   "source": [
    "# def score_loss(vectorfield, x, t, noise_schedule):\n",
    "#     h_t = noise_schedule.h(t.unsqueeze(1))\n",
    "    \n",
    "#     z = torch.randn_like(x)\n",
    "#     xt = x + z * h_t ** 0.5\n",
    "\n",
    "#     s_pred = vectorfield(t, xt.view(-1, 1, dim, dim)).view(x.shape)\n",
    "#     s_true = - (xt - x)/ (h_t + 1e-3)\n",
    "    \n",
    "#     lambda_t = 1 /(h_t + 1e-3)\n",
    "#     s_diff =  torch.linalg.vector_norm(s_pred - s_true, dim=-1) ** 2 #lambda_t *\n",
    "#     return s_diff.mean()    \n",
    "\n",
    "\n",
    "def score_loss(score_net, x, t, noise_schedule):\n",
    "    h_t = noise_schedule.h(t.unsqueeze(1))\n",
    "\n",
    "    z = torch.randn_like(x)\n",
    "    xt = x + z * h_t ** 0.5\n",
    "\n",
    "    s_pred = score_net(t, xt.view(-1, 1, dim, dim)).view(x.shape)\n",
    "    s_true = - z \n",
    "    s_diff =  torch.sum((s_pred * h_t ** 0.5 - s_true) ** 2, dim=(-1)) #* lambda_t\n",
    "    return s_diff.mean()    "
   ]
  },
  {
   "cell_type": "code",
   "execution_count": 34,
   "metadata": {},
   "outputs": [],
   "source": [
    "score_net = UNetModelWrapper(dim=(1, dim, dim), num_channels=32, num_res_blocks=2).to(device)\n",
    "optimizer = torch.optim.Adam(score_net.parameters(), lr=1e-3)\n",
    "num_epochs = 25"
   ]
  },
  {
   "cell_type": "code",
   "execution_count": 35,
   "metadata": {},
   "outputs": [],
   "source": [
    "PATH = 'sampling_task/'\n",
    "f_name = 'even_mnist_score_net.pt'\n",
    "\n",
    "if os.path.exists(PATH + f_name):\n",
    "    score_net.load_state_dict(torch.load(PATH + f_name, weights_only=True))\n",
    "    score_net.eval()\n",
    "else:\n",
    "    for epoch in range(num_epochs):\n",
    "        for x0, _ in train_loader_even:\n",
    "            x0 = x0.to(device)\n",
    "            x0 = x0.view(batch_size, dimensionality)\n",
    "            # x0 = x0.view(batch_size, 1, dim, dim).to(device)\n",
    "            optimizer.zero_grad()\n",
    "\n",
    "            t = torch.rand(len(x0), device=device)\n",
    "            loss = score_loss(score_net, x0, t, noise_schedule)\n",
    "            \n",
    "            loss.backward()\n",
    "            optimizer.step()\n",
    "\n",
    "        print(f'Epoch {epoch}, Loss: {loss.item()}')\n",
    "\n",
    "        if epoch % 1 == 0:\n",
    "            # integrate the SDE\n",
    "            num_samples = 64\n",
    "            ve_reverse_sde = VEReverseSDE(score_net, noise_schedule)\n",
    "            samples = generate_samples(ve_reverse_sde, num_samples)\n",
    "            samples = samples.detach().cpu()\n",
    "            samples = samples.view(num_samples, 1, dim, dim)\n",
    "            torchvision.utils.save_image(samples, f'trained_cfm.png', nrow=8)\n",
    "\n",
    "    torch.save(score_net.state_dict(), PATH + f_name)"
   ]
  },
  {
   "cell_type": "code",
   "execution_count": 36,
   "metadata": {},
   "outputs": [],
   "source": [
    "num_samples = 64\n",
    "ve_reverse_sde = VEReverseSDE(score_net, noise_schedule)\n",
    "samples = generate_samples(ve_reverse_sde, num_samples)\n",
    "samples = samples.detach().cpu()\n",
    "samples = samples.view(num_samples, 1, dim, dim)\n",
    "torchvision.utils.save_image(samples, f'trained_cfm.png', nrow=8)"
   ]
  },
  {
   "cell_type": "markdown",
   "metadata": {},
   "source": [
    "### Energy Model"
   ]
  },
  {
   "cell_type": "code",
   "execution_count": 37,
   "metadata": {},
   "outputs": [],
   "source": [
    "from sde_sampler.distr.nice import Nice"
   ]
  },
  {
   "cell_type": "code",
   "execution_count": 38,
   "metadata": {},
   "outputs": [
    {
     "name": "stderr",
     "output_type": "stream",
     "text": [
      "/home/mila/t/tara.akhoundsadegh/active_inference/sde_sampler/sde_sampler/distr/nice.py:247: FutureWarning: You are using `torch.load` with `weights_only=False` (the current default value), which uses the default pickle module implicitly. It is possible to construct malicious pickle data which will execute arbitrary code during unpickling (See https://github.com/pytorch/pytorch/blob/main/SECURITY.md#untrusted-models for more details). In a future release, the default value for `weights_only` will be flipped to `True`. This limits the functions that could be executed during unpickling. Arbitrary objects will no longer be allowed to be loaded via this mode unless they are explicitly allowlisted by the user via `torch.serialization.add_safe_globals`. We recommend you start setting `weights_only=True` for any use case where you don't have full control of the loaded file. Please open an issue on GitHub for any issues related to this experimental feature.\n",
      "  mean = torch.load(mean_data_path).reshape((1, 28, 28))\n",
      "/home/mila/t/tara.akhoundsadegh/active_inference/sde_sampler/sde_sampler/distr/nice.py:256: FutureWarning: You are using `torch.load` with `weights_only=False` (the current default value), which uses the default pickle module implicitly. It is possible to construct malicious pickle data which will execute arbitrary code during unpickling (See https://github.com/pytorch/pytorch/blob/main/SECURITY.md#untrusted-models for more details). In a future release, the default value for `weights_only` will be flipped to `True`. This limits the functions that could be executed during unpickling. Arbitrary objects will no longer be allowed to be loaded via this mode unless they are explicitly allowlisted by the user via `torch.serialization.add_safe_globals`. We recommend you start setting `weights_only=True` for any use case where you don't have full control of the loaded file. Please open an issue on GitHub for any issues related to this experimental feature.\n",
      "  ckpt = torch.load(checkpoint)\n"
     ]
    }
   ],
   "source": [
    "nice = Nice(dataset='mnist')"
   ]
  },
  {
   "cell_type": "code",
   "execution_count": 39,
   "metadata": {},
   "outputs": [],
   "source": [
    "def log_prob(samples):\n",
    "    p = energy_net(samples).log_softmax(dim=-1)\n",
    "    return p.squeeze()"
   ]
  },
  {
   "cell_type": "markdown",
   "metadata": {},
   "source": [
    "### Energy Estimator\n"
   ]
  },
  {
   "cell_type": "code",
   "execution_count": 40,
   "metadata": {},
   "outputs": [],
   "source": [
    "# sample from a tensor\n",
    "def sample_from_tensor(tensor, num_samples):\n",
    "    idx = torch.randint(0, tensor.shape[0], (num_samples,))\n",
    "    return tensor[idx]\n",
    "\n",
    "\n",
    "def estimate_grad_Rt_high_t(xt,\n",
    "                            t,\n",
    "                            energy, \n",
    "                            diffusion_samples,\n",
    "                            noise_schedule,\n",
    "                            num_mc_samples=100):\n",
    "\n",
    "    repeated_xt = xt.unsqueeze(0)\n",
    "    h_t  = noise_schedule.h(t)\n",
    "\n",
    "    q_diffusion_proposal = sample_from_tensor(diffusion_samples, num_mc_samples)\n",
    "    q_samples = q_diffusion_proposal\n",
    "\n",
    "    \n",
    "    with torch.no_grad():         \n",
    "        log_p_xt = - (torch.linalg.vector_norm((q_samples.to(device) - repeated_xt.repeat(num_mc_samples, 1)), dim=-1) ** 2 \n",
    "                / (2 * h_t.squeeze()))          \n",
    "        log_weights = log_p_xt\n",
    "        denoising_score = - ((repeated_xt.repeat(num_mc_samples, 1) - q_samples) \n",
    "                         / h_t.squeeze())\n",
    "        scores = denoising_score \n",
    "\n",
    "    estimate = torch.sum(torch.nn.functional.softmax(log_weights, dim=0)[:, None] * scores, dim=0)\n",
    "    return estimate\n",
    "\n",
    "\n",
    "def estimate_grad_Rt_low_t(xt,\n",
    "                           t,\n",
    "                           energy,\n",
    "                           diffusion_samples,\n",
    "                           noise_schedule,\n",
    "                           num_mc_samples=100):\n",
    "    repeated_xt = xt.unsqueeze(0)\n",
    "    h_t  = noise_schedule.h(t)\n",
    "    device = xt.device\n",
    "    \n",
    "    q_normal_proposal = repeated_xt + torch.randn((num_mc_samples,) + xt.size()).to(device) * (h_t ** 0.5)\n",
    "    q_samples = q_normal_proposal\n",
    "    \n",
    "    with torch.no_grad():\n",
    "        log_p_pre = energy(q_samples)\n",
    "        log_weights = log_p_pre\n",
    "        target_score  = torch.vmap(torch.func.grad(lambda x: energy(x)))(q_samples)\n",
    "        scores = target_score\n",
    "\n",
    "    estimate = torch.sum(torch.nn.functional.softmax(log_weights, dim=0)[:, None] * scores, dim=0)\n",
    "    return estimate"
   ]
  },
  {
   "cell_type": "code",
   "execution_count": 41,
   "metadata": {},
   "outputs": [],
   "source": [
    "from src.models.components.clipper import Clipper\n",
    "clipper = Clipper(\n",
    "    should_clip_scores=False, should_clip_log_rewards=False, max_score_norm=50\n",
    ")"
   ]
  },
  {
   "cell_type": "code",
   "execution_count": 42,
   "metadata": {},
   "outputs": [],
   "source": [
    "def reward_matching_loss(estimator,\n",
    "                         model,\n",
    "                         diffusion_model,\n",
    "                         energy,\n",
    "                         x,\n",
    "                         t,\n",
    "                         diffusion_samples,\n",
    "                         noise_schedule,\n",
    "                         num_mc_samples=100,\n",
    "                         clip=True\n",
    "    ):\n",
    "\n",
    "\n",
    "    x.requires_grad = True\n",
    "\n",
    "    h_t = noise_schedule.h(t.unsqueeze(1))\n",
    "    \n",
    "    # noisy sample: x(t)\n",
    "    xt = torch.normal(x, h_t**0.5)\n",
    "\n",
    "    # predicted score\n",
    "    pred_scores = model(t, xt.view(-1, 1, dim, dim)).view(x.shape)\n",
    "    diffusion_scores = diffusion_model(t, xt.view(-1, 1, dim, dim)).view(x.shape)\n",
    "\n",
    "    estimated_scores = torch.vmap(estimator, randomness=\"different\",\n",
    "                                  in_dims=(0, 0, None, None, None))(\n",
    "                                    xt,\n",
    "                                    t,\n",
    "                                    energy,\n",
    "                                    diffusion_samples,\n",
    "                                    noise_schedule,\n",
    "                                    num_mc_samples=num_mc_samples,\n",
    "                                ).detach()\n",
    "\n",
    "\n",
    "    if clip:\n",
    "        estimated_scores = clipper.clip_scores(estimated_scores)\n",
    "\n",
    "    err = (\n",
    "        estimated_scores - (pred_scores + diffusion_scores)\n",
    "    ) ** 2\n",
    "    return err.mean()"
   ]
  },
  {
   "cell_type": "code",
   "execution_count": 43,
   "metadata": {},
   "outputs": [
    {
     "name": "stdout",
     "output_type": "stream",
     "text": [
      "Buffer not initialised, expected that checkpoint will be loaded.\n"
     ]
    }
   ],
   "source": [
    "from src.models.components.prioritised_replay_buffer import SimpleBuffer\n",
    "buffer = SimpleBuffer(\n",
    "    dimensionality,\n",
    "    10000,\n",
    "    1000,\n",
    "    initial_sampler=None,\n",
    "    device=device,\n",
    "    fill_buffer_during_init=False,\n",
    "    sample_with_replacement=True,\n",
    "    prioritize=False,\n",
    ")"
   ]
  },
  {
   "cell_type": "code",
   "execution_count": 44,
   "metadata": {},
   "outputs": [],
   "source": [
    "num_samples = 1000\n",
    "ve_reverse_sde = VEReverseSDE(score_net, noise_schedule)\n",
    "diffusion_samples = generate_samples(ve_reverse_sde, num_samples)\n",
    "torchvision.utils.save_image(diffusion_samples.view(num_samples, 1, dim, dim).detach().cpu(),\n",
    "                             PATH + 'diffusion_samples.png', nrow=20)"
   ]
  },
  {
   "cell_type": "code",
   "execution_count": 52,
   "metadata": {},
   "outputs": [],
   "source": [
    "def log_prob(x):\n",
    "    if x.dim() == 1:\n",
    "        x = x.unsqueeze(0)\n",
    "    return nice.log_prob(x).squeeze()"
   ]
  },
  {
   "cell_type": "code",
   "execution_count": 53,
   "metadata": {},
   "outputs": [],
   "source": [
    "t_switch_estimators = 0.7\n",
    "outer_epochs= 100\n",
    "inner_epochs = 100\n",
    "\n",
    "batch_size = 512\n",
    "\n",
    "diffusion_samples_energy = log_prob(diffusion_samples.detach())\n",
    "buffer.add(diffusion_samples, diffusion_samples_energy)\n",
    "\n",
    "train_dataset = TensorDataset(diffusion_samples.detach(), diffusion_samples_energy.clone())\n",
    "trainloader = DataLoader(train_dataset, batch_size = batch_size, shuffle=True) \n",
    "\n",
    "num_mc_samples = 200"
   ]
  },
  {
   "cell_type": "code",
   "execution_count": 54,
   "metadata": {},
   "outputs": [],
   "source": [
    "#copy vectorfield parameters\n",
    "model = copy.deepcopy(score_net)\n",
    "optimizer = Adam(model.parameters(), lr=1e-3)\n",
    "weighted = False"
   ]
  },
  {
   "cell_type": "code",
   "execution_count": 55,
   "metadata": {},
   "outputs": [
    {
     "name": "stderr",
     "output_type": "stream",
     "text": [
      "  0%|          | 0/100 [00:00<?, ?it/s]"
     ]
    },
    {
     "name": "stdout",
     "output_type": "stream",
     "text": [
      "Epoch 0 | Loss 847.975403\n",
      "Epoch 49 | Loss 474.171204\n",
      "Epoch 98 | Loss 560.287170\n"
     ]
    },
    {
     "name": "stderr",
     "output_type": "stream",
     "text": [
      "  1%|          | 1/100 [03:45<6:11:32, 225.18s/it]"
     ]
    },
    {
     "name": "stdout",
     "output_type": "stream",
     "text": [
      "Epoch 0 | Loss 50.216976\n",
      "Epoch 49 | Loss 4.728061\n",
      "Epoch 98 | Loss 4.236321\n"
     ]
    },
    {
     "name": "stderr",
     "output_type": "stream",
     "text": [
      "  2%|▏         | 2/100 [21:15<19:20:51, 710.73s/it]"
     ]
    },
    {
     "name": "stdout",
     "output_type": "stream",
     "text": [
      "Epoch 0 | Loss 4.462400\n",
      "Epoch 49 | Loss 3.487648\n",
      "Epoch 98 | Loss 4.513361\n"
     ]
    },
    {
     "name": "stderr",
     "output_type": "stream",
     "text": [
      "  3%|▎         | 3/100 [38:44<23:18:37, 865.13s/it]"
     ]
    },
    {
     "name": "stdout",
     "output_type": "stream",
     "text": [
      "Epoch 0 | Loss 3.387630\n",
      "Epoch 49 | Loss 4.366125\n",
      "Epoch 98 | Loss 2.857900\n"
     ]
    },
    {
     "name": "stderr",
     "output_type": "stream",
     "text": [
      "  4%|▍         | 4/100 [56:18<25:03:42, 939.81s/it]"
     ]
    },
    {
     "name": "stdout",
     "output_type": "stream",
     "text": [
      "Epoch 0 | Loss 3.851861\n",
      "Epoch 49 | Loss 3.219581\n",
      "Epoch 98 | Loss 3.238847\n"
     ]
    },
    {
     "name": "stderr",
     "output_type": "stream",
     "text": [
      "  5%|▌         | 5/100 [1:13:56<25:55:23, 982.35s/it]"
     ]
    },
    {
     "name": "stdout",
     "output_type": "stream",
     "text": [
      "Epoch 0 | Loss 3.504202\n",
      "Epoch 49 | Loss 3.001427\n"
     ]
    },
    {
     "name": "stderr",
     "output_type": "stream",
     "text": [
      "  5%|▌         | 5/100 [1:26:07<27:16:25, 1033.53s/it]\n"
     ]
    },
    {
     "ename": "KeyboardInterrupt",
     "evalue": "",
     "output_type": "error",
     "traceback": [
      "\u001b[0;31m---------------------------------------------------------------------------\u001b[0m",
      "\u001b[0;31mKeyboardInterrupt\u001b[0m                         Traceback (most recent call last)",
      "Cell \u001b[0;32mIn[55], line 44\u001b[0m\n\u001b[1;32m     29\u001b[0m rm_loss_low_t \u001b[38;5;241m=\u001b[39m reward_matching_loss(estimate_grad_Rt_low_t,\n\u001b[1;32m     30\u001b[0m                                       model, \n\u001b[1;32m     31\u001b[0m                                       score_net,\n\u001b[0;32m   (...)\u001b[0m\n\u001b[1;32m     37\u001b[0m                                       num_mc_samples\u001b[38;5;241m=\u001b[39mnum_mc_samples,\n\u001b[1;32m     38\u001b[0m                                       )\n\u001b[1;32m     43\u001b[0m loss \u001b[38;5;241m=\u001b[39m rm_loss_high_t\u001b[38;5;241m.\u001b[39mmean() \u001b[38;5;241m+\u001b[39m rm_loss_low_t\u001b[38;5;241m.\u001b[39mmean()\n\u001b[0;32m---> 44\u001b[0m total_loss \u001b[38;5;241m+\u001b[39m\u001b[38;5;241m=\u001b[39m \u001b[43mloss\u001b[49m\u001b[38;5;241;43m.\u001b[39;49m\u001b[43mitem\u001b[49m\u001b[43m(\u001b[49m\u001b[43m)\u001b[49m\n\u001b[1;32m     45\u001b[0m loss\u001b[38;5;241m.\u001b[39mbackward()\n\u001b[1;32m     46\u001b[0m optimizer\u001b[38;5;241m.\u001b[39mstep()\n",
      "\u001b[0;31mKeyboardInterrupt\u001b[0m: "
     ]
    }
   ],
   "source": [
    "for epoch in tqdm(range(outer_epochs)):\n",
    "    for epoch in range(inner_epochs):\n",
    "        total_loss = 0.\n",
    "        for samples,_ in trainloader:\n",
    "            samples = samples.to(device)\n",
    "\n",
    "\n",
    "            samples_high_t = samples[:batch_size//2]\n",
    "            samples_low_t = samples[batch_size//2:]\n",
    "            \n",
    "            optimizer.zero_grad()\n",
    "\n",
    "            t = torch.rand(len(samples)).to(device)\n",
    "            t_high = t[:batch_size//2] * (1-t_switch_estimators) + t_switch_estimators\n",
    "            t_low = t[batch_size//2:] * t_switch_estimators\n",
    "\n",
    "            rm_loss_high_t = reward_matching_loss(estimate_grad_Rt_high_t,\n",
    "                                                  model, \n",
    "                                                  score_net,\n",
    "                                                  log_prob,\n",
    "                                                  samples_high_t,\n",
    "                                                  t_high, \n",
    "                                                  samples,\n",
    "                                                  noise_schedule, \n",
    "                                                  num_mc_samples=num_mc_samples,\n",
    "                                                  clip=False\n",
    "                                                  ) \n",
    "            \n",
    "            rm_loss_low_t = reward_matching_loss(estimate_grad_Rt_low_t,\n",
    "                                                  model, \n",
    "                                                  score_net,\n",
    "                                                  log_prob,\n",
    "                                                  samples_low_t,\n",
    "                                                  t_low, \n",
    "                                                  samples,\n",
    "                                                  noise_schedule, \n",
    "                                                  num_mc_samples=num_mc_samples,\n",
    "                                                  )\n",
    "            \n",
    "\n",
    "            \n",
    "\n",
    "            loss = rm_loss_high_t.mean() + rm_loss_low_t.mean()\n",
    "            total_loss += loss.item()\n",
    "            loss.backward()\n",
    "            optimizer.step()\n",
    "            \n",
    "        if epoch % 49 == 0:\n",
    "            print(\"Epoch %d | Loss %f\" % (epoch, loss.item()))\n",
    "\n",
    "\n",
    "    # Generate samples using the network\n",
    "    ve_reverse_sde = VEReverseSDE_combined(model, score_net, noise_schedule)\n",
    "    samples = generate_samples(ve_reverse_sde, 1000)\n",
    "    samples_energy = log_prob(samples)\n",
    "\n",
    "    # Update Buffer \n",
    "    buffer.add(samples, samples_energy)\n",
    "\n",
    "    torchvision.utils.save_image(samples.view(1000, 1, dim, dim).detach().cpu(),\n",
    "                             PATH + 'samples.png', nrow=20)\n",
    "    \n",
    "\n",
    "    # Resample data from the buffer\n",
    "    samples, samples_energy, _ = buffer.sample(512 * 10)\n",
    "    train_dataset = TensorDataset(samples, samples_energy)\n",
    "    trainloader = DataLoader(train_dataset, batch_size = 512, shuffle=True)"
   ]
  },
  {
   "cell_type": "code",
   "execution_count": null,
   "metadata": {},
   "outputs": [],
   "source": []
  }
 ],
 "metadata": {
  "kernelspec": {
   "display_name": "Python 3",
   "language": "python",
   "name": "python3"
  },
  "language_info": {
   "codemirror_mode": {
    "name": "ipython",
    "version": 3
   },
   "file_extension": ".py",
   "mimetype": "text/x-python",
   "name": "python",
   "nbconvert_exporter": "python",
   "pygments_lexer": "ipython3",
   "version": "3.10.14"
  }
 },
 "nbformat": 4,
 "nbformat_minor": 2
}
