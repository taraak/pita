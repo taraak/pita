{
 "cells": [
  {
   "cell_type": "code",
   "execution_count": 1,
   "metadata": {},
   "outputs": [],
   "source": [
    "%load_ext autoreload\n",
    "%autoreload 2"
   ]
  },
  {
   "cell_type": "code",
   "execution_count": 2,
   "metadata": {},
   "outputs": [],
   "source": [
    "import matplotlib.pyplot as plt\n",
    "import torch\n",
    "import numpy as np\n",
    "\n",
    "from bgflow import IterativeSampler, SamplerStep, MCMCStep, SamplerState, GaussianProposal\n",
    "import tqdm\n",
    "from src.energies.lennardjones_energy import LennardJonesEnergy, lennard_jones_energy_torch\n",
    "from bgflow import  IterativeSampler, SamplerState, MCMCStep"
   ]
  },
  {
   "cell_type": "code",
   "execution_count": 3,
   "metadata": {},
   "outputs": [
    {
     "name": "stdout",
     "output_type": "stream",
     "text": [
      "cuda\n"
     ]
    }
   ],
   "source": [
    "device = torch.device(\"cuda\" if torch.cuda.is_available() else \"cpu\")\n",
    "print(device)"
   ]
  },
  {
   "cell_type": "markdown",
   "metadata": {},
   "source": [
    "### Target Distribution"
   ]
  },
  {
   "cell_type": "code",
   "execution_count": 4,
   "metadata": {},
   "outputs": [],
   "source": [
    "n_particles = 13\n",
    "spatial_dim = 3\n",
    "dimensionality = spatial_dim * n_particles"
   ]
  },
  {
   "cell_type": "code",
   "execution_count": 15,
   "metadata": {},
   "outputs": [
    {
     "data": {
      "text/plain": [
       "(200000, 39)"
      ]
     },
     "execution_count": 15,
     "metadata": {},
     "output_type": "execute_result"
    }
   ],
   "source": [
    "samples[0.7].shape"
   ]
  },
  {
   "cell_type": "code",
   "execution_count": 8,
   "metadata": {},
   "outputs": [
    {
     "name": "stdout",
     "output_type": "stream",
     "text": [
      "0.4\n",
      "Samples at 0.4 has shape: (200000, 39)\n",
      "Directory ../../data/LJ13_Alex_temp_0.4 already exists. Overwriting data.\n",
      "Saved data for temperature 0.4 to ../../data/LJ13_Alex_temp_0.4\n",
      "0.5\n",
      "Samples at 0.5 has shape: (200000, 39)\n",
      "Directory ../../data/LJ13_Alex_temp_0.5 already exists. Overwriting data.\n",
      "Saved data for temperature 0.5 to ../../data/LJ13_Alex_temp_0.5\n",
      "0.6\n",
      "Samples at 0.6 has shape: (200000, 39)\n",
      "Directory ../../data/LJ13_Alex_temp_0.6 already exists. Overwriting data.\n",
      "Saved data for temperature 0.6 to ../../data/LJ13_Alex_temp_0.6\n",
      "0.7\n",
      "Samples at 0.7 has shape: (200000, 39)\n",
      "Directory ../../data/LJ13_Alex_temp_0.7 already exists. Overwriting data.\n",
      "Saved data for temperature 0.7 to ../../data/LJ13_Alex_temp_0.7\n",
      "0.8\n",
      "Samples at 0.8 has shape: (200000, 39)\n",
      "Directory ../../data/LJ13_Alex_temp_0.8 already exists. Overwriting data.\n",
      "Saved data for temperature 0.8 to ../../data/LJ13_Alex_temp_0.8\n",
      "0.9\n",
      "Samples at 0.9 has shape: (200000, 39)\n",
      "Directory ../../data/LJ13_Alex_temp_0.9 already exists. Overwriting data.\n",
      "Saved data for temperature 0.9 to ../../data/LJ13_Alex_temp_0.9\n",
      "1.0\n",
      "Samples at 1.0 has shape: (200000, 39)\n",
      "Directory ../../data/LJ13_Alex_temp_1.0 already exists. Overwriting data.\n",
      "Saved data for temperature 1.0 to ../../data/LJ13_Alex_temp_1.0\n",
      "1.1\n",
      "Samples at 1.1 has shape: (200000, 39)\n",
      "Directory ../../data/LJ13_Alex_temp_1.1 already exists. Overwriting data.\n",
      "Saved data for temperature 1.1 to ../../data/LJ13_Alex_temp_1.1\n",
      "1.5\n",
      "Samples at 1.5 has shape: (200000, 39)\n",
      "Directory ../../data/LJ13_Alex_temp_1.5 already exists. Overwriting data.\n",
      "Saved data for temperature 1.5 to ../../data/LJ13_Alex_temp_1.5\n",
      "2.0\n",
      "Samples at 2.0 has shape: (200000, 39)\n",
      "Directory ../../data/LJ13_Alex_temp_2.0 already exists. Overwriting data.\n",
      "Saved data for temperature 2.0 to ../../data/LJ13_Alex_temp_2.0\n",
      "3.0\n",
      "Samples at 3.0 has shape: (200000, 39)\n",
      "Directory ../../data/LJ13_Alex_temp_3.0 already exists. Overwriting data.\n",
      "Saved data for temperature 3.0 to ../../data/LJ13_Alex_temp_3.0\n",
      "4.0\n",
      "Samples at 4.0 has shape: (200000, 39)\n",
      "Directory ../../data/LJ13_Alex_temp_4.0 already exists. Overwriting data.\n",
      "Saved data for temperature 4.0 to ../../data/LJ13_Alex_temp_4.0\n"
     ]
    }
   ],
   "source": [
    "import numpy as np\n",
    "import glob\n",
    "\n",
    "from collections import defaultdict\n",
    "T = 1\n",
    "noise_std = 0.2\n",
    "\n",
    "samples = defaultdict(list)\n",
    "\n",
    "\n",
    "temps = [0.4, 0.5, 0.6, 0.7, 0.8, 0.9, 1.0, 1.1, 1.5, 2.0, 3.0, 4.0]\n",
    "#temps = [0.4, 0.5,0.6, 0.7, 0.8, 0.9, 1.0, 2.0, 3.0, 4.0]\n",
    "for i in range(1, 121):\n",
    "    temp_idx = (i - 1) // 10\n",
    "    temp = temps[temp_idx]\n",
    "    path_pattern = f\"/network/scratch/a/alexander.tong/lj13_samples/samples_v22_{i}.npy\"\n",
    "\n",
    "    # try catch permission error\n",
    "\n",
    "    files = sorted(glob.glob(path_pattern))\n",
    "    # print(f\"Found {len(files)} files for temperature {temp}\")\n",
    "    arrays = []\n",
    "    for file in files:\n",
    "        try :\n",
    "            arrays.append(np.load(file))\n",
    "        except PermissionError:\n",
    "            print(f\"Permission error for file {file}\")\n",
    "            break\n",
    "\n",
    "    s = np.concatenate(arrays, axis=0)\n",
    "    s = s.reshape(-1, dimensionality)\n",
    "    samples[temp].append(s)\n",
    "\n",
    "for temp in temps:\n",
    "    print(temp)\n",
    "    if len(samples[temp]) == 0:\n",
    "        continue\n",
    "    samples[temp] = np.concatenate(samples[temp], axis=0)\n",
    "    print(f\"Samples at {temp} has shape: {samples[temp].shape}\")\n",
    "\n",
    "\n",
    "    idxs = np.random.permutation(samples[temp].shape[0])\n",
    "    train_idx = idxs[:10000]\n",
    "    val_idx = idxs[10000: 20000]\n",
    "    test_idx = idxs[20000: 30000]\n",
    "\n",
    "\n",
    "    samples_train = samples[temp][train_idx]\n",
    "    samples_val = samples[temp][val_idx]\n",
    "    samples_test = samples[temp][test_idx]\n",
    "\n",
    "    # if directory does not exist, create it\n",
    "    import os\n",
    "    temp = temp.__float__()\n",
    "    data_path = f\"../../data/LJ13_Alex_temp_{temp}\"\n",
    "    if not os.path.exists(data_path):\n",
    "        os.makedirs(data_path)\n",
    "    else:\n",
    "        print(f\"Directory {data_path} already exists. Overwriting data.\")\n",
    "\n",
    "    np.save(data_path + f\"/train_split_LJ13-1000.npy\", samples_train)\n",
    "    np.save(data_path + f\"/val_split_LJ13-1000.npy\", samples_val)\n",
    "    np.save(data_path + f\"/test_split_LJ13-1000.npy\", samples_test)\n",
    "    print(f\"Saved data for temperature {temp} to {data_path}\")"
   ]
  },
  {
   "cell_type": "code",
   "execution_count": 5,
   "metadata": {},
   "outputs": [
    {
     "name": "stdout",
     "output_type": "stream",
     "text": [
      "Found 10 files for temperature 1.2\n",
      "Concatenated array shape: (200000, 39)\n",
      "Saved data for temperature 1.2 to ../../data/LJ13_temp_1.2\n",
      "Found 10 files for temperature 1.5\n",
      "Concatenated array shape: (200000, 39)\n",
      "Saved data for temperature 1.5 to ../../data/LJ13_temp_1.5\n"
     ]
    }
   ],
   "source": [
    "import numpy as np\n",
    "import glob\n",
    "\n",
    "from collections import defaultdict\n",
    "T = 1\n",
    "noise_std = 0.2\n",
    "\n",
    "samples = defaultdict(list)\n",
    "\n",
    "# for temp in [2]:\n",
    "#     path_pattern = f\"/network/scratch/a/alexander.tong/lj13_samples/samples_v8_{temp}*\"\n",
    "# temps = [0.6, 0.5, 0.4, 0.3, 0.2]\n",
    "#temps = [0.4, 0.5,0.6, 0.7, 0.8, 0.9, 1.0, 2.0, 3.0, 4.0]\n",
    "temps = [1.2, 1.5]\n",
    "for temp in temps:\n",
    "    path_pattern = f\"/network/scratch/a/alexander.tong/lj13_samples/samples_v23_{temp}*\"\n",
    "\n",
    "    # try catch permission error\n",
    "\n",
    "    files = sorted(glob.glob(path_pattern))\n",
    "    print(f\"Found {len(files)} files for temperature {temp}\")\n",
    "    arrays = []\n",
    "    for file in files:\n",
    "        try :\n",
    "            arrays.append(np.load(file))\n",
    "        except PermissionError:\n",
    "            print(f\"Permission error for file {file}\")\n",
    "            break\n",
    "\n",
    "    samples = np.concatenate(arrays)\n",
    "    print(f\"Concatenated array shape: {samples.shape}\")\n",
    "    samples = samples.reshape(-1, dimensionality)\n",
    "\n",
    "\n",
    "    idxs = np.random.permutation(samples.shape[0])\n",
    "    train_idx = idxs[:10000]\n",
    "    val_idx = idxs[10000: 20000]\n",
    "    test_idx = idxs[20000: 30000]\n",
    "\n",
    "\n",
    "    samples_train = samples[train_idx]\n",
    "    samples_val = samples[val_idx]\n",
    "    samples_test = samples[test_idx]\n",
    "\n",
    "    # if directory does not exist, create it\n",
    "    import os\n",
    "    temp = temp.__float__()\n",
    "    data_path = f\"../../data/LJ13_temp_{temp}\"\n",
    "    if not os.path.exists(data_path):\n",
    "        os.makedirs(data_path)\n",
    "    else:\n",
    "        print(f\"Directory {data_path} already exists. Overwriting data.\")\n",
    "\n",
    "    np.save(data_path + f\"/train_split_LJ13-1000.npy\", samples_train)\n",
    "    np.save(data_path + f\"/val_split_LJ13-1000.npy\", samples_val)\n",
    "    np.save(data_path + f\"/test_split_LJ13-1000.npy\", samples_test)\n",
    "    print(f\"Saved data for temperature {temp} to {data_path}\")\n"
   ]
  },
  {
   "cell_type": "code",
   "execution_count": 61,
   "metadata": {},
   "outputs": [
    {
     "data": {
      "text/plain": [
       "(400000, 39)"
      ]
     },
     "execution_count": 61,
     "metadata": {},
     "output_type": "execute_result"
    }
   ],
   "source": [
    "samples.shape"
   ]
  },
  {
   "cell_type": "code",
   "execution_count": 66,
   "metadata": {},
   "outputs": [
    {
     "data": {
      "image/png": "[encoded data removed]",
      "text/plain": [
       "<Figure size 640x480 with 1 Axes>"
      ]
     },
     "metadata": {},
     "output_type": "display_data"
    }
   ],
   "source": [
    "plt.hist(-target_temp2(torch.tensor(samples)), bins=100, alpha=0.5, label=\"target\");"
   ]
  },
  {
   "cell_type": "code",
   "execution_count": 62,
   "metadata": {},
   "outputs": [],
   "source": [
    "# import numpy as np\n",
    "# import glob\n",
    "\n",
    "# T = 4\n",
    "# noise_std = 0.05\n",
    "\n",
    "# samples = {}\n",
    "\n",
    "# for noise_std in [0.1]:\n",
    "#     # path_pattern = f\"/network/scratch/a/alexander.tong/lj13_samples/samples_v7_{temp}*\"\n",
    "#     path_pattern = f\"/home/mila/t/tara.akhoundsadegh/scratch/lj13_samples/samples_{noise_std}_noise_{T}*\"\n",
    "#     path_pattern = f\"/home/mila/t/tara.akhoundsadegh/scratch/lj13_samples/samples_v4_{T}*\"\n",
    "    \n",
    "#     # Find all matching files\n",
    "#     files = sorted(glob.glob(path_pattern))\n",
    "\n",
    "#     arrays = [np.load(file) for file in files]\n",
    "#     s = np.concatenate(arrays, axis=0)\n",
    "\n",
    "#     print(f\"Concatenated array shape: {s.shape}\")\n",
    "#     # samples = torch.tensor(samples, dtype=torch.float32).to(device)\n",
    "#     s = s.reshape(-1, dimensionality)\n",
    "#     samples[noise_std] = s\n",
    "\n",
    "# # Set the prefix and axis for concatenation\n",
    "# # path_pattern = f\"/home/mila/t/tara.akhoundsadegh/scratch/lj13_samples/samples_v4_{T}*\"\n",
    "# # path_pattern = f\"/home/mila/t/tara.akhoundsadegh/scratch/lj13_samples/samples_{noise_std}_noise_{T}*\"\n",
    "# # path_pattern = f\"/network/scratch/a/alexander.tong/lj13_samples/samples_v7_{T}*\""
   ]
  },
  {
   "cell_type": "code",
   "execution_count": 9,
   "metadata": {},
   "outputs": [],
   "source": [
    "T = 2\n",
    "T = T.__float__()\n",
    "target = LennardJonesEnergy(\n",
    "    dimensionality=dimensionality,\n",
    "    n_particles=n_particles,\n",
    "    device=device,\n",
    "    data_path= \"../../data/\",\n",
    "    smooth=False,\n",
    "    temperature=T\n",
    "    )\n",
    "\n",
    "\n",
    "target_temp1 = LennardJonesEnergy(\n",
    "    dimensionality=dimensionality,\n",
    "    n_particles=n_particles,\n",
    "    device=device,\n",
    "    data_path= \"../../data/\",\n",
    "    smooth=False,\n",
    "    temperature=1.0\n",
    "    )"
   ]
  },
  {
   "cell_type": "code",
   "execution_count": 10,
   "metadata": {},
   "outputs": [
    {
     "name": "stderr",
     "output_type": "stream",
     "text": [
      "/tmp/ipykernel_2658091/1126910096.py:3: FutureWarning: You are using `torch.load` with `weights_only=False` (the current default value), which uses the default pickle module implicitly. It is possible to construct malicious pickle data which will execute arbitrary code during unpickling (See https://github.com/pytorch/pytorch/blob/main/SECURITY.md#untrusted-models for more details). In a future release, the default value for `weights_only` will be flipped to `True`. This limits the functions that could be executed during unpickling. Arbitrary objects will no longer be allowed to be loaded via this mode unless they are explicitly allowlisted by the user via `torch.serialization.add_safe_globals`. We recommend you start setting `weights_only=True` for any use case where you don't have full control of the loaded file. Please open an issue on GitHub for any issues related to this experimental feature.\n",
      "  model_samples = torch.load(model_samples_path)\n",
      "/tmp/ipykernel_2658091/1126910096.py:9: FutureWarning: You are using `torch.load` with `weights_only=False` (the current default value), which uses the default pickle module implicitly. It is possible to construct malicious pickle data which will execute arbitrary code during unpickling (See https://github.com/pytorch/pytorch/blob/main/SECURITY.md#untrusted-models for more details). In a future release, the default value for `weights_only` will be flipped to `True`. This limits the functions that could be executed during unpickling. Arbitrary objects will no longer be allowed to be loaded via this mode unless they are explicitly allowlisted by the user via `torch.serialization.add_safe_globals`. We recommend you start setting `weights_only=True` for any use case where you don't have full control of the loaded file. Please open an issue on GitHub for any issues related to this experimental feature.\n",
      "  model_samples_not_resampled = torch.load(model_samples_path)\n",
      "/tmp/ipykernel_2658091/1126910096.py:13: FutureWarning: You are using `torch.load` with `weights_only=False` (the current default value), which uses the default pickle module implicitly. It is possible to construct malicious pickle data which will execute arbitrary code during unpickling (See https://github.com/pytorch/pytorch/blob/main/SECURITY.md#untrusted-models for more details). In a future release, the default value for `weights_only` will be flipped to `True`. This limits the functions that could be executed during unpickling. Arbitrary objects will no longer be allowed to be loaded via this mode unless they are explicitly allowlisted by the user via `torch.serialization.add_safe_globals`. We recommend you start setting `weights_only=True` for any use case where you don't have full control of the loaded file. Please open an issue on GitHub for any issues related to this experimental feature.\n",
      "  model_hightemp_samples = torch.load(model_hightemp_samples_path)\n"
     ]
    }
   ],
   "source": [
    "model_samples_path = \"/home/mila/t/tara.akhoundsadegh/feynman-kac-diffusion/runner/dem/logs/eval/multiruns/2025-01-23_02-07-27/2/samples_temperature_1.0_8192.pt\"\n",
    "\n",
    "model_samples = torch.load(model_samples_path)\n",
    "\n",
    "\n",
    "model_samples_path = \"/home/mila/t/tara.akhoundsadegh/feynman-kac-diffusion/runner/dem/logs/eval/multiruns/2025-01-23_15-29-19/2/samples_temperature_1.0_8192.pt\"\n",
    "\n",
    "\n",
    "model_samples_not_resampled = torch.load(model_samples_path)\n",
    "\n",
    "model_hightemp_samples_path = \"/home/mila/t/tara.akhoundsadegh/feynman-kac-diffusion/runner/dem/logs/eval/multiruns/2025-01-23_02-07-27/2/samples_temperature_2.0_8192.pt\"\n",
    "\n",
    "model_hightemp_samples = torch.load(model_hightemp_samples_path)"
   ]
  },
  {
   "cell_type": "code",
   "execution_count": 11,
   "metadata": {},
   "outputs": [],
   "source": [
    "target_temp2 = LennardJonesEnergy(\n",
    "    dimensionality=dimensionality,\n",
    "    n_particles=n_particles,\n",
    "    device=device,\n",
    "    data_path= \"../../data/\",\n",
    "    smooth=False,\n",
    "    temperature=2.0\n",
    "    )"
   ]
  },
  {
   "cell_type": "code",
   "execution_count": 12,
   "metadata": {},
   "outputs": [
    {
     "data": {
      "image/png": "[encoded data removed]",
      "text/plain": [
       "<Figure size 640x480 with 1 Axes>"
      ]
     },
     "metadata": {},
     "output_type": "display_data"
    }
   ],
   "source": [
    "# plt.hist(target(target.test_set).detach().cpu().numpy(), bins=100, alpha=0.5, label=\"T=4\");\n",
    "plt.hist(-target_temp2(target_temp2.test_set).detach().cpu().numpy(), bins=100, alpha=0.5, label=\"T=3\", density=True);\n",
    "# plt.hist(-target_temp1(model_samples).detach().cpu().numpy(), bins=100, alpha=0.5, label=\"T=1\", density=True);\n",
    "plt.hist(-target_temp2(model_hightemp_samples).detach().cpu().numpy(), bins=100, alpha=0.5, label=\"T=1\", density=True);"
   ]
  },
  {
   "cell_type": "code",
   "execution_count": 55,
   "metadata": {},
   "outputs": [
    {
     "data": {
      "text/plain": [
       "(tensor(-12.9979, device='cuda:0'), tensor(23.3333, device='cuda:0'))"
      ]
     },
     "execution_count": 55,
     "metadata": {},
     "output_type": "execute_result"
    }
   ],
   "source": [
    "target_temp2(model_hightemp_samples).min(), target_temp2(model_hightemp_samples).max()"
   ]
  },
  {
   "cell_type": "code",
   "execution_count": 38,
   "metadata": {},
   "outputs": [
    {
     "data": {
      "text/plain": [
       "tensor(18.1942, device='cuda:0')"
      ]
     },
     "execution_count": 38,
     "metadata": {},
     "output_type": "execute_result"
    }
   ],
   "source": [
    "target_temp1(target_temp1.test_set).min()"
   ]
  },
  {
   "cell_type": "code",
   "execution_count": 14,
   "metadata": {},
   "outputs": [],
   "source": [
    "model_samples_masked = model_samples[target_temp1(model_samples) > 10]\n",
    "model_samples_not_resampled_masked = model_samples_not_resampled[target_temp1(model_samples_not_resampled) > 10]"
   ]
  },
  {
   "cell_type": "code",
   "execution_count": 61,
   "metadata": {},
   "outputs": [
    {
     "data": {
      "text/plain": [
       "torch.Size([8000, 39])"
      ]
     },
     "execution_count": 61,
     "metadata": {},
     "output_type": "execute_result"
    }
   ],
   "source": [
    "model_samples_masked.shape"
   ]
  },
  {
   "cell_type": "code",
   "execution_count": 62,
   "metadata": {},
   "outputs": [
    {
     "data": {
      "text/plain": [
       "torch.Size([8000, 39])"
      ]
     },
     "execution_count": 62,
     "metadata": {},
     "output_type": "execute_result"
    }
   ],
   "source": [
    "model_samples_not_resampled_masked.shape"
   ]
  },
  {
   "cell_type": "code",
   "execution_count": 48,
   "metadata": {},
   "outputs": [],
   "source": [
    "mask = (target_temp1(model_samples) < 10)"
   ]
  },
  {
   "cell_type": "code",
   "execution_count": 49,
   "metadata": {},
   "outputs": [
    {
     "data": {
      "text/plain": [
       "tensor(192, device='cuda:0')"
      ]
     },
     "execution_count": 49,
     "metadata": {},
     "output_type": "execute_result"
    }
   ],
   "source": [
    "mask.sum()"
   ]
  },
  {
   "cell_type": "code",
   "execution_count": 15,
   "metadata": {},
   "outputs": [
    {
     "data": {
      "image/png": "[encoded data removed]",
      "text/plain": [
       "<Figure size 640x480 with 1 Axes>"
      ]
     },
     "metadata": {},
     "output_type": "display_data"
    }
   ],
   "source": [
    "# plt.hist(target(target.test_set).detach().cpu().numpy(), bins=100, alpha=0.5, label=\"T=4\");\n",
    "plt.hist(-target_temp1(target_temp1.test_set).detach().cpu().numpy(), bins=100, alpha=0.5, label=\"T=3\", density=True);\n",
    "# plt.hist(-target_temp1(model_samples).detach().cpu().numpy(), bins=100, alpha=0.5, label=\"T=1\", density=True);\n",
    "plt.hist(-target_temp1(model_samples_masked).detach().cpu().numpy(), bins=100, alpha=0.5, label=\"T=1\", density=True);\n",
    "plt.hist(-target_temp1(model_samples_not_resampled_masked).detach().cpu().numpy(), bins=100, alpha=0.5, label=\"T=1\", density=True);"
   ]
  },
  {
   "cell_type": "code",
   "execution_count": 32,
   "metadata": {},
   "outputs": [
    {
     "data": {
      "image/png": "[encoded data removed]",
      "text/plain": [
       "<Figure size 640x480 with 1 Axes>"
      ]
     },
     "metadata": {},
     "output_type": "display_data"
    }
   ],
   "source": [
    "# plt.hist(target(target.test_set).detach().cpu().numpy(), bins=100, alpha=0.5, label=\"T=4\");\n",
    "plt.hist(-target_temp1(target_temp1.test_set).detach().cpu().numpy(), bins=100, alpha=0.5, label=\"T=3\", density=True);\n",
    "# plt.hist(-target_temp1(model_samples).detach().cpu().numpy(), bins=100, alpha=0.5, label=\"T=1\", density=True);\n",
    "plt.hist(-target_temp1(model_samples_masked).detach().cpu().numpy(), bins=100, alpha=0.5, label=\"T=1\", density=True);\n"
   ]
  },
  {
   "cell_type": "code",
   "execution_count": 16,
   "metadata": {},
   "outputs": [],
   "source": [
    "T = 0.7\n",
    "T = T.__float__()\n",
    "target = LennardJonesEnergy(\n",
    "    dimensionality=dimensionality,\n",
    "    n_particles=n_particles,\n",
    "    device=device,\n",
    "    data_path= \"../../data/\",\n",
    "    smooth=False,\n",
    "    temperature=T\n",
    "    )"
   ]
  },
  {
   "cell_type": "code",
   "execution_count": 54,
   "metadata": {},
   "outputs": [
    {
     "data": {
      "image/png": "[encoded data removed]",
      "text/plain": [
       "<Figure size 640x480 with 1 Axes>"
      ]
     },
     "metadata": {},
     "output_type": "display_data"
    }
   ],
   "source": [
    "#plt.hist(-target(target.test_set).cpu().detach().numpy(), bins=200, alpha=0.5, density=True)\n",
    "# \n",
    "plt.hist(-target_temp1(target_temp1.test_set).cpu().detach().numpy(), bins=200, alpha=0.5, density=True, label=\"T=1.0\")\n",
    "samples_energy = target(torch.tensor(samples[0.05], dtype=torch.float32).to(device)).cpu().detach().numpy()\n",
    "plt.hist(-samples_energy, bins=300, density=True, alpha=0.5, label=f\"T=2, noise_std=0.05\");\n",
    "\n",
    "samples_energy = target(torch.tensor(samples[0.2], dtype=torch.float32).to(device)).cpu().detach().numpy()\n",
    "plt.hist(-samples_energy, bins=300, density=True, alpha=0.5, label=f\"T=2, noise=0.2\");\n",
    "\n",
    "\n",
    "# samples_energy = target(torch.tensor(samples[4], dtype=torch.float32).to(device)).cpu().detach().numpy()\n",
    "# plt.hist(-samples_energy, bins=300, density=True, alpha=0.5, label=f\"T=4\");\n",
    "\n",
    "plt.legend()\n",
    "plt.show()"
   ]
  },
  {
   "cell_type": "code",
   "execution_count": 8,
   "metadata": {},
   "outputs": [
    {
     "data": {
      "image/png": "[encoded data removed]",
      "text/plain": [
       "<Figure size 640x480 with 1 Axes>"
      ]
     },
     "metadata": {},
     "output_type": "display_data"
    }
   ],
   "source": [
    "samples_energy = target(torch.tensor(samples, dtype=torch.float32).to(device)).cpu().detach().numpy()\n",
    "plt.hist(-samples_energy, bins=300);\n",
    "# plt.xlim(-80, 40)"
   ]
  },
  {
   "cell_type": "code",
   "execution_count": 8,
   "metadata": {},
   "outputs": [
    {
     "data": {
      "text/plain": [
       "np.float32(-6.2010493)"
      ]
     },
     "execution_count": 8,
     "metadata": {},
     "output_type": "execute_result"
    }
   ],
   "source": [
    "samples_energy.mean()"
   ]
  },
  {
   "cell_type": "code",
   "execution_count": 9,
   "metadata": {},
   "outputs": [
    {
     "data": {
      "text/plain": [
       "np.float32(-6.2010493)"
      ]
     },
     "execution_count": 9,
     "metadata": {},
     "output_type": "execute_result"
    }
   ],
   "source": [
    "samples_energy.mean()"
   ]
  },
  {
   "cell_type": "code",
   "execution_count": 22,
   "metadata": {},
   "outputs": [
    {
     "data": {
      "image/png": "[encoded data removed]",
      "text/plain": [
       "<Figure size 640x480 with 1 Axes>"
      ]
     },
     "metadata": {},
     "output_type": "display_data"
    }
   ],
   "source": [
    "samples_energy = target(torch.tensor(samples, dtype=torch.float32).to(device)).cpu().detach().numpy()\n",
    "plt.hist(-samples_energy, bins=100);\n"
   ]
  },
  {
   "cell_type": "code",
   "execution_count": 10,
   "metadata": {},
   "outputs": [],
   "source": [
    "# randomly generate idices for train, val and test\n",
    "idxs = np.random.permutation(samples.shape[0])\n",
    "train_idx = idxs[:100000]\n",
    "val_idx = idxs[100000:110000]\n",
    "test_idx = idxs[110000:120000]"
   ]
  },
  {
   "cell_type": "code",
   "execution_count": 11,
   "metadata": {},
   "outputs": [],
   "source": [
    "samples_train = samples[train_idx]\n",
    "samples_val = samples[val_idx]\n",
    "samples_test = samples[test_idx]"
   ]
  },
  {
   "cell_type": "code",
   "execution_count": 12,
   "metadata": {},
   "outputs": [],
   "source": [
    "samples_train = samples[train_idx]\n",
    "samples_val = samples[val_idx]\n",
    "samples_test = samples[test_idx]\n",
    "\n",
    "# if directory does not exist, create it\n",
    "import os\n",
    "if not os.path.exists(f\"../../data/LJ13_temp_{T}\"):\n",
    "    os.makedirs(f\"../../data/LJ13_temp_{T}\")\n",
    "\n",
    "np.save(f\"../../data/LJ13_temp_{T}/train_split_LJ13-1000.npy\", samples_train)\n",
    "np.save(f\"../../data/LJ13_temp_{T}/val_split_LJ13-1000.npy\", samples_val)\n",
    "np.save(f\"../../data/LJ13_temp_{T}/test_split_LJ13-1000.npy\", samples_test)"
   ]
  },
  {
   "cell_type": "code",
   "execution_count": 13,
   "metadata": {},
   "outputs": [
    {
     "data": {
      "text/plain": [
       "tensor(4.5715, device='cuda:0')"
      ]
     },
     "execution_count": 13,
     "metadata": {},
     "output_type": "execute_result"
    }
   ],
   "source": [
    "target(samples).mean()\n",
    "\n",
    "target(samples).std()"
   ]
  },
  {
   "cell_type": "code",
   "execution_count": 18,
   "metadata": {},
   "outputs": [
    {
     "data": {
      "image/png": "[encoded data removed]",
      "text/plain": [
       "<Figure size 640x480 with 1 Axes>"
      ]
     },
     "metadata": {},
     "output_type": "display_data"
    }
   ],
   "source": [
    "plt.hist(target(samples).detach().cpu().numpy(), bins=100);"
   ]
  },
  {
   "cell_type": "code",
   "execution_count": 19,
   "metadata": {},
   "outputs": [
    {
     "data": {
      "image/png": "[encoded data removed]",
      "text/plain": [
       "<Figure size 1200x400 with 2 Axes>"
      ]
     },
     "metadata": {},
     "output_type": "display_data"
    }
   ],
   "source": [
    "target.get_dataset_fig(samples, T=1.0, T_og=T);"
   ]
  },
  {
   "cell_type": "code",
   "execution_count": 6,
   "metadata": {},
   "outputs": [
    {
     "name": "stderr",
     "output_type": "stream",
     "text": [
      "/tmp/ipykernel_3640602/4049315480.py:2: FutureWarning: You are using `torch.load` with `weights_only=False` (the current default value), which uses the default pickle module implicitly. It is possible to construct malicious pickle data which will execute arbitrary code during unpickling (See https://github.com/pytorch/pytorch/blob/main/SECURITY.md#untrusted-models for more details). In a future release, the default value for `weights_only` will be flipped to `True`. This limits the functions that could be executed during unpickling. Arbitrary objects will no longer be allowed to be loaded via this mode unless they are explicitly allowlisted by the user via `torch.serialization.add_safe_globals`. We recommend you start setting `weights_only=True` for any use case where you don't have full control of the loaded file. Please open an issue on GitHub for any issues related to this experimental feature.\n",
      "  samples = torch.load(data_path)\n"
     ]
    }
   ],
   "source": [
    "data_path = \"/home/mila/t/tara.akhoundsadegh/feynman-kac-diffusion/runner/dem/logs/eval/multiruns/2025-01-20_18-44-52/0/samples_8192.pt\"\n",
    "samples = torch.load(data_path)"
   ]
  },
  {
   "cell_type": "code",
   "execution_count": 7,
   "metadata": {},
   "outputs": [],
   "source": [
    "mask = target(samples).detach().cpu().numpy() <-100"
   ]
  },
  {
   "cell_type": "code",
   "execution_count": 8,
   "metadata": {},
   "outputs": [],
   "source": [
    "samples = samples[~mask]"
   ]
  },
  {
   "cell_type": "code",
   "execution_count": 17,
   "metadata": {},
   "outputs": [],
   "source": [
    "s = s.reshape(-1, 39)"
   ]
  },
  {
   "cell_type": "code",
   "execution_count": 26,
   "metadata": {},
   "outputs": [],
   "source": [
    "mask = target(s).detach().cpu().numpy() <-100\n",
    "s = s[~mask]"
   ]
  },
  {
   "cell_type": "code",
   "execution_count": 27,
   "metadata": {},
   "outputs": [
    {
     "data": {
      "image/png": "[encoded data removed]",
      "text/plain": [
       "<Figure size 640x480 with 1 Axes>"
      ]
     },
     "metadata": {},
     "output_type": "display_data"
    }
   ],
   "source": [
    "plt.hist(-target(samples).detach().cpu().numpy(), bins=100, alpha=0.5);\n",
    "plt.hist(-target(target.test_set).detach().cpu().numpy(), bins=100,  alpha=0.5);\n",
    "plt.hist(-target(s[:5000]).detach().cpu().numpy(), bins=100, alpha=0.5);"
   ]
  },
  {
   "cell_type": "code",
   "execution_count": 11,
   "metadata": {},
   "outputs": [
    {
     "name": "stderr",
     "output_type": "stream",
     "text": [
      "100%|██████████| 10/10 [00:12<00:00,  1.29s/it]\n"
     ]
    }
   ],
   "source": [
    "from src.energies.lennardjones_energy import LennardJonesPotential\n",
    "\n",
    "energy = LennardJonesPotential(dim=39, n_particles=13, two_event_dims=True)\n",
    "\n",
    "n_samples = 500\n",
    "n_burnin = 10\n",
    "\n",
    "# sampler_state = SamplerState(samples=[torch.randn(n_samples, 1, 13, 3)])\n",
    "sampler_state = SamplerState(samples=samples.reshape(-1, 1, 13, 3)[:500])\n",
    "mcmc_step = MCMCStep(energy,\n",
    "                     proposal=GaussianProposal(noise_std=0.1),\n",
    "                     target_temperatures=4.0)\n",
    "sampler = IterativeSampler(sampler_state,\n",
    "                           sampler_steps=[mcmc_step],\n",
    "                           stride=100,\n",
    "                           n_burnin=n_burnin,\n",
    "                           progress_bar=tqdm.tqdm,\n",
    "                           return_hook=lambda samples: [samples[0][:,0]])"
   ]
  },
  {
   "cell_type": "code",
   "execution_count": 14,
   "metadata": {},
   "outputs": [],
   "source": [
    "s = _"
   ]
  },
  {
   "cell_type": "code",
   "execution_count": null,
   "metadata": {},
   "outputs": [],
   "source": []
  },
  {
   "cell_type": "code",
   "execution_count": 12,
   "metadata": {},
   "outputs": [
    {
     "name": "stderr",
     "output_type": "stream",
     "text": [
      "100%|██████████| 500/500 [12:12<00:00,  1.46s/it]\n"
     ]
    },
    {
     "data": {
      "text/plain": [
       "tensor([[[[-1.6665e+00,  1.9954e+00,  1.2231e+00],\n",
       "          [ 5.1645e-01, -2.2807e-01, -3.9126e+00],\n",
       "          [ 1.7816e+00,  3.4912e+00,  7.4698e-01],\n",
       "          ...,\n",
       "          [-4.1651e-02,  4.9208e-01,  4.2690e-01],\n",
       "          [-6.4348e-01,  4.1625e+00, -1.2480e+00],\n",
       "          [ 2.6971e-01,  2.3093e+00,  1.3558e+00]],\n",
       "\n",
       "         [[ 1.3644e+00,  5.5303e-01,  3.5495e+00],\n",
       "          [ 1.4198e-01,  2.6719e+00, -2.9936e+00],\n",
       "          [-1.3808e+00,  1.6080e+00, -2.3813e+00],\n",
       "          ...,\n",
       "          [ 3.1690e+00,  4.4463e+00, -1.4118e+00],\n",
       "          [ 3.1289e+00, -4.8106e+00, -2.7063e+00],\n",
       "          [ 1.0892e+00, -1.8767e+00, -9.3912e-01]],\n",
       "\n",
       "         [[-2.1691e+00, -1.6375e+00,  2.6207e+00],\n",
       "          [-5.6925e-01,  2.1540e+00, -1.2778e+00],\n",
       "          [-5.2161e-01,  2.8676e+00,  2.8170e-01],\n",
       "          ...,\n",
       "          [ 3.5087e+00,  4.1531e+00,  2.0741e+00],\n",
       "          [-8.3371e-01,  3.4034e+00, -9.3672e-01],\n",
       "          [ 4.8981e-01, -8.6689e-02, -1.8994e+00]],\n",
       "\n",
       "         ...,\n",
       "\n",
       "         [[-1.3223e+00,  3.9701e-01, -9.6649e-01],\n",
       "          [-1.6944e-01, -9.6659e-01, -3.5867e-01],\n",
       "          [ 1.7069e+00,  2.0591e+00,  1.8100e+00],\n",
       "          ...,\n",
       "          [ 2.3488e+00,  1.0196e+00,  6.6346e-01],\n",
       "          [-5.2029e-02,  1.6257e-01, -1.8379e+00],\n",
       "          [ 1.8668e-01, -1.3027e-01,  6.1542e-01]],\n",
       "\n",
       "         [[-1.1199e+00, -1.0235e+00, -1.7250e-01],\n",
       "          [ 9.1421e-01,  9.9649e-01, -2.1731e+00],\n",
       "          [ 2.1170e+00,  1.3595e+00,  6.7296e-01],\n",
       "          ...,\n",
       "          [ 1.4974e+00,  2.2526e+00,  1.6217e+00],\n",
       "          [-1.0515e+00,  5.1080e-01, -1.7967e+00],\n",
       "          [-5.8428e-01,  8.6359e-01, -1.2757e-01]],\n",
       "\n",
       "         [[-1.2704e+00, -1.4010e+00, -3.0233e-01],\n",
       "          [-9.0272e-02,  8.1628e-01, -1.9349e+00],\n",
       "          [ 1.1908e+00,  1.2719e+00,  8.6692e-03],\n",
       "          ...,\n",
       "          [ 1.4869e+00,  1.5625e+00,  2.2041e+00],\n",
       "          [-1.4874e+00,  4.9893e-01, -8.6016e-01],\n",
       "          [-6.4553e-01,  9.6924e-01,  5.3349e-01]]],\n",
       "\n",
       "\n",
       "        [[[-1.8718e+00,  2.6775e+00,  1.0244e+00],\n",
       "          [ 3.1910e-01, -5.0865e-01, -3.7741e+00],\n",
       "          [ 3.4536e+00,  3.6564e+00,  1.3212e+00],\n",
       "          ...,\n",
       "          [-6.2085e-01, -5.1340e-01,  1.1340e+00],\n",
       "          [-4.5249e-01,  5.9265e+00, -1.6060e+00],\n",
       "          [ 1.8893e-01,  7.1717e-01,  2.4444e-01]],\n",
       "\n",
       "         [[ 2.5014e+00, -9.8827e-01,  2.9297e+00],\n",
       "          [ 2.0735e-02,  3.9601e+00, -3.5480e+00],\n",
       "          [-3.1286e+00,  8.9118e-01, -2.3351e+00],\n",
       "          ...,\n",
       "          [ 4.1230e+00,  2.9405e+00, -8.0933e-01],\n",
       "          [ 2.8657e+00, -4.9376e+00, -3.2956e+00],\n",
       "          [ 7.4531e-01, -5.2493e-01, -2.0049e+00]],\n",
       "\n",
       "         [[-2.1691e+00, -1.6375e+00,  2.6207e+00],\n",
       "          [-5.6925e-01,  2.1540e+00, -1.2778e+00],\n",
       "          [-5.2161e-01,  2.8676e+00,  2.8170e-01],\n",
       "          ...,\n",
       "          [ 3.5087e+00,  4.1531e+00,  2.0741e+00],\n",
       "          [-8.3371e-01,  3.4034e+00, -9.3672e-01],\n",
       "          [ 4.8981e-01, -8.6689e-02, -1.8994e+00]],\n",
       "\n",
       "         ...,\n",
       "\n",
       "         [[-1.3223e+00,  3.9701e-01, -9.6649e-01],\n",
       "          [-1.6944e-01, -9.6659e-01, -3.5867e-01],\n",
       "          [ 1.7069e+00,  2.0591e+00,  1.8100e+00],\n",
       "          ...,\n",
       "          [ 2.3488e+00,  1.0196e+00,  6.6346e-01],\n",
       "          [-5.2029e-02,  1.6257e-01, -1.8379e+00],\n",
       "          [ 1.8668e-01, -1.3027e-01,  6.1542e-01]],\n",
       "\n",
       "         [[-1.1199e+00, -1.0235e+00, -1.7250e-01],\n",
       "          [ 9.1421e-01,  9.9649e-01, -2.1731e+00],\n",
       "          [ 2.1170e+00,  1.3595e+00,  6.7296e-01],\n",
       "          ...,\n",
       "          [ 1.4974e+00,  2.2526e+00,  1.6217e+00],\n",
       "          [-1.0515e+00,  5.1080e-01, -1.7967e+00],\n",
       "          [-5.8428e-01,  8.6359e-01, -1.2757e-01]],\n",
       "\n",
       "         [[-1.2704e+00, -1.4010e+00, -3.0233e-01],\n",
       "          [-9.0272e-02,  8.1628e-01, -1.9349e+00],\n",
       "          [ 1.1908e+00,  1.2719e+00,  8.6692e-03],\n",
       "          ...,\n",
       "          [ 1.4869e+00,  1.5625e+00,  2.2041e+00],\n",
       "          [-1.4874e+00,  4.9893e-01, -8.6016e-01],\n",
       "          [-6.4553e-01,  9.6924e-01,  5.3349e-01]]],\n",
       "\n",
       "\n",
       "        [[[-1.1057e+00,  2.9049e+00,  1.7492e+00],\n",
       "          [ 1.5491e+00,  2.7054e-02, -4.6341e+00],\n",
       "          [ 2.7401e+00,  4.2517e+00,  1.9427e-01],\n",
       "          ...,\n",
       "          [-1.1676e+00, -1.1858e+00, -9.1788e-02],\n",
       "          [-2.2137e-01,  4.3340e+00, -1.0469e+00],\n",
       "          [ 9.6375e-01,  1.4019e-01, -2.7806e-01]],\n",
       "\n",
       "         [[ 1.9313e+00, -1.7621e+00,  3.6996e+00],\n",
       "          [ 1.4088e+00,  2.5441e+00, -5.2341e+00],\n",
       "          [-2.0906e+00,  2.2349e-01, -1.3252e+00],\n",
       "          ...,\n",
       "          [ 4.2761e+00,  1.4147e+00, -3.4454e-01],\n",
       "          [ 2.1803e+00, -5.2337e+00, -3.2313e+00],\n",
       "          [ 1.6671e+00, -1.9245e+00, -1.8953e+00]],\n",
       "\n",
       "         [[-2.1691e+00, -1.6375e+00,  2.6207e+00],\n",
       "          [-5.6925e-01,  2.1540e+00, -1.2778e+00],\n",
       "          [-5.2161e-01,  2.8676e+00,  2.8170e-01],\n",
       "          ...,\n",
       "          [ 3.5087e+00,  4.1531e+00,  2.0741e+00],\n",
       "          [-8.3371e-01,  3.4034e+00, -9.3672e-01],\n",
       "          [ 4.8981e-01, -8.6689e-02, -1.8994e+00]],\n",
       "\n",
       "         ...,\n",
       "\n",
       "         [[-1.3223e+00,  3.9701e-01, -9.6649e-01],\n",
       "          [-1.6944e-01, -9.6659e-01, -3.5867e-01],\n",
       "          [ 1.7069e+00,  2.0591e+00,  1.8100e+00],\n",
       "          ...,\n",
       "          [ 2.3488e+00,  1.0196e+00,  6.6346e-01],\n",
       "          [-5.2029e-02,  1.6257e-01, -1.8379e+00],\n",
       "          [ 1.8668e-01, -1.3027e-01,  6.1542e-01]],\n",
       "\n",
       "         [[-1.1199e+00, -1.0235e+00, -1.7250e-01],\n",
       "          [ 9.1421e-01,  9.9649e-01, -2.1731e+00],\n",
       "          [ 2.1170e+00,  1.3595e+00,  6.7296e-01],\n",
       "          ...,\n",
       "          [ 1.4974e+00,  2.2526e+00,  1.6217e+00],\n",
       "          [-1.0515e+00,  5.1080e-01, -1.7967e+00],\n",
       "          [-5.8428e-01,  8.6359e-01, -1.2757e-01]],\n",
       "\n",
       "         [[-1.2704e+00, -1.4010e+00, -3.0233e-01],\n",
       "          [-9.0272e-02,  8.1628e-01, -1.9349e+00],\n",
       "          [ 1.1908e+00,  1.2719e+00,  8.6692e-03],\n",
       "          ...,\n",
       "          [ 1.4869e+00,  1.5625e+00,  2.2041e+00],\n",
       "          [-1.4874e+00,  4.9893e-01, -8.6016e-01],\n",
       "          [-6.4553e-01,  9.6924e-01,  5.3349e-01]]],\n",
       "\n",
       "\n",
       "        ...,\n",
       "\n",
       "\n",
       "        [[[ 9.5530e-01, -3.6908e+00, -2.2769e-01],\n",
       "          [-2.0265e+00, -2.0670e+00, -1.3911e+00],\n",
       "          [ 3.4761e+00, -2.6987e+00, -9.2567e-01],\n",
       "          ...,\n",
       "          [ 1.3523e+00, -8.4034e-01,  2.2713e-01],\n",
       "          [-3.8694e+00, -3.2522e+00,  3.3253e+00],\n",
       "          [ 8.6779e-01, -3.2795e+00, -2.0145e+00]],\n",
       "\n",
       "         [[ 5.0192e+00, -2.9911e-01,  8.8603e+00],\n",
       "          [ 5.9468e+00,  2.6483e+00, -4.8293e+00],\n",
       "          [-3.7394e+00,  2.1206e+00,  1.7360e-01],\n",
       "          ...,\n",
       "          [ 5.7506e+00,  3.2232e+00, -2.9753e+00],\n",
       "          [ 7.2502e-02, -4.4574e+00, -3.1848e+00],\n",
       "          [ 2.5204e+00,  8.8216e-01, -3.7840e-01]],\n",
       "\n",
       "         [[-2.1691e+00, -1.6375e+00,  2.6207e+00],\n",
       "          [-5.6925e-01,  2.1540e+00, -1.2778e+00],\n",
       "          [-5.2161e-01,  2.8676e+00,  2.8170e-01],\n",
       "          ...,\n",
       "          [ 3.5087e+00,  4.1531e+00,  2.0741e+00],\n",
       "          [-8.3371e-01,  3.4034e+00, -9.3672e-01],\n",
       "          [ 4.8981e-01, -8.6689e-02, -1.8994e+00]],\n",
       "\n",
       "         ...,\n",
       "\n",
       "         [[-1.3223e+00,  3.9701e-01, -9.6649e-01],\n",
       "          [-1.6944e-01, -9.6659e-01, -3.5867e-01],\n",
       "          [ 1.7069e+00,  2.0591e+00,  1.8100e+00],\n",
       "          ...,\n",
       "          [ 2.3488e+00,  1.0196e+00,  6.6346e-01],\n",
       "          [-5.2029e-02,  1.6257e-01, -1.8379e+00],\n",
       "          [ 1.8668e-01, -1.3027e-01,  6.1542e-01]],\n",
       "\n",
       "         [[-1.1199e+00, -1.0235e+00, -1.7250e-01],\n",
       "          [ 9.1421e-01,  9.9649e-01, -2.1731e+00],\n",
       "          [ 2.1170e+00,  1.3595e+00,  6.7296e-01],\n",
       "          ...,\n",
       "          [ 1.4974e+00,  2.2526e+00,  1.6217e+00],\n",
       "          [-1.0515e+00,  5.1080e-01, -1.7967e+00],\n",
       "          [-5.8428e-01,  8.6359e-01, -1.2757e-01]],\n",
       "\n",
       "         [[-1.2704e+00, -1.4010e+00, -3.0233e-01],\n",
       "          [-9.0272e-02,  8.1628e-01, -1.9349e+00],\n",
       "          [ 1.1908e+00,  1.2719e+00,  8.6692e-03],\n",
       "          ...,\n",
       "          [ 1.4869e+00,  1.5625e+00,  2.2041e+00],\n",
       "          [-1.4874e+00,  4.9893e-01, -8.6016e-01],\n",
       "          [-6.4553e-01,  9.6924e-01,  5.3349e-01]]],\n",
       "\n",
       "\n",
       "        [[[ 1.9473e+00, -3.9829e+00,  1.3737e+00],\n",
       "          [-1.3893e+00, -2.8012e+00, -3.0515e+00],\n",
       "          [ 3.7744e+00, -3.3961e+00, -8.5024e-01],\n",
       "          ...,\n",
       "          [ 3.4598e-01, -3.6120e-01, -6.5532e-01],\n",
       "          [-2.3305e+00, -2.2692e+00,  3.2964e+00],\n",
       "          [ 8.3182e-01, -4.9064e+00, -1.2808e+00]],\n",
       "\n",
       "         [[ 5.0192e+00, -2.9911e-01,  8.8603e+00],\n",
       "          [ 5.9468e+00,  2.6483e+00, -4.8293e+00],\n",
       "          [-3.7394e+00,  2.1206e+00,  1.7360e-01],\n",
       "          ...,\n",
       "          [ 5.7506e+00,  3.2232e+00, -2.9753e+00],\n",
       "          [ 7.2502e-02, -4.4574e+00, -3.1848e+00],\n",
       "          [ 2.5204e+00,  8.8216e-01, -3.7840e-01]],\n",
       "\n",
       "         [[-2.1691e+00, -1.6375e+00,  2.6207e+00],\n",
       "          [-5.6925e-01,  2.1540e+00, -1.2778e+00],\n",
       "          [-5.2161e-01,  2.8676e+00,  2.8170e-01],\n",
       "          ...,\n",
       "          [ 3.5087e+00,  4.1531e+00,  2.0741e+00],\n",
       "          [-8.3371e-01,  3.4034e+00, -9.3672e-01],\n",
       "          [ 4.8981e-01, -8.6689e-02, -1.8994e+00]],\n",
       "\n",
       "         ...,\n",
       "\n",
       "         [[-1.3223e+00,  3.9701e-01, -9.6649e-01],\n",
       "          [-1.6944e-01, -9.6659e-01, -3.5867e-01],\n",
       "          [ 1.7069e+00,  2.0591e+00,  1.8100e+00],\n",
       "          ...,\n",
       "          [ 2.3488e+00,  1.0196e+00,  6.6346e-01],\n",
       "          [-5.2029e-02,  1.6257e-01, -1.8379e+00],\n",
       "          [ 1.8668e-01, -1.3027e-01,  6.1542e-01]],\n",
       "\n",
       "         [[-1.1199e+00, -1.0235e+00, -1.7250e-01],\n",
       "          [ 9.1421e-01,  9.9649e-01, -2.1731e+00],\n",
       "          [ 2.1170e+00,  1.3595e+00,  6.7296e-01],\n",
       "          ...,\n",
       "          [ 1.4974e+00,  2.2526e+00,  1.6217e+00],\n",
       "          [-1.0515e+00,  5.1080e-01, -1.7967e+00],\n",
       "          [-5.8428e-01,  8.6359e-01, -1.2757e-01]],\n",
       "\n",
       "         [[-1.2704e+00, -1.4010e+00, -3.0233e-01],\n",
       "          [-9.0272e-02,  8.1628e-01, -1.9349e+00],\n",
       "          [ 1.1908e+00,  1.2719e+00,  8.6692e-03],\n",
       "          ...,\n",
       "          [ 1.4869e+00,  1.5625e+00,  2.2041e+00],\n",
       "          [-1.4874e+00,  4.9893e-01, -8.6016e-01],\n",
       "          [-6.4553e-01,  9.6924e-01,  5.3349e-01]]],\n",
       "\n",
       "\n",
       "        [[[ 8.2668e-01, -3.3121e+00,  1.1347e+00],\n",
       "          [-6.1537e-01, -2.1817e+00, -2.5420e+00],\n",
       "          [ 3.4317e+00, -3.4692e+00, -1.3585e+00],\n",
       "          ...,\n",
       "          [ 3.3960e-01, -3.8756e-01, -9.1564e-02],\n",
       "          [-1.0400e+00, -2.8979e+00,  3.2835e+00],\n",
       "          [ 1.7000e+00, -5.9774e+00, -8.6029e-01]],\n",
       "\n",
       "         [[ 5.0192e+00, -2.9911e-01,  8.8603e+00],\n",
       "          [ 5.9468e+00,  2.6483e+00, -4.8293e+00],\n",
       "          [-3.7394e+00,  2.1206e+00,  1.7360e-01],\n",
       "          ...,\n",
       "          [ 5.7506e+00,  3.2232e+00, -2.9753e+00],\n",
       "          [ 7.2502e-02, -4.4574e+00, -3.1848e+00],\n",
       "          [ 2.5204e+00,  8.8216e-01, -3.7840e-01]],\n",
       "\n",
       "         [[-2.1691e+00, -1.6375e+00,  2.6207e+00],\n",
       "          [-5.6925e-01,  2.1540e+00, -1.2778e+00],\n",
       "          [-5.2161e-01,  2.8676e+00,  2.8170e-01],\n",
       "          ...,\n",
       "          [ 3.5087e+00,  4.1531e+00,  2.0741e+00],\n",
       "          [-8.3371e-01,  3.4034e+00, -9.3672e-01],\n",
       "          [ 4.8981e-01, -8.6689e-02, -1.8994e+00]],\n",
       "\n",
       "         ...,\n",
       "\n",
       "         [[-1.3223e+00,  3.9701e-01, -9.6649e-01],\n",
       "          [-1.6944e-01, -9.6659e-01, -3.5867e-01],\n",
       "          [ 1.7069e+00,  2.0591e+00,  1.8100e+00],\n",
       "          ...,\n",
       "          [ 2.3488e+00,  1.0196e+00,  6.6346e-01],\n",
       "          [-5.2029e-02,  1.6257e-01, -1.8379e+00],\n",
       "          [ 1.8668e-01, -1.3027e-01,  6.1542e-01]],\n",
       "\n",
       "         [[-1.1199e+00, -1.0235e+00, -1.7250e-01],\n",
       "          [ 9.1421e-01,  9.9649e-01, -2.1731e+00],\n",
       "          [ 2.1170e+00,  1.3595e+00,  6.7296e-01],\n",
       "          ...,\n",
       "          [ 1.4974e+00,  2.2526e+00,  1.6217e+00],\n",
       "          [-1.0515e+00,  5.1080e-01, -1.7967e+00],\n",
       "          [-5.8428e-01,  8.6359e-01, -1.2757e-01]],\n",
       "\n",
       "         [[-1.2704e+00, -1.4010e+00, -3.0233e-01],\n",
       "          [-9.0272e-02,  8.1628e-01, -1.9349e+00],\n",
       "          [ 1.1908e+00,  1.2719e+00,  8.6692e-03],\n",
       "          ...,\n",
       "          [ 1.4869e+00,  1.5625e+00,  2.2041e+00],\n",
       "          [-1.4874e+00,  4.9893e-01, -8.6016e-01],\n",
       "          [-6.4553e-01,  9.6924e-01,  5.3349e-01]]]], device='cuda:0')"
      ]
     },
     "execution_count": 12,
     "metadata": {},
     "output_type": "execute_result"
    }
   ],
   "source": [
    "sampler.sample(n_samples)"
   ]
  },
  {
   "cell_type": "code",
   "execution_count": null,
   "metadata": {},
   "outputs": [],
   "source": []
  }
 ],
 "metadata": {
  "kernelspec": {
   "display_name": "Python 3",
   "language": "python",
   "name": "python3"
  },
  "language_info": {
   "codemirror_mode": {
    "name": "ipython",
    "version": 3
   },
   "file_extension": ".py",
   "mimetype": "text/x-python",
   "name": "python",
   "nbconvert_exporter": "python",
   "pygments_lexer": "ipython3",
   "version": "3.10.16"
  }
 },
 "nbformat": 4,
 "nbformat_minor": 2
}
