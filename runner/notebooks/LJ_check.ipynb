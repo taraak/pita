{
 "cells": [
  {
   "cell_type": "code",
   "execution_count": null,
   "metadata": {},
   "outputs": [],
   "source": [
    "import numpy as np\n",
    "import torch\n",
    "from matplotlib import pyplot as plt\n",
    "from src.energies.lennardjones_energy import LennardJonesEnergy"
   ]
  },
  {
   "cell_type": "code",
   "execution_count": null,
   "metadata": {},
   "outputs": [],
   "source": [
    "# path=\"/network/scratch/t/tara.akhoundsadegh/energy_temp/logs/train/multiruns/2025-04-09_08-25-58/0/buffer_samples_temperature_1.330.pt\"\n",
    "# path = \"/network/scratch/t/tara.akhoundsadegh/energy_temp/logs/train/multiruns/2025-04-09_15-09-07/0/buffer_samples_temperature_1.330.pt\"\n",
    "# path=\"/network/scratch/t/tara.akhoundsadegh/energy_temp/logs/train/multiruns/2025-04-10_16-32-37/0/buffer_samples_temperature_1.330.pt\"\n",
    "path = \"/network/scratch/t/tara.akhoundsadegh/energy_temp/logs/train/multiruns/2025-04-12_16-00-29/0/buffer_samples_temperature_1.330.pt\"\n",
    "path_energy = \"/network/scratch/t/tara.akhoundsadegh/energy_temp/logs/train/multiruns/2025-04-12_16-00-29/0/buffer_energies_temperature_1.330.pt\"\n",
    "buffer_data = torch.load(\n",
    "    path,\n",
    "    map_location=torch.device(\"cpu\"),\n",
    ")\n",
    "\n",
    "buffer_energies_load = torch.load(\n",
    "    path_energy,\n",
    "    map_location=torch.device(\"cpu\"),\n",
    ")"
   ]
  },
  {
   "cell_type": "code",
   "execution_count": null,
   "metadata": {},
   "outputs": [],
   "source": [
    "energy = LennardJonesEnergy(\n",
    "    dimensionality=39,\n",
    "    n_particles=13,\n",
    "    spatial_dim=3,\n",
    "    device=\"cpu\",\n",
    "    data_path=\"../../data/lj13/\",\n",
    "    smooth=False,\n",
    "    temperature=1.5,\n",
    ")"
   ]
  },
  {
   "cell_type": "code",
   "execution_count": null,
   "metadata": {},
   "outputs": [],
   "source": [
    "buffer_data.shape\n",
    "buffer_data_energy = energy(buffer_data)\n",
    "\n",
    "# filter buffer data energy\n",
    "# buffer_data_energy = buffer_data_energy[buffer_data_energy > -50]"
   ]
  },
  {
   "cell_type": "code",
   "execution_count": null,
   "metadata": {},
   "outputs": [],
   "source": [
    "buffer_data_energy.shape"
   ]
  },
  {
   "cell_type": "code",
   "execution_count": null,
   "metadata": {},
   "outputs": [],
   "source": [
    "buffer_data_energy.mean()"
   ]
  },
  {
   "cell_type": "code",
   "execution_count": null,
   "metadata": {},
   "outputs": [],
   "source": [
    "plt.hist(-buffer_data_energy, bins=200, density=True, alpha=0.5, color=\"blue\", label=\"Buffer data\")\n",
    "plt.hist(-energy(energy.test_set), bins=200, alpha=0.5, density=True, label=\"T=1.5\")\n",
    "plt.hist(\n",
    "    -buffer_energies_load, bins=200, density=True, alpha=0.5, color=\"red\", label=\"Buffer energies\"\n",
    ")\n",
    "plt.legend()\n",
    "plt.xlim(-50, 50)"
   ]
  },
  {
   "cell_type": "code",
   "execution_count": null,
   "metadata": {},
   "outputs": [],
   "source": []
  }
 ],
 "metadata": {
  "kernelspec": {
   "display_name": "Python 3",
   "language": "python",
   "name": "python3"
  },
  "language_info": {
   "codemirror_mode": {
    "name": "ipython",
    "version": 3
   },
   "file_extension": ".py",
   "mimetype": "text/x-python",
   "name": "python",
   "nbconvert_exporter": "python",
   "pygments_lexer": "ipython3",
   "version": "3.10.17"
  }
 },
 "nbformat": 4,
 "nbformat_minor": 2
}
