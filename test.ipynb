{
 "cells": [
  {
   "cell_type": "code",
   "execution_count": 34,
   "metadata": {},
   "outputs": [
    {
     "name": "stdout",
     "output_type": "stream",
     "text": [
      "  Country          Cause       Deaths\n",
      "0  Canada  Heart Disease      50000.0\n",
      "1   China       Covid-19  800000000.0\n",
      "2     USA  Heart Disease     700000.0\n"
     ]
    }
   ],
   "source": [
    "import pandas as pd\n",
    "\n",
    "# Sample data loading\n",
    "# Replace this with your actual data loading method\n",
    "data = {\n",
    "    'Country': ['USA', 'USA', 'USA', \n",
    "                'Canada', 'Canada', 'Canada', \n",
    "                'China', 'China', 'China', 'China'],\n",
    "    'Cause': ['Heart Disease', 'Cancer', 'Accidents',\n",
    "              'Heart Disease', 'Cancer', 'Accidents',\n",
    "              'Liver Disease', 'Covid-19', 'Alzeihmers', 'Cancer'],\n",
    "    'Deaths': [7e5, 6e5, 2e5,\n",
    "               5e4, 4e4, 1e4,\n",
    "               3e4, 8e8, 1e5, 4e5]\n",
    "}\n",
    "\n",
    "df = pd.DataFrame(data)\n",
    "\n",
    "# Grouping by country and finding the cause with the maximum deaths\n",
    "result = df.groupby('Country').apply(lambda x: x.loc[x['Deaths'].idxmax()])\n",
    "\n",
    "# Resetting the index for a cleaner look\n",
    "result = result.reset_index(drop=True)\n",
    "\n",
    "# Displaying the result\n",
    "print(result)"
   ]
  },
  {
   "cell_type": "markdown",
   "metadata": {},
   "source": [
    "### Response A"
   ]
  },
  {
   "cell_type": "code",
   "execution_count": 29,
   "metadata": {},
   "outputs": [],
   "source": [
    "C_A= einsum('bij,bkj->bik', A, B.transpose(0, 2, 1))"
   ]
  },
  {
   "cell_type": "code",
   "execution_count": 30,
   "metadata": {},
   "outputs": [
    {
     "data": {
      "text/plain": [
       "array([[[ True,  True],\n",
       "        [ True,  True]],\n",
       "\n",
       "       [[ True,  True],\n",
       "        [ True,  True]],\n",
       "\n",
       "       [[ True,  True],\n",
       "        [ True,  True]]])"
      ]
     },
     "execution_count": 30,
     "metadata": {},
     "output_type": "execute_result"
    }
   ],
   "source": [
    "C == C_A"
   ]
  },
  {
   "cell_type": "markdown",
   "metadata": {},
   "source": [
    "### Response B"
   ]
  },
  {
   "cell_type": "code",
   "execution_count": 40,
   "metadata": {},
   "outputs": [],
   "source": [
    "data = {\n",
    "    'Country': ['USA', 'UK', 'Canada', 'France', 'Germany'],    \n",
    "    'Cause_1': [700000, 550000, 280000, 400000, 350000],    \n",
    "    'Cause_2': [650000, 500000, 250000, 380000, 320000],    \n",
    "    'Cause_3': [400000, 450000, 200000, 300000, 280000],    \n",
    "    # ... add more causes as needed\n",
    "    }\n",
    "df = pd.DataFrame(data)"
   ]
  },
  {
   "cell_type": "code",
   "execution_count": 41,
   "metadata": {},
   "outputs": [
    {
     "data": {
      "text/html": [
       "<div>\n",
       "<style scoped>\n",
       "    .dataframe tbody tr th:only-of-type {\n",
       "        vertical-align: middle;\n",
       "    }\n",
       "\n",
       "    .dataframe tbody tr th {\n",
       "        vertical-align: top;\n",
       "    }\n",
       "\n",
       "    .dataframe thead th {\n",
       "        text-align: right;\n",
       "    }\n",
       "</style>\n",
       "<table border=\"1\" class=\"dataframe\">\n",
       "  <thead>\n",
       "    <tr style=\"text-align: right;\">\n",
       "      <th></th>\n",
       "      <th>Country</th>\n",
       "      <th>Cause_1</th>\n",
       "      <th>Cause_2</th>\n",
       "      <th>Cause_3</th>\n",
       "    </tr>\n",
       "  </thead>\n",
       "  <tbody>\n",
       "    <tr>\n",
       "      <th>0</th>\n",
       "      <td>USA</td>\n",
       "      <td>700000</td>\n",
       "      <td>650000</td>\n",
       "      <td>400000</td>\n",
       "    </tr>\n",
       "    <tr>\n",
       "      <th>1</th>\n",
       "      <td>UK</td>\n",
       "      <td>550000</td>\n",
       "      <td>500000</td>\n",
       "      <td>450000</td>\n",
       "    </tr>\n",
       "    <tr>\n",
       "      <th>2</th>\n",
       "      <td>Canada</td>\n",
       "      <td>280000</td>\n",
       "      <td>250000</td>\n",
       "      <td>200000</td>\n",
       "    </tr>\n",
       "    <tr>\n",
       "      <th>3</th>\n",
       "      <td>France</td>\n",
       "      <td>400000</td>\n",
       "      <td>380000</td>\n",
       "      <td>300000</td>\n",
       "    </tr>\n",
       "    <tr>\n",
       "      <th>4</th>\n",
       "      <td>Germany</td>\n",
       "      <td>350000</td>\n",
       "      <td>320000</td>\n",
       "      <td>280000</td>\n",
       "    </tr>\n",
       "  </tbody>\n",
       "</table>\n",
       "</div>"
      ],
      "text/plain": [
       "   Country  Cause_1  Cause_2  Cause_3\n",
       "0      USA   700000   650000   400000\n",
       "1       UK   550000   500000   450000\n",
       "2   Canada   280000   250000   200000\n",
       "3   France   400000   380000   300000\n",
       "4  Germany   350000   320000   280000"
      ]
     },
     "execution_count": 41,
     "metadata": {},
     "output_type": "execute_result"
    }
   ],
   "source": [
    "df"
   ]
  },
  {
   "cell_type": "code",
   "execution_count": 42,
   "metadata": {},
   "outputs": [
    {
     "name": "stdout",
     "output_type": "stream",
     "text": [
      "           Country  Highest_Cause  Highest_Deaths\n",
      "Country                                          \n",
      "Canada  2   Canada         280000          280000\n",
      "France  3   France         400000          400000\n",
      "Germany 4  Germany         350000          350000\n",
      "UK      1       UK         550000          550000\n",
      "USA     0      USA         700000          700000\n"
     ]
    }
   ],
   "source": [
    "def g(df):   \n",
    "    highest_cause_col = df.filter(like='Cause').idxmax(axis=1)\n",
    "    df['Highest_Cause'] = df[highest_cause_col]    \n",
    "    df['Highest_Deaths'] = df.filter(like='Cause').max(axis=1)    \n",
    "    return df[['Country', 'Highest_Cause', 'Highest_Deaths']]\n",
    "\n",
    "\n",
    "\n",
    "result = df.groupby('Country').apply(g)\n",
    "print(result)"
   ]
  },
  {
   "cell_type": "code",
   "execution_count": null,
   "metadata": {},
   "outputs": [],
   "source": []
  }
 ],
 "metadata": {
  "kernelspec": {
   "display_name": "Python 3",
   "language": "python",
   "name": "python3"
  },
  "language_info": {
   "codemirror_mode": {
    "name": "ipython",
    "version": 3
   },
   "file_extension": ".py",
   "mimetype": "text/x-python",
   "name": "python",
   "nbconvert_exporter": "python",
   "pygments_lexer": "ipython3",
   "version": "3.10.4"
  }
 },
 "nbformat": 4,
 "nbformat_minor": 2
}
