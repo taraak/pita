{
 "cells": [
  {
   "cell_type": "code",
   "execution_count": 1,
   "metadata": {},
   "outputs": [],
   "source": [
    "%load_ext autoreload\n",
    "%autoreload 2"
   ]
  },
  {
   "cell_type": "code",
   "execution_count": 2,
   "metadata": {},
   "outputs": [
    {
     "name": "stdout",
     "output_type": "stream",
     "text": [
      "Warning: Dependencies for Boltzmann generators could not be loaded. Other models can still be used.\n",
      "Warning: Dependencies for Boltzmann generators could not be loaded. Other models can still be used.\n"
     ]
    }
   ],
   "source": [
    "import normflows as nf\n",
    "import matplotlib.pyplot as plt\n",
    "import torch\n",
    "import numpy as np\n",
    "from torch.optim import Adam\n",
    "from torch.utils.data import TensorDataset, DataLoader\n",
    "from fab import FABModel, HamiltonianMonteCarlo, Metropolis\n",
    "from fab.utils.logging import ListLogger\n",
    "from fab.utils.plotting import plot_history, plot_contours, plot_marginal_pair\n",
    "from fab.target_distributions.gmm import GMM\n",
    "from fab.utils.prioritised_replay_buffer import SimpleBuffer\n",
    "from torch.autograd import grad\n",
    "from fab.utils.plotting import plot_contours, plot_marginal_pair\n",
    "from experiments.make_flow import make_wrapped_normflow_realnvp\n",
    "import models.ddpm\n",
    "import models.mlp\n",
    "import pdb\n",
    "from tqdm import tqdm\n",
    "from models.ddpm import GaussianDiffusion, TMLP\n",
    "from models.mlp import MyMLP, SpectralNormMLP\n",
    "\n",
    "import torch\n",
    "import torchsde\n",
    "\n",
    "from functorch import vmap\n",
    "\n",
    "from torchdiffeq import odeint\n",
    "\n",
    "\n",
    "from torch.func import jacrev"
   ]
  },
  {
   "cell_type": "code",
   "execution_count": 3,
   "metadata": {},
   "outputs": [
    {
     "name": "stdout",
     "output_type": "stream",
     "text": [
      "cuda\n"
     ]
    }
   ],
   "source": [
    "device = torch.device(\"cuda\" if torch.cuda.is_available() else \"cpu\")\n",
    "print(device)"
   ]
  },
  {
   "cell_type": "code",
   "execution_count": 4,
   "metadata": {},
   "outputs": [],
   "source": [
    "# calculate the log expectation of the reward\n",
    "def log_E_R(\n",
    "    _x, _t, beta, num_mc_samples):\n",
    "    h_t = beta * _t.repeat_interleave(num_mc_samples).unsqueeze(1)\n",
    "    repeated_x = _x.unsqueeze(0).repeat_interleave(num_mc_samples, dim=0)\n",
    "    repeated_t = _t.unsqueeze(0).repeat_interleave(num_mc_samples, dim=0)\n",
    "    h_t = beta * repeated_t\n",
    "    h_t = h_t.unsqueeze(1)\n",
    "\n",
    "    samples = repeated_x + torch.randn(repeated_x.shape).to(device) * (h_t**0.5)\n",
    "    log_rewards = p1.log_prob(samples)\n",
    "    log_expectation_R = torch.logsumexp(log_rewards, dim=-1) - np.log(num_mc_samples)\n",
    "\n",
    "    return log_expectation_R\n",
    "\n",
    "\n",
    "def estimate_grad_Rt(\n",
    "    x, t, beta, num_mc_samples=100):\n",
    "    est_scores_n = torch.func.grad(log_E_R)(x, t, beta, num_mc_samples)\n",
    "    return est_scores_n"
   ]
  },
  {
   "cell_type": "code",
   "execution_count": 65,
   "metadata": {},
   "outputs": [],
   "source": [
    "def true_Rt(x, t, beta, sigma=2.0, dim=1):\n",
    "    h_t = beta * t\n",
    "    dist = torch.distributions.MultivariateNormal(\n",
    "        torch.zeros(dim).to(device),\n",
    "        torch.eye(dim).to(device)*sigma**2 + h_t,\n",
    "        validate_args=False\n",
    "    )\n",
    "    return dist.log_prob(x)\n",
    "\n",
    "def true_grad_Rt(x, t, beta, var_exploding=True):\n",
    "    with torch.enable_grad():\n",
    "        samples_energy = true_Rt(x, t, beta)\n",
    "    true_scores = torch.autograd.grad(samples_energy.sum(), x, create_graph=True)[0]\n",
    "    return true_scores"
   ]
  },
  {
   "cell_type": "code",
   "execution_count": 66,
   "metadata": {},
   "outputs": [],
   "source": [
    "def drift(x, t):\n",
    "    with torch.enable_grad():\n",
    "        x.requires_grad = True\n",
    "        if follow_estimate:\n",
    "            f = -0.5 * beta * estimate_grad_Rt(x, t, beta, num_mc_samples=100)\n",
    "            norm = torch.linalg.vector_norm(f, dim=-1)\n",
    "            #print(norm.max())\n",
    "            max_norm = 200\n",
    "            clip_coef = torch.clamp(max_norm / (norm+1e-6), max=1)\n",
    "            f = f * clip_coef.unsqueeze(-1)\n",
    "        else:\n",
    "            f = - 0.5 * beta * true_grad_Rt(x, t, beta)\n",
    "        \n",
    "    return f"
   ]
  },
  {
   "cell_type": "code",
   "execution_count": 75,
   "metadata": {},
   "outputs": [],
   "source": [
    "def div_fn(u):\n",
    "    \"\"\"Accepts a function u:R^D -> R^D.\"\"\"\n",
    "    J = jacrev(u)\n",
    "    return lambda x: torch.trace(J(x))\n",
    "\n",
    "def output_and_div(vecfield, x):\n",
    "    if follow_estimate:\n",
    "        dx = torch.vmap(vecfield, randomness=\"different\")(x)\n",
    "        div = torch.vmap(div_fn(vecfield), randomness=\"different\")(x)\n",
    "    else:\n",
    "        dx = vecfield(x)\n",
    "        div = torch.vmap(div_fn(vecfield), randomness=\"different\")(x.clone().detach().requires_grad_(True))\n",
    "    return dx, div"
   ]
  },
  {
   "cell_type": "code",
   "execution_count": 76,
   "metadata": {},
   "outputs": [],
   "source": [
    "def target_dist(sigma=2.0, dim=1):\n",
    "    dist = torch.distributions.MultivariateNormal(\n",
    "        torch.zeros(dim).to(device),\n",
    "        torch.eye(dim).to(device)*sigma**2,\n",
    "        validate_args=False\n",
    "        )\n",
    "    return dist\n",
    "\n",
    "p1 = target_dist(sigma=2.0, dim=1)"
   ]
  },
  {
   "cell_type": "code",
   "execution_count": 77,
   "metadata": {},
   "outputs": [],
   "source": [
    "def prior_dist(beta, dim=1):\n",
    "    dist = torch.distributions.MultivariateNormal(\n",
    "        torch.zeros(dim).to(device), \n",
    "        torch.eye(dim).to(device) * beta, \n",
    "        validate_args=False\n",
    "        )\n",
    "    return dist"
   ]
  },
  {
   "cell_type": "code",
   "execution_count": 78,
   "metadata": {},
   "outputs": [],
   "source": [
    "sigma = 30\n",
    "beta = sigma **2"
   ]
  },
  {
   "cell_type": "code",
   "execution_count": 79,
   "metadata": {},
   "outputs": [],
   "source": [
    "follow_estimate = False\n",
    "reverse_time = False"
   ]
  },
  {
   "cell_type": "code",
   "execution_count": 80,
   "metadata": {},
   "outputs": [],
   "source": [
    "x1 = p1.sample((1000,)).to(device)"
   ]
  },
  {
   "cell_type": "code",
   "execution_count": 81,
   "metadata": {},
   "outputs": [
    {
     "data": {
      "image/png": "[encoded data removed]",
      "text/plain": [
       "<Figure size 640x480 with 1 Axes>"
      ]
     },
     "metadata": {},
     "output_type": "display_data"
    }
   ],
   "source": [
    "x1 = p1.sample((1000,)).to(device)\n",
    "# plt.scatter(x1[:,0].cpu(), x1[:,1].cpu(), alpha=0.1)\n",
    "plt.hist(x1[:,0].cpu(), bins=100, alpha=0.5)\n",
    "plt.show()"
   ]
  },
  {
   "cell_type": "code",
   "execution_count": 107,
   "metadata": {},
   "outputs": [],
   "source": [
    "def odefunc(t, x_in):\n",
    "    x = x_in[..., :-1].clone().detach().requires_grad_(True)\n",
    "    t = t.to(device)\n",
    "    vecfield = lambda x: drift(x, t)\n",
    "    dx, div = output_and_div(vecfield, x)\n",
    "    div = div.reshape(-1, 1)\n",
    "    return torch.cat([dx, div], dim=-1)\n",
    "\n",
    "with torch.no_grad():\n",
    "    if reverse_time:\n",
    "        x1 = torch.randn(1024, 2).to(device) * sigma\n",
    "        time = torch.linspace(1, 0, 1000).to(device)\n",
    "    else:\n",
    "        x1 = p1.sample((1000,)).to(device)\n",
    "        time = torch.linspace(0, 1, 1000).to(device)\n",
    "    state1 = torch.cat([x1, torch.zeros_like(x1[..., :1])], dim=-1)\n",
    "    state1.requires_grad = True\n",
    "    state0 = odeint(odefunc, state1, t=time, method=\"euler\")[-1]\n",
    "\n",
    "    x0, logdetjac = state0[..., :-1], state0[..., -1]\n",
    "    p0 = prior_dist(beta)\n",
    "    logp0 = p0.log_prob(x0)\n",
    "    logp1 = (logp0 + logdetjac)"
   ]
  },
  {
   "cell_type": "code",
   "execution_count": 108,
   "metadata": {},
   "outputs": [
    {
     "name": "stdout",
     "output_type": "stream",
     "text": [
      "logp0 tensor(-4.8418, device='cuda:0')\n",
      "logdetjac tensor(2.7684, device='cuda:0')\n",
      "logp1 tensor(-2.0734, device='cuda:0')\n"
     ]
    }
   ],
   "source": [
    "print(\"logp0\", logp0.mean())\n",
    "print(\"logdetjac\", logdetjac.mean())\n",
    "print(\"logp1\", logp1.mean())"
   ]
  },
  {
   "cell_type": "code",
   "execution_count": 109,
   "metadata": {},
   "outputs": [
    {
     "name": "stdout",
     "output_type": "stream",
     "text": [
      "logp0_true tensor(-4.8417, device='cuda:0')\n",
      "logp1_true tensor(-2.1032, device='cuda:0')\n"
     ]
    }
   ],
   "source": [
    "logp0_true = true_Rt(x0, time[-1], beta)\n",
    "print(\"logp0_true\", logp0_true.mean())\n",
    "logp1_true = p1.log_prob(x1)\n",
    "print(\"logp1_true\", logp1_true.mean())"
   ]
  },
  {
   "cell_type": "code",
   "execution_count": 95,
   "metadata": {},
   "outputs": [
    {
     "name": "stdout",
     "output_type": "stream",
     "text": [
      "logp1_true tensor(-2.0950, device='cuda:0')\n"
     ]
    }
   ],
   "source": []
  },
  {
   "cell_type": "code",
   "execution_count": 84,
   "metadata": {},
   "outputs": [
    {
     "data": {
      "image/png": "[encoded data removed]",
      "text/plain": [
       "<Figure size 640x480 with 1 Axes>"
      ]
     },
     "metadata": {},
     "output_type": "display_data"
    }
   ],
   "source": [
    "plt.hist(x0[:,0].cpu(), bins=100, alpha=0.5)\n",
    "prior_samples = p0.sample((1000,)).to(device)\n",
    "plt.hist(prior_samples[:,0].cpu(), bins=100, alpha=0.5)\n",
    "plt.show()"
   ]
  },
  {
   "cell_type": "code",
   "execution_count": null,
   "metadata": {},
   "outputs": [],
   "source": []
  }
 ],
 "metadata": {
  "kernelspec": {
   "display_name": "Python 3",
   "language": "python",
   "name": "python3"
  },
  "language_info": {
   "codemirror_mode": {
    "name": "ipython",
    "version": 3
   },
   "file_extension": ".py",
   "mimetype": "text/x-python",
   "name": "python",
   "nbconvert_exporter": "python",
   "pygments_lexer": "ipython3",
   "version": "3.10.4"
  }
 },
 "nbformat": 4,
 "nbformat_minor": 2
}
