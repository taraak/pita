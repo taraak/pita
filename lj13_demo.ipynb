{
 "cells": [
  {
   "cell_type": "code",
   "execution_count": 1,
   "id": "0315b577-3a49-4288-8928-0479848ed71a",
   "metadata": {
    "tags": []
   },
   "outputs": [
    {
     "name": "stdout",
     "output_type": "stream",
     "text": [
      "Collecting torchsde\n",
      "  Downloading torchsde-0.2.6-py3-none-any.whl (61 kB)\n",
      "\u001b[2K     \u001b[90m━━━━━━━━━━━━━━━━━━━━━━━━━━━━━━━━━━━━━━━━\u001b[0m \u001b[32m61.2/61.2 kB\u001b[0m \u001b[31m7.5 MB/s\u001b[0m eta \u001b[36m0:00:00\u001b[0m\n",
      "\u001b[?25hRequirement already satisfied: numpy>=1.19 in /home/ray/anaconda3/lib/python3.9/site-packages (from torchsde) (1.25.2)\n",
      "Requirement already satisfied: scipy>=1.5 in /home/ray/anaconda3/lib/python3.9/site-packages (from torchsde) (1.11.1)\n",
      "Requirement already satisfied: torch>=1.6.0 in /home/ray/anaconda3/lib/python3.9/site-packages (from torchsde) (2.1.0+rocm5.6)\n",
      "Collecting trampoline>=0.1.2 (from torchsde)\n",
      "  Downloading trampoline-0.1.2-py3-none-any.whl (5.2 kB)\n",
      "Requirement already satisfied: filelock in /home/ray/anaconda3/lib/python3.9/site-packages (from torch>=1.6.0->torchsde) (3.12.2)\n",
      "Requirement already satisfied: typing-extensions in /home/ray/anaconda3/lib/python3.9/site-packages (from torch>=1.6.0->torchsde) (4.7.1)\n",
      "Requirement already satisfied: sympy in /home/ray/anaconda3/lib/python3.9/site-packages (from torch>=1.6.0->torchsde) (1.12)\n",
      "Requirement already satisfied: networkx in /home/ray/anaconda3/lib/python3.9/site-packages (from torch>=1.6.0->torchsde) (3.1)\n",
      "Requirement already satisfied: jinja2 in /home/ray/anaconda3/lib/python3.9/site-packages (from torch>=1.6.0->torchsde) (3.1.2)\n",
      "Requirement already satisfied: fsspec in /home/ray/anaconda3/lib/python3.9/site-packages (from torch>=1.6.0->torchsde) (2023.5.0)\n",
      "Requirement already satisfied: pytorch-triton-rocm==2.1.0 in /home/ray/anaconda3/lib/python3.9/site-packages (from torch>=1.6.0->torchsde) (2.1.0)\n",
      "Requirement already satisfied: cmake>=3.20 in /home/ray/anaconda3/lib/python3.9/site-packages (from pytorch-triton-rocm==2.1.0->torch>=1.6.0->torchsde) (3.27.6)\n",
      "Requirement already satisfied: lit in /home/ray/anaconda3/lib/python3.9/site-packages (from pytorch-triton-rocm==2.1.0->torch>=1.6.0->torchsde) (17.0.2)\n",
      "Requirement already satisfied: MarkupSafe>=2.0 in /home/ray/anaconda3/lib/python3.9/site-packages (from jinja2->torch>=1.6.0->torchsde) (2.1.3)\n",
      "Requirement already satisfied: mpmath>=0.19 in /home/ray/anaconda3/lib/python3.9/site-packages (from sympy->torch>=1.6.0->torchsde) (1.3.0)\n",
      "Installing collected packages: trampoline, torchsde\n",
      "Successfully installed torchsde-0.2.6 trampoline-0.1.2\n",
      "\n",
      "\u001b[1m[\u001b[0m\u001b[34;49mnotice\u001b[0m\u001b[1;39;49m]\u001b[0m\u001b[39;49m A new release of pip is available: \u001b[0m\u001b[31;49m23.1.2\u001b[0m\u001b[39;49m -> \u001b[0m\u001b[32;49m23.3.1\u001b[0m\n",
      "\u001b[1m[\u001b[0m\u001b[34;49mnotice\u001b[0m\u001b[1;39;49m]\u001b[0m\u001b[39;49m To update, run: \u001b[0m\u001b[32;49mpip install --upgrade pip\u001b[0m\n"
     ]
    }
   ],
   "source": [
    "!pip install torchsde"
   ]
  },
  {
   "cell_type": "code",
   "execution_count": 2,
   "id": "70a21243-b6f8-4bb8-b36d-2b767c010123",
   "metadata": {
    "tags": []
   },
   "outputs": [
    {
     "name": "stdout",
     "output_type": "stream",
     "text": [
      "Looking in indexes: https://download.pytorch.org/whl/cu118\n",
      "Collecting torch==2.0.1+cu118\n",
      "  Downloading https://download.pytorch.org/whl/cu118/torch-2.0.1%2Bcu118-cp39-cp39-linux_x86_64.whl (2267.3 MB)\n",
      "\u001b[2K     \u001b[90m━━━━━━━━━━━━━━━━━━━━━━━━━━━━━━━━━━━━━━━━\u001b[0m \u001b[32m2.3/2.3 GB\u001b[0m \u001b[31m?\u001b[0m eta \u001b[36m0:00:00\u001b[0ma \u001b[36m0:00:01\u001b[0m00:01\u001b[0m\n",
      "\u001b[?25hRequirement already satisfied: filelock in /home/ray/anaconda3/lib/python3.9/site-packages (from torch==2.0.1+cu118) (3.12.2)\n",
      "Requirement already satisfied: typing-extensions in /home/ray/anaconda3/lib/python3.9/site-packages (from torch==2.0.1+cu118) (4.7.1)\n",
      "Requirement already satisfied: sympy in /home/ray/anaconda3/lib/python3.9/site-packages (from torch==2.0.1+cu118) (1.12)\n",
      "Requirement already satisfied: networkx in /home/ray/anaconda3/lib/python3.9/site-packages (from torch==2.0.1+cu118) (3.1)\n",
      "Requirement already satisfied: jinja2 in /home/ray/anaconda3/lib/python3.9/site-packages (from torch==2.0.1+cu118) (3.1.2)\n",
      "Collecting triton==2.0.0 (from torch==2.0.1+cu118)\n",
      "  Downloading https://download.pytorch.org/whl/triton-2.0.0-1-cp39-cp39-manylinux2014_x86_64.manylinux_2_17_x86_64.whl (63.3 MB)\n",
      "\u001b[2K     \u001b[90m━━━━━━━━━━━━━━━━━━━━━━━━━━━━━━━━━━━━━━━━\u001b[0m \u001b[32m63.3/63.3 MB\u001b[0m \u001b[31m27.6 MB/s\u001b[0m eta \u001b[36m0:00:00\u001b[0m00:01\u001b[0m00:01\u001b[0m\n",
      "\u001b[?25hRequirement already satisfied: cmake in /home/ray/anaconda3/lib/python3.9/site-packages (from triton==2.0.0->torch==2.0.1+cu118) (3.27.6)\n",
      "Requirement already satisfied: lit in /home/ray/anaconda3/lib/python3.9/site-packages (from triton==2.0.0->torch==2.0.1+cu118) (17.0.2)\n",
      "Requirement already satisfied: MarkupSafe>=2.0 in /home/ray/anaconda3/lib/python3.9/site-packages (from jinja2->torch==2.0.1+cu118) (2.1.3)\n",
      "Requirement already satisfied: mpmath>=0.19 in /home/ray/anaconda3/lib/python3.9/site-packages (from sympy->torch==2.0.1+cu118) (1.3.0)\n",
      "Installing collected packages: triton, torch\n",
      "  Attempting uninstall: torch\n",
      "    Found existing installation: torch 2.1.0+rocm5.6\n",
      "    Uninstalling torch-2.1.0+rocm5.6:\n",
      "      Successfully uninstalled torch-2.1.0+rocm5.6\n",
      "\u001b[31mERROR: pip's dependency resolver does not currently take into account all the packages that are installed. This behaviour is the source of the following dependency conflicts.\n",
      "pytorch-lightning 1.6.5 requires protobuf<=3.20.1, but you have protobuf 3.20.3 which is incompatible.\n",
      "pytorch-lightning 1.6.5 requires PyYAML>=5.4, but you have pyyaml 5.3.1 which is incompatible.\n",
      "torchtext 0.14.0 requires torch==1.13.0, but you have torch 2.0.1+cu118 which is incompatible.\n",
      "torchvision 0.14.0+cu116 requires torch==1.13.0, but you have torch 2.0.1+cu118 which is incompatible.\u001b[0m\u001b[31m\n",
      "\u001b[0mSuccessfully installed torch-2.0.1+cu118 triton-2.0.0\n",
      "\n",
      "\u001b[1m[\u001b[0m\u001b[34;49mnotice\u001b[0m\u001b[1;39;49m]\u001b[0m\u001b[39;49m A new release of pip is available: \u001b[0m\u001b[31;49m23.1.2\u001b[0m\u001b[39;49m -> \u001b[0m\u001b[32;49m23.3.1\u001b[0m\n",
      "\u001b[1m[\u001b[0m\u001b[34;49mnotice\u001b[0m\u001b[1;39;49m]\u001b[0m\u001b[39;49m To update, run: \u001b[0m\u001b[32;49mpip install --upgrade pip\u001b[0m\n"
     ]
    }
   ],
   "source": [
    "!pip install torch==2.0.1+cu118 --index-url https://download.pytorch.org/whl/cu118"
   ]
  },
  {
   "cell_type": "code",
   "execution_count": 3,
   "id": "723dcdd7-374f-434b-8b85-800ecb91e30b",
   "metadata": {
    "tags": []
   },
   "outputs": [
    {
     "name": "stdout",
     "output_type": "stream",
     "text": [
      "Collecting blackjax\n",
      "  Downloading blackjax-1.0.0-py3-none-any.whl (300 kB)\n",
      "\u001b[2K     \u001b[90m━━━━━━━━━━━━━━━━━━━━━━━━━━━━━━━━━━━━━━━\u001b[0m \u001b[32m300.1/300.1 kB\u001b[0m \u001b[31m6.1 MB/s\u001b[0m eta \u001b[36m0:00:00\u001b[0m00:01\u001b[0m\n",
      "\u001b[?25hCollecting fastprogress>=1.0.0 (from blackjax)\n",
      "  Downloading fastprogress-1.0.3-py3-none-any.whl (12 kB)\n",
      "Collecting jax>=0.4.16 (from blackjax)\n",
      "  Downloading jax-0.4.20-py3-none-any.whl (1.7 MB)\n",
      "\u001b[2K     \u001b[90m━━━━━━━━━━━━━━━━━━━━━━━━━━━━━━━━━━━━━━━━\u001b[0m \u001b[32m1.7/1.7 MB\u001b[0m \u001b[31m22.2 MB/s\u001b[0m eta \u001b[36m0:00:00\u001b[0m:00:01\u001b[0m\n",
      "\u001b[?25hCollecting jaxlib>=0.4.16 (from blackjax)\n",
      "  Downloading jaxlib-0.4.20-cp39-cp39-manylinux2014_x86_64.whl (85.8 MB)\n",
      "\u001b[2K     \u001b[90m━━━━━━━━━━━━━━━━━━━━━━━━━━━━━━━━━━━━━━━━\u001b[0m \u001b[32m85.8/85.8 MB\u001b[0m \u001b[31m9.7 MB/s\u001b[0m eta \u001b[36m0:00:00\u001b[0m:00:01\u001b[0m00:01\u001b[0m\n",
      "\u001b[?25hCollecting jaxopt>=0.8 (from blackjax)\n",
      "  Downloading jaxopt-0.8.2-py3-none-any.whl (170 kB)\n",
      "\u001b[2K     \u001b[90m━━━━━━━━━━━━━━━━━━━━━━━━━━━━━━━━━━━━━━━\u001b[0m \u001b[32m170.3/170.3 kB\u001b[0m \u001b[31m3.0 MB/s\u001b[0m eta \u001b[36m0:00:00\u001b[0ma \u001b[36m0:00:01\u001b[0m\n",
      "\u001b[?25hRequirement already satisfied: optax>=0.1.7 in /home/ray/anaconda3/lib/python3.9/site-packages (from blackjax) (0.1.7)\n",
      "Requirement already satisfied: typing-extensions>=4.4.0 in /home/ray/anaconda3/lib/python3.9/site-packages (from blackjax) (4.7.1)\n",
      "Requirement already satisfied: ml-dtypes>=0.2.0 in /home/ray/anaconda3/lib/python3.9/site-packages (from jax>=0.4.16->blackjax) (0.2.0)\n",
      "Requirement already satisfied: numpy>=1.22 in /home/ray/anaconda3/lib/python3.9/site-packages (from jax>=0.4.16->blackjax) (1.25.2)\n",
      "Requirement already satisfied: opt-einsum in /home/ray/anaconda3/lib/python3.9/site-packages (from jax>=0.4.16->blackjax) (3.3.0)\n",
      "Requirement already satisfied: scipy>=1.9 in /home/ray/anaconda3/lib/python3.9/site-packages (from jax>=0.4.16->blackjax) (1.11.1)\n",
      "Requirement already satisfied: importlib-metadata>=4.6 in /home/ray/anaconda3/lib/python3.9/site-packages (from jax>=0.4.16->blackjax) (6.8.0)\n",
      "Requirement already satisfied: absl-py>=0.7.1 in /home/ray/anaconda3/lib/python3.9/site-packages (from optax>=0.1.7->blackjax) (1.4.0)\n",
      "Requirement already satisfied: chex>=0.1.5 in /home/ray/anaconda3/lib/python3.9/site-packages (from optax>=0.1.7->blackjax) (0.1.82)\n",
      "Requirement already satisfied: toolz>=0.9.0 in /home/ray/anaconda3/lib/python3.9/site-packages (from chex>=0.1.5->optax>=0.1.7->blackjax) (0.12.0)\n",
      "Requirement already satisfied: zipp>=0.5 in /home/ray/anaconda3/lib/python3.9/site-packages (from importlib-metadata>=4.6->jax>=0.4.16->blackjax) (3.11.0)\n",
      "Installing collected packages: fastprogress, jaxlib, jax, jaxopt, blackjax\n",
      "  Attempting uninstall: jaxlib\n",
      "    Found existing installation: jaxlib 0.4.14\n",
      "    Uninstalling jaxlib-0.4.14:\n",
      "      Successfully uninstalled jaxlib-0.4.14\n",
      "  Attempting uninstall: jax\n",
      "    Found existing installation: jax 0.4.14\n",
      "    Uninstalling jax-0.4.14:\n",
      "      Successfully uninstalled jax-0.4.14\n",
      "\u001b[31mERROR: pip's dependency resolver does not currently take into account all the packages that are installed. This behaviour is the source of the following dependency conflicts.\n",
      "flax 0.7.2 requires PyYAML>=5.4.1, but you have pyyaml 5.3.1 which is incompatible.\u001b[0m\u001b[31m\n",
      "\u001b[0mSuccessfully installed blackjax-1.0.0 fastprogress-1.0.3 jax-0.4.20 jaxlib-0.4.20 jaxopt-0.8.2\n",
      "\n",
      "\u001b[1m[\u001b[0m\u001b[34;49mnotice\u001b[0m\u001b[1;39;49m]\u001b[0m\u001b[39;49m A new release of pip is available: \u001b[0m\u001b[31;49m23.1.2\u001b[0m\u001b[39;49m -> \u001b[0m\u001b[32;49m23.3.1\u001b[0m\n",
      "\u001b[1m[\u001b[0m\u001b[34;49mnotice\u001b[0m\u001b[1;39;49m]\u001b[0m\u001b[39;49m To update, run: \u001b[0m\u001b[32;49mpip install --upgrade pip\u001b[0m\n"
     ]
    }
   ],
   "source": [
    "!pip install blackjax"
   ]
  },
  {
   "cell_type": "code",
   "execution_count": 180,
   "id": "959c9569-4c5d-4807-babf-ffe033fc43a6",
   "metadata": {
    "tags": []
   },
   "outputs": [],
   "source": [
    "from typing import Union\n",
    "\n",
    "import chex\n",
    "import jax.numpy as jnp\n",
    "import jax\n",
    "import numpy as np\n",
    "import matplotlib.pyplot as plt\n",
    "import torch\n",
    "import torchsde\n",
    "\n",
    "from typing import Tuple, Optional\n",
    "\n",
    "import jax.numpy as jnp\n",
    "import chex\n",
    "\n",
    "from typing import Callable\n",
    "\n",
    "from functools import partial\n",
    "\n",
    "import chex\n",
    "import jax\n",
    "import jax.numpy as jnp\n",
    "import matplotlib.pyplot as plt\n",
    "import numpy as np\n",
    "from jax.scipy.stats import multivariate_normal\n",
    "\n",
    "import blackjax\n",
    "import blackjax.smc.resampling as resampling\n",
    "\n",
    "\n",
    "def get_senders_and_receivers_fully_connected(n_nodes: int) -> Tuple[chex.Array, chex.Array]:\n",
    "    receivers = []\n",
    "    senders = []\n",
    "    for i in range(n_nodes):\n",
    "        for j in range(n_nodes - 1):\n",
    "            receivers.append(i)\n",
    "            senders.append((i + 1 + j) % n_nodes)\n",
    "    return torch.tensor(senders), torch.tensor(receivers)\n",
    "\n",
    "def energy(x: torch.Tensor, epsilon: float = 1.0, tau: float = 1.0, r: Union[float, chex.Array] = 1.0,\n",
    "           harmonic_potential_coef: float = 0.5) -> chex.Array:\n",
    "    n_nodes, dim = x.shape\n",
    "    if isinstance(r, float):\n",
    "        r = torch.ones(n_nodes, device=device) * r\n",
    "    senders, receivers = get_senders_and_receivers_fully_connected(n_nodes)\n",
    "    vectors = x[senders] - x[receivers]\n",
    "    d = torch.linalg.norm(vectors, ord=2, dim=-1)\n",
    "    term_inside_sum = (r[receivers] / d)**12 - 2*(r[receivers] / d)**6\n",
    "    energy = epsilon / (2 * tau) * term_inside_sum.sum()\n",
    "\n",
    "    # For harmonic potential see https://github.com/vgsatorras/en_flows/blob/main/deprecated/eqnode/test_systems.py#L94.\n",
    "    # This oscillator is mentioned but not explicity specified in the paper where it was introduced:\n",
    "    # http://proceedings.mlr.press/v119/kohler20a/kohler20a.pdf.\n",
    "    centre_of_mass = x.mean(dim=0)\n",
    "    harmonic_potential = harmonic_potential_coef * (x - centre_of_mass).pow(2).sum()\n",
    "    return energy + harmonic_potential\n",
    "\n",
    "\n",
    "def log_prob_fn(x: torch.Tensor):\n",
    "    x = x.reshape(-1, 13, 3)\n",
    "    if len(x.shape) == 2:\n",
    "        return - energy(x)\n",
    "    elif len(x.shape) == 3:\n",
    "        return - torch.vmap(energy)(x)\n",
    "    else:\n",
    "        raise Exception\n",
    "\n",
    "\n",
    "def plot_sample_hist(samples, ax = None, dim=(0,1), label=None):\n",
    "    if ax == None:\n",
    "        fig, ax = plt.subplots()\n",
    "    d = torch.linalg.norm(samples[:, 0, dim] - samples[:, 1, dim], dim=-1)\n",
    "    \n",
    "    ax.hist(d, bins=50, density=True, alpha=0.4, label=label)\n",
    "    \n",
    "def smc_inference_loop(rng_key, smc_kernel, initial_state):\n",
    "    \"\"\"Run the temepered SMC algorithm.\n",
    "\n",
    "    We run the adaptive algorithm until the tempering parameter lambda reaches the value\n",
    "    lambda=1.\n",
    "\n",
    "    \"\"\"\n",
    "\n",
    "    def cond(carry):\n",
    "        i, state, _k = carry\n",
    "        return state.lmbda < 1\n",
    "\n",
    "    def one_step(carry):\n",
    "        i, state, k = carry\n",
    "        k, subk = jax.random.split(k, 2)\n",
    "        state, _ = smc_kernel(subk, state)\n",
    "        return i + 1, state, k\n",
    "\n",
    "    n_iter, final_state, _ = jax.lax.while_loop(\n",
    "        cond, one_step, (0, initial_state, rng_key)\n",
    "    )\n",
    "\n",
    "    return n_iter, final_state\n",
    "\n",
    "def prior_log_prob(x: chex.Array, scale: float = 1.):\n",
    "    d = x.shape[0]\n",
    "    return multivariate_normal.logpdf(x, jnp.zeros((d,)), jnp.eye(d)*scale)\n",
    "\n",
    "\n",
    "def run_smc_molecule(\n",
    "        target_log_prob: Callable,\n",
    "        key: chex.PRNGKey,\n",
    "        dim: int,\n",
    "        n_nodes: int,\n",
    "        n_samples: int,\n",
    "        num_mcmc_steps: int,\n",
    "        base_scale: float = 1.,\n",
    "        target_ess: float = 0.5,\n",
    "        hmc_step_size: float = 1e-4):\n",
    "    def flatten(x: chex.Array) -> chex.Array:\n",
    "        return jnp.reshape(x, (*x.shape[:-2], dim*n_nodes))\n",
    "\n",
    "    def unflatten(x: chex.Array) -> chex.Array:\n",
    "        return jnp.reshape(x, (*x.shape[:-1], n_nodes, dim))\n",
    "\n",
    "    def flat_log_prob_fn(x: chex.Array) -> chex.Array:\n",
    "        \"\"\"Takes in flat x.\"\"\"\n",
    "        return target_log_prob(unflatten(x))\n",
    "\n",
    "    flat_dim = dim * n_nodes\n",
    "    smc_samples = run_smc(\n",
    "        flat_log_prob_fn,\n",
    "        key,\n",
    "        flat_dim,\n",
    "        n_samples,\n",
    "        num_mcmc_steps,\n",
    "        target_ess=target_ess,\n",
    "        base_scale=base_scale,\n",
    "        hmc_step_size=hmc_step_size)\n",
    "\n",
    "    samples = unflatten(smc_samples.particles)\n",
    "    return samples, smc_samples.weights, smc_samples.lmbda\n",
    "\n",
    "\n",
    "def run_smc(\n",
    "        target_log_prob: Callable,\n",
    "        key: chex.PRNGKey,\n",
    "        dim: int,\n",
    "        n_samples: int,\n",
    "        num_mcmc_steps: int,\n",
    "        base_scale: float = 1.,\n",
    "        target_ess: float = 0.5,\n",
    "        hmc_step_size: float = 1e-4):\n",
    "\n",
    "    inv_mass_matrix = jnp.eye(dim)\n",
    "\n",
    "    hmc_parameters = dict(\n",
    "        step_size=hmc_step_size, inverse_mass_matrix=inv_mass_matrix, num_integration_steps=1\n",
    "    )\n",
    "\n",
    "    base_log_prob = partial(prior_log_prob, scale=base_scale)\n",
    "    tempered = blackjax.adaptive_tempered_smc(\n",
    "        base_log_prob,\n",
    "        target_log_prob,\n",
    "        blackjax.mcmc.hmc.build_kernel(),\n",
    "        blackjax.mcmc.hmc.init,\n",
    "        hmc_parameters,\n",
    "        resampling_fn=resampling.systematic,\n",
    "        target_ess=target_ess,\n",
    "        num_mcmc_steps=num_mcmc_steps,\n",
    "    )\n",
    "\n",
    "    initial_smc_state = jax.random.multivariate_normal(\n",
    "        jax.random.PRNGKey(0), jnp.zeros([dim,]), jnp.eye(dim), (n_samples,)\n",
    "    ) * base_scale\n",
    "    initial_smc_state = tempered.init(initial_smc_state)\n",
    "\n",
    "    n_iter, smc_samples = smc_inference_loop(key, tempered.step, initial_smc_state)\n",
    "    return smc_samples\n"
   ]
  },
  {
   "cell_type": "code",
   "execution_count": 160,
   "id": "a0d95732-2094-463a-99ca-c5ea50082526",
   "metadata": {
    "tags": []
   },
   "outputs": [],
   "source": [
    "class VEReverseSDE(torch.nn.Module):\n",
    "    noise_type = 'diagonal'\n",
    "    sde_type = 'ito'\n",
    "    \n",
    "    def __init__(self, score_net):\n",
    "        super().__init__()\n",
    "        self.score_model = score_net\n",
    "    \n",
    "    def f(self, t, x):\n",
    "        # pdb.set_trace()\n",
    "        t = t.repeat(len(x)).to(x.device)\n",
    "        score = self.score_model(x, 1-t)\n",
    "        return self.g(t, x).pow(2) * score \n",
    "    \n",
    "    def g(self, t, x):\n",
    "        return torch.full_like(x, beta ** 0.5) #+ 0.1\n",
    "\n",
    "def estimate_grad_Rt(x, t, beta=1.0, num_mc_samples=100):\n",
    "    def grad_fxn(_x, _t):\n",
    "        repeated_x = _x.unsqueeze(0).repeat_interleave(num_mc_samples, dim=0)\n",
    "        repeated_t = _t.unsqueeze(0).repeat_interleave(num_mc_samples, dim=0)\n",
    "        h_t = beta * repeated_t\n",
    "        \n",
    "        # samples = repeated_x + torch.normal(torch.zeros_like(repeated_x), h_t.unsqueeze(1) ** 0.5)\n",
    "        samples = repeated_x + torch.randn(repeated_x.shape).to(device) * h_t.unsqueeze(1) ** 0.5\n",
    "        log_rewards = log_prob_fn(samples)#unnormalize(samples, global_mins, global_maxs))\n",
    "        \n",
    "        return torch.logsumexp(log_rewards, dim=-1) - np.log(num_mc_samples)\n",
    "    \n",
    "    t = t * torch.ones(x.shape[0]).to(device)\n",
    "    est_scores = torch.vmap(torch.func.grad(grad_fxn), randomness='different')(x, t)\n",
    "    return est_scores"
   ]
  },
  {
   "cell_type": "code",
   "execution_count": 205,
   "id": "964eeac1-6968-489c-b87c-40eeb87a5dc9",
   "metadata": {
    "tags": []
   },
   "outputs": [],
   "source": [
    "def est_ve_score_wrapper(x, t):\n",
    "    with torch.enable_grad():\n",
    "        est_score = estimate_grad_Rt(x, t, beta=beta, num_mc_samples=100)\n",
    "        return est_score\n",
    "\n",
    "ve_sde_est_score = VEReverseSDE(est_ve_score_wrapper)\n",
    "\n",
    "beta = 5\n",
    "\n",
    "dim = 13 * 3\n",
    "device = 'cuda'\n",
    "centers = torch.zeros((1000, dim), device=device)\n",
    "x1_samples = torch.normal(centers, torch.full_like(centers, fill_value=beta))"
   ]
  },
  {
   "cell_type": "code",
   "execution_count": 204,
   "id": "1bca8635-7788-49b4-b3d3-81899bfb541c",
   "metadata": {
    "tags": []
   },
   "outputs": [
    {
     "name": "stdout",
     "output_type": "stream",
     "text": [
      "> \u001b[0;32m/tmp/ipykernel_40597/2650835237.py\u001b[0m(4)\u001b[0;36mest_ve_score_wrapper\u001b[0;34m()\u001b[0m\n",
      "\u001b[0;32m      2 \u001b[0;31m    \u001b[0;32mwith\u001b[0m \u001b[0mtorch\u001b[0m\u001b[0;34m.\u001b[0m\u001b[0menable_grad\u001b[0m\u001b[0;34m(\u001b[0m\u001b[0;34m)\u001b[0m\u001b[0;34m:\u001b[0m\u001b[0;34m\u001b[0m\u001b[0;34m\u001b[0m\u001b[0m\n",
      "\u001b[0m\u001b[0;32m      3 \u001b[0;31m        \u001b[0;32mimport\u001b[0m \u001b[0mpdb\u001b[0m\u001b[0;34m;\u001b[0m \u001b[0mpdb\u001b[0m\u001b[0;34m.\u001b[0m\u001b[0mset_trace\u001b[0m\u001b[0;34m(\u001b[0m\u001b[0;34m)\u001b[0m\u001b[0;34m\u001b[0m\u001b[0;34m\u001b[0m\u001b[0m\n",
      "\u001b[0m\u001b[0;32m----> 4 \u001b[0;31m        \u001b[0mest_score\u001b[0m \u001b[0;34m=\u001b[0m \u001b[0mestimate_grad_Rt\u001b[0m\u001b[0;34m(\u001b[0m\u001b[0mx\u001b[0m\u001b[0;34m,\u001b[0m \u001b[0mt\u001b[0m\u001b[0;34m,\u001b[0m \u001b[0mbeta\u001b[0m\u001b[0;34m=\u001b[0m\u001b[0mbeta\u001b[0m\u001b[0;34m,\u001b[0m \u001b[0mnum_mc_samples\u001b[0m\u001b[0;34m=\u001b[0m\u001b[0;36m100\u001b[0m\u001b[0;34m)\u001b[0m\u001b[0;34m\u001b[0m\u001b[0;34m\u001b[0m\u001b[0m\n",
      "\u001b[0m\u001b[0;32m      5 \u001b[0;31m        \u001b[0;32mreturn\u001b[0m \u001b[0mest_score\u001b[0m\u001b[0;34m\u001b[0m\u001b[0;34m\u001b[0m\u001b[0m\n",
      "\u001b[0m\u001b[0;32m      6 \u001b[0;31m\u001b[0;34m\u001b[0m\u001b[0m\n",
      "\u001b[0m\n"
     ]
    },
    {
     "name": "stdin",
     "output_type": "stream",
     "text": [
      "ipdb>  beta\n"
     ]
    },
    {
     "name": "stdout",
     "output_type": "stream",
     "text": [
      "5\n"
     ]
    },
    {
     "name": "stdin",
     "output_type": "stream",
     "text": [
      "ipdb>  q\n"
     ]
    }
   ],
   "source": [
    "t = torch.linspace(0.0, 1.0, 500)\n",
    "with torch.no_grad():\n",
    "    est_samples = torchsde.sdeint(ve_sde_est_score, x1_samples, t, method='euler')"
   ]
  },
  {
   "cell_type": "code",
   "execution_count": 198,
   "id": "3e4b11d1-eff9-48b7-a0e2-f12413b45ae1",
   "metadata": {
    "tags": []
   },
   "outputs": [],
   "source": [
    "diffs = est_samples[-1].reshape(-1,13,3)[:,0,(0,1)] - est_samples[-1].reshape(-1,13,3)[:,1,(0,1)]\n",
    "est_samples[-1, 734].reshape(-1,13,3)\n",
    "\n",
    "reshaped_est_samples = est_samples[-1].reshape(-1,13,3)\n",
    "bad_idx = ((reshaped_est_samples[:,0].abs() > 10).any(dim=-1) | (reshaped_est_samples[:,1].abs() > 10).any(dim=-1) )"
   ]
  },
  {
   "cell_type": "code",
   "execution_count": 207,
   "id": "4a93a0bb-7c58-44a3-a0be-c2aa934ed036",
   "metadata": {
    "tags": []
   },
   "outputs": [
    {
     "data": {
      "text/plain": [
       "Text(0.5, 1.0, 'Iteratomic distance apparently?')"
      ]
     },
     "execution_count": 207,
     "metadata": {},
     "output_type": "execute_result"
    },
    {
     "data": {
      "image/png": "[encoded data removed]",
      "text/plain": [
       "<Figure size 640x480 with 1 Axes>"
      ]
     },
     "metadata": {},
     "output_type": "display_data"
    }
   ],
   "source": [
    "fig, ax = plt.subplots()  # 2D\n",
    "plot_sample_hist(est_samples[-1].reshape(-1, 13, 3)[~bad_idx].detach().cpu(), ax=ax, label='ours')\n",
    "#plot_sample_hist(x1_samples.reshape(-1, 13, 3)[~bad_idx].detach().cpu(), ax=ax, label='x1 samples')\n",
    "plot_sample_hist(smc_samples.cpu(), ax=ax, label='smc')\n",
    "plt.legend()\n",
    "plt.title('Iteratomic distance apparently?')\n",
    "\n",
    "\n",
    "#ax.plot(d, jnp.exp(log_probs - 1))  # approx normalise"
   ]
  },
  {
   "cell_type": "code",
   "execution_count": 220,
   "id": "99f4530c-d077-4242-ad7b-3d93b2def8bd",
   "metadata": {
    "tags": []
   },
   "outputs": [
    {
     "data": {
      "text/plain": [
       "<matplotlib.legend.Legend at 0x7f7880c043d0>"
      ]
     },
     "execution_count": 220,
     "metadata": {},
     "output_type": "execute_result"
    },
    {
     "data": {
      "image/png": "[encoded data removed]",
      "text/plain": [
       "<Figure size 640x480 with 1 Axes>"
      ]
     },
     "metadata": {},
     "output_type": "display_data"
    }
   ],
   "source": [
    "est_samples_0 = est_samples[-1]\n",
    "smc_samples = torch.tensor(np.array(samples), device=device)\n",
    "\n",
    "est_samples_lp = log_prob_fn(est_samples_0).detach().cpu()\n",
    "smc_samples_lp = log_prob_fn(smc_samples).detach().cpu()\n",
    "\n",
    "plt.hist(\n",
    "    est_samples_lp,\n",
    "    alpha=0.5,\n",
    "    bins=np.logspace(np.log10(est_samples_lp.abs().min()), np.log10(est_samples_lp.abs().max()), 100),\n",
    "    label='Simulated with estimated score'\n",
    ")\n",
    "plt.hist(\n",
    "    smc_samples_lp.abs(), \n",
    "    alpha=0.5, \n",
    "    bins=np.logspace(np.log10(smc_samples_lp.abs().min()), np.log10(smc_samples_lp.abs().max()), 100), \n",
    "    label='SMC'\n",
    ")\n",
    "\n",
    "plt.xscale('log')\n",
    "plt.ylabel('Count')\n",
    "plt.xlabel('Energy')\n",
    "plt.title('LJ13')\n",
    "plt.legend()"
   ]
  },
  {
   "cell_type": "code",
   "execution_count": 215,
   "id": "467db2f0-14d6-4708-b053-86e686c7564c",
   "metadata": {
    "tags": []
   },
   "outputs": [
    {
     "data": {
      "text/plain": [
       "tensor(5.8588e+10)"
      ]
     },
     "execution_count": 215,
     "metadata": {},
     "output_type": "execute_result"
    }
   ],
   "source": [
    "smc_samples_lp.abs()"
   ]
  },
  {
   "cell_type": "code",
   "execution_count": 138,
   "id": "626e7f35-6114-4487-aa97-0009a6f19f2f",
   "metadata": {
    "tags": []
   },
   "outputs": [
    {
     "data": {
      "text/plain": [
       "tensor([-3.3522e+02, -1.4210e+04, -5.3542e+04, -1.0584e+10, -4.1170e+03,\n",
       "        -1.2884e+06, -4.1817e+06, -5.8350e+16, -8.6112e+04, -5.0516e+08,\n",
       "        -2.0052e+01, -9.0247e+04, -2.7419e+05, -2.5855e+04, -4.6711e+04,\n",
       "        -1.4489e+02, -1.9280e+04, -6.9404e+02, -1.7027e+01, -1.5973e+03,\n",
       "        -2.1223e+05, -2.7718e+03, -4.0120e+02, -2.8895e+03, -4.3178e+02,\n",
       "        -1.1252e+07, -7.7932e+04, -1.5212e+04, -7.0799e+04, -6.3572e+02,\n",
       "        -2.2479e+06, -1.4408e+03, -3.8081e+02, -7.2641e+04, -1.7686e+04,\n",
       "        -3.8200e+02, -1.4426e+05, -1.2718e+04, -1.6543e+04, -7.0244e+03,\n",
       "        -1.2201e+07, -1.3214e+07, -2.8531e+06, -4.7002e+06, -7.3536e+08,\n",
       "        -5.7078e+02, -1.1016e+04, -2.6766e+04, -1.7516e+07, -3.5987e+03,\n",
       "        -4.0572e+07, -8.8896e+07, -8.1756e+03, -2.7879e+03, -5.6960e+06,\n",
       "        -4.8951e+03, -1.3463e+06, -3.2949e+08, -5.2719e+03, -1.5487e+06,\n",
       "        -4.4588e+05, -6.6545e+05, -1.0004e+02, -2.4385e+02, -3.5649e+08,\n",
       "        -2.1582e+02, -8.0321e+05, -9.5126e+03, -2.4216e+03, -1.1587e+04,\n",
       "        -2.4994e+05, -1.3969e+03, -3.5684e+06, -1.4431e+04, -8.4296e+02,\n",
       "        -3.3125e+05, -1.6058e+12, -2.8382e+03, -4.4194e+06, -2.1760e+06,\n",
       "        -7.6486e+03, -2.8184e+02, -3.5061e+02, -3.7306e+03, -1.3174e+06,\n",
       "        -4.2744e+03, -1.2137e+02, -2.3877e+05, -4.3039e+03, -1.4832e+06,\n",
       "        -1.3892e+06, -2.4199e+04, -1.5911e+08, -5.7262e+07, -7.2634e+03,\n",
       "        -1.8425e+01, -7.7628e+04, -2.3588e+11, -1.0760e+02, -9.3172e+05])"
      ]
     },
     "execution_count": 138,
     "metadata": {},
     "output_type": "execute_result"
    }
   ],
   "source": [
    "smc_samples_lp"
   ]
  },
  {
   "cell_type": "code",
   "execution_count": 123,
   "id": "ea011386-fc86-43a6-9108-bbcb2ebd055e",
   "metadata": {
    "tags": []
   },
   "outputs": [
    {
     "data": {
      "text/plain": [
       "tensor([[[ -4.1218,  -1.5818,  -9.3730],\n",
       "         [  5.0103,   4.5482,   2.8843],\n",
       "         [  6.4602,   6.5949,   9.6423],\n",
       "         ...,\n",
       "         [  7.1010,   3.0208,  -0.2654],\n",
       "         [  3.9934, -12.1970,  -4.5648],\n",
       "         [ -4.0445,   5.6971,   4.4362]],\n",
       "\n",
       "        [[-11.3702,   0.4036,  -4.6541],\n",
       "         [  0.2584,   0.1562,   2.0209],\n",
       "         [  4.7249,  -5.8982,  -8.0995],\n",
       "         ...,\n",
       "         [  0.3316,   7.4134,   0.6332],\n",
       "         [ 10.3227,  -4.0148,  -5.0657],\n",
       "         [  2.4229,   3.6988,  -3.7625]],\n",
       "\n",
       "        [[ -1.2819,  13.2345,   4.8614],\n",
       "         [ 10.6261,  -3.2170, -12.0486],\n",
       "         [ -4.1514,  -2.3411,  -4.5084],\n",
       "         ...,\n",
       "         [  2.5606,   1.5298,   8.3366],\n",
       "         [ -1.3667,  -2.4763,  -0.3970],\n",
       "         [  0.2337,  -1.1981,  -8.0600]],\n",
       "\n",
       "        ...,\n",
       "\n",
       "        [[  4.5645,  -0.0797,  -1.4166],\n",
       "         [  2.4195,   1.0141,   4.3239],\n",
       "         [  4.9978,  -1.6444,   4.3870],\n",
       "         ...,\n",
       "         [  7.0428,  -2.6684,   6.0581],\n",
       "         [ -3.9009,   7.0262,   7.1695],\n",
       "         [ 10.6746,   4.3840,   1.1378]],\n",
       "\n",
       "        [[  6.4883,  10.2838,  -3.8902],\n",
       "         [  1.9225,   4.5547,  -4.2517],\n",
       "         [  4.3537,  -0.6631,   1.1977],\n",
       "         ...,\n",
       "         [ 10.4740,   3.3464,   2.6295],\n",
       "         [ -1.3109,  -0.7069,  -1.7748],\n",
       "         [ -2.9563,  -8.3091,   0.7214]],\n",
       "\n",
       "        [[ -0.1504,  -6.5046,   1.4810],\n",
       "         [  2.5088,  -3.1528,   1.6760],\n",
       "         [ -7.8174,  -4.8200,   0.8611],\n",
       "         ...,\n",
       "         [  5.3504,  -5.3436,   3.2084],\n",
       "         [ -1.7348,  -2.2474,   1.9478],\n",
       "         [  3.1412,  -8.8156,  -5.5707]]])"
      ]
     },
     "execution_count": 123,
     "metadata": {},
     "output_type": "execute_result"
    }
   ],
   "source": [
    "torch.tensor(np.array(samples))"
   ]
  },
  {
   "cell_type": "code",
   "execution_count": 109,
   "id": "e5077aa2-6add-4bd1-ab86-dc03acdd29be",
   "metadata": {
    "tags": []
   },
   "outputs": [
    {
     "data": {
      "text/plain": [
       "tensor([[[-1.0959,  2.9030, -5.1397],\n",
       "         [-0.9339,  4.5374, -7.6722],\n",
       "         [-2.1438,  2.8176, -6.9319],\n",
       "         ...,\n",
       "         [-1.6595,  4.4968, -6.0907],\n",
       "         [-3.3123,  4.0339, -5.6742],\n",
       "         [-0.5973,  5.1037, -6.7160]],\n",
       "\n",
       "        [[-3.4641, -1.5304,  3.1027],\n",
       "         [-4.2138,  1.1820,  2.5300],\n",
       "         [-5.4882,  0.8081,  2.3202],\n",
       "         ...,\n",
       "         [-5.7435, -0.5974,  4.0782],\n",
       "         [-3.2204, -0.0174,  1.7840],\n",
       "         [-3.0856, -2.5560,  5.1176]],\n",
       "\n",
       "        [[-3.6307,  1.9870,  1.9488],\n",
       "         [-2.9257,  3.8326,  1.6688],\n",
       "         [-1.9883,  2.5944,  3.1106],\n",
       "         ...,\n",
       "         [-4.0501,  1.0360,  0.3691],\n",
       "         [-1.8686,  3.1505, -0.2883],\n",
       "         [-2.6128,  2.9613,  1.4875]],\n",
       "\n",
       "        ...,\n",
       "\n",
       "        [[-6.5571, -5.8476, -2.6868],\n",
       "         [-4.8799, -4.1597, -0.0152],\n",
       "         [-5.3328, -4.4888,  0.8549],\n",
       "         ...,\n",
       "         [-5.9060, -8.1563,  1.9015],\n",
       "         [-7.9849, -5.0053, -0.4264],\n",
       "         [-5.9600, -4.7928, -1.0187]],\n",
       "\n",
       "        [[ 0.3553,  4.3615, -2.0228],\n",
       "         [ 0.1225,  6.0649, -2.7637],\n",
       "         [-0.2523,  6.1881, -4.3459],\n",
       "         ...,\n",
       "         [-0.2485,  5.4891, -4.9594],\n",
       "         [-1.2360,  6.1464, -4.7096],\n",
       "         [ 1.4668,  7.1089, -3.2346]],\n",
       "\n",
       "        [[ 2.7019,  6.7181, -3.8677],\n",
       "         [ 2.6475,  5.7753, -3.1283],\n",
       "         [ 2.3481,  7.6046, -3.4847],\n",
       "         ...,\n",
       "         [ 2.5189,  7.6594, -1.7868],\n",
       "         [ 2.5957,  6.6023, -0.5009],\n",
       "         [ 0.3114,  8.6076, -1.2241]]], device='cuda:0')"
      ]
     },
     "execution_count": 109,
     "metadata": {},
     "output_type": "execute_result"
    }
   ],
   "source": [
    "est_samples_0.reshape(-1, 13, 3)"
   ]
  },
  {
   "cell_type": "code",
   "execution_count": 147,
   "id": "56fa649c-5313-41dd-871f-1f5fbd1f5260",
   "metadata": {
    "tags": []
   },
   "outputs": [
    {
     "name": "stdout",
     "output_type": "stream",
     "text": [
      "[[-113.60253 -113.60253]\n",
      " [ 113.60253  113.60253]]\n"
     ]
    },
    {
     "data": {
      "image/png": "[encoded data removed]",
      "text/plain": [
       "<Figure size 640x480 with 1 Axes>"
      ]
     },
     "metadata": {},
     "output_type": "display_data"
    },
    {
     "data": {
      "image/png": "[encoded data removed]",
      "text/plain": [
       "<Figure size 640x480 with 1 Axes>"
      ]
     },
     "metadata": {},
     "output_type": "display_data"
    }
   ],
   "source": [
    "def get_senders_and_receivers_fully_connected_jax(n_nodes: int) -> Tuple[chex.Array, chex.Array]:\n",
    "    receivers = []\n",
    "    senders = []\n",
    "    for i in range(n_nodes):\n",
    "        for j in range(n_nodes - 1):\n",
    "            receivers.append(i)\n",
    "            senders.append((i + 1 + j) % n_nodes)\n",
    "    return jnp.array(senders), jnp.array(receivers)\n",
    "\n",
    "def safe_norm(x: jnp.ndarray, axis: int = None, keepdims=False) -> jnp.ndarray:\n",
    "    \"\"\"nan-safe norm. Copied from mace-jax\"\"\"\n",
    "    x2 = jnp.sum(x**2, axis=axis, keepdims=keepdims)\n",
    "    return jnp.where(x2 == 0, 1, x2) ** 0.5\n",
    "\n",
    "def energy_jax(x: chex.Array, epsilon: float = 1.0, tau: float = 1.0, r: Union[float, chex.Array] = 1.0,\n",
    "           harmonic_potential_coef: float = 0.5) -> chex.Array:\n",
    "    chex.assert_rank(x, 2)\n",
    "    n_nodes, dim = x.shape\n",
    "    if isinstance(r, float):\n",
    "        r = jnp.ones(n_nodes) * r\n",
    "    senders, receivers = get_senders_and_receivers_fully_connected_jax(n_nodes)\n",
    "    vectors = x[senders] - x[receivers]\n",
    "    d = safe_norm(vectors, axis=-1)\n",
    "    term_inside_sum = (r[receivers] / d)**12 - 2*(r[receivers] / d)**6\n",
    "    energy = epsilon / (2 * tau) * jnp.sum(term_inside_sum)\n",
    "\n",
    "    # For harmonic potential see https://github.com/vgsatorras/en_flows/blob/main/deprecated/eqnode/test_systems.py#L94.\n",
    "    # This oscillator is mentioned but not explicity specified in the paper where it was introduced:\n",
    "    # http://proceedings.mlr.press/v119/kohler20a/kohler20a.pdf.\n",
    "    centre_of_mass = jnp.mean(x, axis=0)\n",
    "    harmonic_potential = harmonic_potential_coef*jnp.sum((x - centre_of_mass)**2)\n",
    "    return energy + harmonic_potential\n",
    "\n",
    "\n",
    "def log_prob_fn_jax(x: chex.Array):\n",
    "    if len(x.shape) == 2:\n",
    "        return - energy_jax(x)\n",
    "    elif len(x.shape) == 3:\n",
    "        return - jax.vmap(energy_jax)(x)\n",
    "    else:\n",
    "        raise Exception\n",
    "\n",
    "# Visualise 2D energy fn as a function of distance\n",
    "key = jax.random.PRNGKey(0)\n",
    "\n",
    "dim = 2\n",
    "batch_size = 512\n",
    "x0 = jax.random.normal(jax.random.PRNGKey(0), (batch_size, 2))   #  jnp.zeros((batch_size, 2)) + 0.1\n",
    "d = jnp.linspace(0.8, 10, batch_size)\n",
    "x1 = x0 + jnp.sqrt(d**2/2)[:, None]\n",
    "\n",
    "x = jnp.stack([x0, x1], axis=1)\n",
    "log_probs = log_prob_fn_jax(x)\n",
    "\n",
    "print(jax.grad(log_prob_fn_jax)(x[0]))\n",
    "\n",
    "plt.plot(d, log_probs)\n",
    "plt.show()\n",
    "\n",
    "fig, ax = plt.subplots()  # 2D\n",
    "ax.plot(d, jnp.exp(log_probs - 1))  # approx normalise\n",
    "\n",
    "n_nodes = 13\n",
    "dim = 3\n",
    "samples, weights, lmbda = run_smc_molecule(target_log_prob=log_prob_fn_jax,\n",
    "                    dim=dim,\n",
    "                    n_nodes=n_nodes,\n",
    "                    key=key,\n",
    "                    n_samples=1000,\n",
    "                    num_mcmc_steps=1000,\n",
    "                    target_ess=0.0,\n",
    "                    base_scale=1.,\n",
    "                    hmc_step_size= 1e-3)\n"
   ]
  },
  {
   "cell_type": "code",
   "execution_count": 131,
   "id": "3895171f-d556-4236-8f5b-5232ae986b7d",
   "metadata": {
    "tags": []
   },
   "outputs": [],
   "source": [
    "samples = np.array(samples)"
   ]
  },
  {
   "cell_type": "code",
   "execution_count": 132,
   "id": "1a3b0a97-a290-449a-9de7-c0d02c722a9a",
   "metadata": {
    "tags": []
   },
   "outputs": [
    {
     "data": {
      "text/plain": [
       "array([[[-0.77883977, -0.30674455, -1.8585678 ],\n",
       "        [ 0.97510195,  0.9074563 ,  0.6209733 ],\n",
       "        [ 1.3162862 ,  1.3252476 ,  1.9455532 ],\n",
       "        ...,\n",
       "        [ 1.4433706 ,  0.6141487 , -0.05481751],\n",
       "        [ 0.7746152 , -2.4227786 , -0.92072374],\n",
       "        [-0.78129524,  1.157335  ,  0.8840191 ]],\n",
       "\n",
       "       [[-2.235014  ,  0.04662913, -0.91730493],\n",
       "        [ 0.03822393,  0.01870631,  0.41452697],\n",
       "        [ 0.9477271 , -1.1734844 , -1.6380315 ],\n",
       "        ...,\n",
       "        [ 0.09167233,  1.5187517 ,  0.16287485],\n",
       "        [ 2.0514297 , -0.80377996, -0.9536698 ],\n",
       "        [ 0.5174284 ,  0.7041562 , -0.7777535 ]],\n",
       "\n",
       "       [[-0.2837644 ,  2.684302  ,  0.9646145 ],\n",
       "        [ 2.1637278 , -0.60731417, -2.4349911 ],\n",
       "        [-0.8271457 , -0.49624678, -0.9544811 ],\n",
       "        ...,\n",
       "        [ 0.53440124,  0.30984372,  1.6306531 ],\n",
       "        [-0.2494463 , -0.49995238, -0.05971956],\n",
       "        [ 0.06205076, -0.2683341 , -1.6285921 ]],\n",
       "\n",
       "       ...,\n",
       "\n",
       "       [[ 0.9225429 , -0.0328577 , -0.28198117],\n",
       "        [ 0.479808  ,  0.20687646,  0.86897665],\n",
       "        [ 0.9739163 , -0.32614276,  0.8760178 ],\n",
       "        ...,\n",
       "        [ 1.4237739 , -0.55139494,  1.1681068 ],\n",
       "        [-0.77319777,  1.38661   ,  1.4506836 ],\n",
       "        [ 2.1573112 ,  0.87051266,  0.20731403]],\n",
       "\n",
       "       [[ 1.2391702 ,  2.0224493 , -0.7820492 ],\n",
       "        [ 0.34215155,  0.91905725, -0.85367787],\n",
       "        [ 0.8453751 , -0.10639092,  0.25336555],\n",
       "        ...,\n",
       "        [ 2.0390422 ,  0.6820147 ,  0.50524366],\n",
       "        [-0.21125852, -0.14413084, -0.32756412],\n",
       "        [-0.6132183 , -1.6721058 ,  0.12489603]],\n",
       "\n",
       "       [[-0.04750117, -1.2147292 ,  0.3185526 ],\n",
       "        [ 0.53287596, -0.6351741 ,  0.3348155 ],\n",
       "        [-1.5680343 , -1.0297384 ,  0.17594649],\n",
       "        ...,\n",
       "        [ 1.0647076 , -1.0182034 ,  0.62054294],\n",
       "        [-0.3481532 , -0.42262477,  0.4151146 ],\n",
       "        [ 0.58667   , -1.7914991 , -1.1277107 ]]], dtype=float32)"
      ]
     },
     "execution_count": 132,
     "metadata": {},
     "output_type": "execute_result"
    }
   ],
   "source": [
    "samples"
   ]
  },
  {
   "cell_type": "code",
   "execution_count": null,
   "id": "bf2e5171-a1c3-4135-a3c9-d198d115374e",
   "metadata": {
    "tags": []
   },
   "outputs": [],
   "source": [
    "vals = (torch.rand((100, 13, 3), device='cuda') * 20) - 10"
   ]
  },
  {
   "cell_type": "code",
   "execution_count": null,
   "id": "6fdb89d3-690d-4384-a15c-facfee834b8a",
   "metadata": {
    "tags": []
   },
   "outputs": [],
   "source": [
    "\"\"\"Follows https://blackjax-devs.github.io/sampling-book/algorithms/TemperedSMC.html#id2. \"\"\"\n",
    "from typing import Callable\n",
    "\n",
    "from functools import partial\n",
    "\n",
    "import chex\n",
    "import jax\n",
    "import jax.numpy as jnp\n",
    "import matplotlib.pyplot as plt\n",
    "import numpy as np\n",
    "from jax.scipy.stats import multivariate_normal\n",
    "\n",
    "import blackjax\n",
    "import blackjax.smc.resampling as resampling\n",
    "\n",
    "def smc_inference_loop(rng_key, smc_kernel, initial_state):\n",
    "    \"\"\"Run the temepered SMC algorithm.\n",
    "\n",
    "    We run the adaptive algorithm until the tempering parameter lambda reaches the value\n",
    "    lambda=1.\n",
    "\n",
    "    \"\"\"\n",
    "\n",
    "    def cond(carry):\n",
    "        i, state, _k = carry\n",
    "        return state.lmbda < 1\n",
    "\n",
    "    def one_step(carry):\n",
    "        i, state, k = carry\n",
    "        k, subk = jax.random.split(k, 2)\n",
    "        state, _ = smc_kernel(subk, state)\n",
    "        return i + 1, state, k\n",
    "\n",
    "    n_iter, final_state, _ = jax.lax.while_loop(\n",
    "        cond, one_step, (0, initial_state, rng_key)\n",
    "    )\n",
    "\n",
    "    return n_iter, final_state\n",
    "\n",
    "def prior_log_prob(x: chex.Array, scale: float = 1.):\n",
    "    d = x.shape[0]\n",
    "    return multivariate_normal.logpdf(x, jnp.zeros((d,)), jnp.eye(d)*scale)\n",
    "\n",
    "\n",
    "def run_smc_molecule(\n",
    "        target_log_prob: Callable,\n",
    "        key: chex.PRNGKey,\n",
    "        dim: int,\n",
    "        n_nodes: int,\n",
    "        n_samples: int,\n",
    "        num_mcmc_steps: int,\n",
    "        base_scale: float = 1.,\n",
    "        target_ess: float = 0.5,\n",
    "        hmc_step_size: float = 1e-4):\n",
    "    def flatten(x: chex.Array) -> chex.Array:\n",
    "        return jnp.reshape(x, (*x.shape[:-2], dim*n_nodes))\n",
    "\n",
    "    def unflatten(x: chex.Array) -> chex.Array:\n",
    "        return jnp.reshape(x, (*x.shape[:-1], n_nodes, dim))\n",
    "\n",
    "    def flat_log_prob_fn(x: chex.Array) -> chex.Array:\n",
    "        \"\"\"Takes in flat x.\"\"\"\n",
    "        return target_log_prob(unflatten(x))\n",
    "\n",
    "    flat_dim = dim * n_nodes\n",
    "    smc_samples = run_smc(\n",
    "        flat_log_prob_fn,\n",
    "        key,\n",
    "        flat_dim,\n",
    "        n_samples,\n",
    "        num_mcmc_steps,\n",
    "        target_ess=target_ess,\n",
    "        base_scale=base_scale,\n",
    "        hmc_step_size=hmc_step_size)\n",
    "\n",
    "    samples = unflatten(smc_samples.particles)\n",
    "    return samples, smc_samples.weights, smc_samples.lmbda\n",
    "\n",
    "\n",
    "def run_smc(\n",
    "        target_log_prob: Callable,\n",
    "        key: chex.PRNGKey,\n",
    "        dim: int,\n",
    "        n_samples: int,\n",
    "        num_mcmc_steps: int,\n",
    "        base_scale: float = 1.,\n",
    "        target_ess: float = 0.5,\n",
    "        hmc_step_size: float = 1e-4):\n",
    "\n",
    "    inv_mass_matrix = jnp.eye(dim)\n",
    "\n",
    "    hmc_parameters = dict(\n",
    "        step_size=hmc_step_size, inverse_mass_matrix=inv_mass_matrix, num_integration_steps=1\n",
    "    )\n",
    "\n",
    "    base_log_prob = partial(prior_log_prob, scale=base_scale)\n",
    "    tempered = blackjax.adaptive_tempered_smc(\n",
    "        base_log_prob,\n",
    "        target_log_prob,\n",
    "        blackjax.hmc.kernel(),\n",
    "        blackjax.hmc.init,\n",
    "        hmc_parameters,\n",
    "        resampling_fn=resampling.systematic,\n",
    "        target_ess=target_ess,\n",
    "        num_mcmc_steps=num_mcmc_steps,\n",
    "    )\n",
    "\n",
    "    initial_smc_state = jax.random.multivariate_normal(\n",
    "        jax.random.PRNGKey(0), jnp.zeros([dim,]), jnp.eye(dim), (n_samples,)\n",
    "    ) * base_scale\n",
    "    initial_smc_state = tempered.init(initial_smc_state)\n",
    "\n",
    "    n_iter, smc_samples = smc_inference_loop(key, tempered.step, initial_smc_state)\n",
    "    return smc_samples\n"
   ]
  },
  {
   "cell_type": "code",
   "execution_count": null,
   "id": "32d6fa99-85f1-4873-a176-a49ca192f629",
   "metadata": {},
   "outputs": [],
   "source": [
    "if __name__ == '__main__':\n",
    "    USE_64_BIT = False\n",
    "    if USE_64_BIT:\n",
    "        from jax.config import config\n",
    "        config.update(\"jax_enable_x64\", True)\n",
    "\n",
    "\n",
    "    # Visualise 2D energy fn as a function of distance\n",
    "    key = jax.random.PRNGKey(0)\n",
    "\n",
    "    dim = 2\n",
    "    batch_size = 512\n",
    "    x0 = jax.random.normal(jax.random.PRNGKey(0), (batch_size, 2))   #  jnp.zeros((batch_size, 2)) + 0.1\n",
    "    d = jnp.linspace(0.8, 10, batch_size)\n",
    "    x1 = x0 + jnp.sqrt(d**2/2)[:, None]\n",
    "\n",
    "    x = jnp.stack([x0, x1], axis=1)\n",
    "    log_probs = log_prob_fn(x)\n",
    "\n",
    "    print(jax.grad(log_prob_fn)(x[0]))\n",
    "\n",
    "    plt.plot(d, log_probs)\n",
    "    plt.show()\n",
    "\n",
    "    fig, ax = plt.subplots()  # 2D\n",
    "    ax.plot(d, jnp.exp(log_probs - 1))  # approx normalise\n",
    "\n",
    "    n_nodes = 13\n",
    "    dim = 3\n",
    "    samples, weights, lmbda = run_smc_molecule(target_log_prob=log_prob_fn,\n",
    "                        dim=dim,\n",
    "                        n_nodes=n_nodes,\n",
    "                        key=key,\n",
    "                        n_samples =1000,\n",
    "                        num_mcmc_steps=30,\n",
    "                        target_ess=0.0,\n",
    "                        base_scale=2.,\n",
    "                        hmc_step_size= 1e-3)\n",
    "\n",
    "    plot_sample_hist(samples, ax=ax)\n",
    "    plt.show()\n",
    "\n",
    "    # make_dataset(dim=3, n_vertices=13)"
   ]
  }
 ],
 "metadata": {
  "kernelspec": {
   "display_name": "Python 3 (ipykernel)",
   "language": "python",
   "name": "python3"
  },
  "language_info": {
   "codemirror_mode": {
    "name": "ipython",
    "version": 3
   },
   "file_extension": ".py",
   "mimetype": "text/x-python",
   "name": "python",
   "nbconvert_exporter": "python",
   "pygments_lexer": "ipython3",
   "version": "3.9.15"
  }
 },
 "nbformat": 4,
 "nbformat_minor": 5
}
