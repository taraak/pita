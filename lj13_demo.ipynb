{
 "cells": [
  {
   "cell_type": "code",
   "execution_count": 6,
   "id": "0315b577-3a49-4288-8928-0479848ed71a",
   "metadata": {
    "tags": []
   },
   "outputs": [
    {
     "name": "stdout",
     "output_type": "stream",
     "text": [
      "Collecting torchsde\n",
      "  Downloading torchsde-0.2.6-py3-none-any.whl (61 kB)\n",
      "\u001b[2K     \u001b[90m━━━━━━━━━━━━━━━━━━━━━━━━━━━━━━━━━━━━━━━━\u001b[0m \u001b[32m61.2/61.2 kB\u001b[0m \u001b[31m10.4 MB/s\u001b[0m eta \u001b[36m0:00:00\u001b[0m\n",
      "\u001b[?25hRequirement already satisfied: numpy>=1.19 in /home/ray/anaconda3/lib/python3.9/site-packages (from torchsde) (1.25.2)\n",
      "Requirement already satisfied: scipy>=1.5 in /home/ray/anaconda3/lib/python3.9/site-packages (from torchsde) (1.11.1)\n",
      "Requirement already satisfied: torch>=1.6.0 in /home/ray/anaconda3/lib/python3.9/site-packages (from torchsde) (2.1.0+rocm5.6)\n",
      "Collecting trampoline>=0.1.2 (from torchsde)\n",
      "  Downloading trampoline-0.1.2-py3-none-any.whl (5.2 kB)\n",
      "Requirement already satisfied: filelock in /home/ray/anaconda3/lib/python3.9/site-packages (from torch>=1.6.0->torchsde) (3.12.2)\n",
      "Requirement already satisfied: typing-extensions in /home/ray/anaconda3/lib/python3.9/site-packages (from torch>=1.6.0->torchsde) (4.7.1)\n",
      "Requirement already satisfied: sympy in /home/ray/anaconda3/lib/python3.9/site-packages (from torch>=1.6.0->torchsde) (1.12)\n",
      "Requirement already satisfied: networkx in /home/ray/anaconda3/lib/python3.9/site-packages (from torch>=1.6.0->torchsde) (3.1)\n",
      "Requirement already satisfied: jinja2 in /home/ray/anaconda3/lib/python3.9/site-packages (from torch>=1.6.0->torchsde) (3.1.2)\n",
      "Requirement already satisfied: fsspec in /home/ray/anaconda3/lib/python3.9/site-packages (from torch>=1.6.0->torchsde) (2023.5.0)\n",
      "Requirement already satisfied: pytorch-triton-rocm==2.1.0 in /home/ray/anaconda3/lib/python3.9/site-packages (from torch>=1.6.0->torchsde) (2.1.0)\n",
      "Requirement already satisfied: cmake>=3.20 in /home/ray/anaconda3/lib/python3.9/site-packages (from pytorch-triton-rocm==2.1.0->torch>=1.6.0->torchsde) (3.27.6)\n",
      "Requirement already satisfied: lit in /home/ray/anaconda3/lib/python3.9/site-packages (from pytorch-triton-rocm==2.1.0->torch>=1.6.0->torchsde) (17.0.2)\n",
      "Requirement already satisfied: MarkupSafe>=2.0 in /home/ray/anaconda3/lib/python3.9/site-packages (from jinja2->torch>=1.6.0->torchsde) (2.1.3)\n",
      "Requirement already satisfied: mpmath>=0.19 in /home/ray/anaconda3/lib/python3.9/site-packages (from sympy->torch>=1.6.0->torchsde) (1.3.0)\n",
      "Installing collected packages: trampoline, torchsde\n",
      "Successfully installed torchsde-0.2.6 trampoline-0.1.2\n",
      "\n",
      "\u001b[1m[\u001b[0m\u001b[34;49mnotice\u001b[0m\u001b[1;39;49m]\u001b[0m\u001b[39;49m A new release of pip is available: \u001b[0m\u001b[31;49m23.1.2\u001b[0m\u001b[39;49m -> \u001b[0m\u001b[32;49m23.3.1\u001b[0m\n",
      "\u001b[1m[\u001b[0m\u001b[34;49mnotice\u001b[0m\u001b[1;39;49m]\u001b[0m\u001b[39;49m To update, run: \u001b[0m\u001b[32;49mpip install --upgrade pip\u001b[0m\n"
     ]
    }
   ],
   "source": [
    "!pip install torchsde"
   ]
  },
  {
   "cell_type": "code",
   "execution_count": 28,
   "id": "70a21243-b6f8-4bb8-b36d-2b767c010123",
   "metadata": {
    "tags": []
   },
   "outputs": [
    {
     "name": "stdout",
     "output_type": "stream",
     "text": [
      "Looking in indexes: https://download.pytorch.org/whl/cu118\n",
      "Collecting torch==2.0.1+cu118\n",
      "  Downloading https://download.pytorch.org/whl/cu118/torch-2.0.1%2Bcu118-cp39-cp39-linux_x86_64.whl (2267.3 MB)\n",
      "\u001b[2K     \u001b[90m━━━━━━━━━━━━━━━━━━━━━━━━━━━━━━━━━━━━━━━━\u001b[0m \u001b[32m2.3/2.3 GB\u001b[0m \u001b[31m448.5 kB/s\u001b[0m eta \u001b[36m0:00:00\u001b[0m00:01\u001b[0m0:01\u001b[0mm\n",
      "\u001b[?25hRequirement already satisfied: filelock in /home/ray/anaconda3/lib/python3.9/site-packages (from torch==2.0.1+cu118) (3.12.2)\n",
      "Requirement already satisfied: typing-extensions in /home/ray/anaconda3/lib/python3.9/site-packages (from torch==2.0.1+cu118) (4.7.1)\n",
      "Requirement already satisfied: sympy in /home/ray/anaconda3/lib/python3.9/site-packages (from torch==2.0.1+cu118) (1.12)\n",
      "Requirement already satisfied: networkx in /home/ray/anaconda3/lib/python3.9/site-packages (from torch==2.0.1+cu118) (3.1)\n",
      "Requirement already satisfied: jinja2 in /home/ray/anaconda3/lib/python3.9/site-packages (from torch==2.0.1+cu118) (3.1.2)\n",
      "Collecting triton==2.0.0 (from torch==2.0.1+cu118)\n",
      "  Downloading https://download.pytorch.org/whl/triton-2.0.0-1-cp39-cp39-manylinux2014_x86_64.manylinux_2_17_x86_64.whl (63.3 MB)\n",
      "\u001b[2K     \u001b[90m━━━━━━━━━━━━━━━━━━━━━━━━━━━━━━━━━━━━━━━━\u001b[0m \u001b[32m63.3/63.3 MB\u001b[0m \u001b[31m31.2 MB/s\u001b[0m eta \u001b[36m0:00:00\u001b[0m00:01\u001b[0m00:01\u001b[0m\n",
      "\u001b[?25hRequirement already satisfied: cmake in /home/ray/anaconda3/lib/python3.9/site-packages (from triton==2.0.0->torch==2.0.1+cu118) (3.27.6)\n",
      "Requirement already satisfied: lit in /home/ray/anaconda3/lib/python3.9/site-packages (from triton==2.0.0->torch==2.0.1+cu118) (17.0.2)\n",
      "Requirement already satisfied: MarkupSafe>=2.0 in /home/ray/anaconda3/lib/python3.9/site-packages (from jinja2->torch==2.0.1+cu118) (2.1.3)\n",
      "Requirement already satisfied: mpmath>=0.19 in /home/ray/anaconda3/lib/python3.9/site-packages (from sympy->torch==2.0.1+cu118) (1.3.0)\n",
      "Installing collected packages: triton, torch\n",
      "  Attempting uninstall: torch\n",
      "    Found existing installation: torch 2.1.0+rocm5.6\n",
      "    Uninstalling torch-2.1.0+rocm5.6:\n",
      "      Successfully uninstalled torch-2.1.0+rocm5.6\n",
      "\u001b[31mERROR: pip's dependency resolver does not currently take into account all the packages that are installed. This behaviour is the source of the following dependency conflicts.\n",
      "pytorch-lightning 1.6.5 requires protobuf<=3.20.1, but you have protobuf 3.20.3 which is incompatible.\n",
      "pytorch-lightning 1.6.5 requires PyYAML>=5.4, but you have pyyaml 5.3.1 which is incompatible.\n",
      "torchtext 0.14.0 requires torch==1.13.0, but you have torch 2.0.1+cu118 which is incompatible.\n",
      "torchvision 0.14.0+cu116 requires torch==1.13.0, but you have torch 2.0.1+cu118 which is incompatible.\u001b[0m\u001b[31m\n",
      "\u001b[0mSuccessfully installed torch-2.0.1+cu118 triton-2.0.0\n",
      "\n",
      "\u001b[1m[\u001b[0m\u001b[34;49mnotice\u001b[0m\u001b[1;39;49m]\u001b[0m\u001b[39;49m A new release of pip is available: \u001b[0m\u001b[31;49m23.1.2\u001b[0m\u001b[39;49m -> \u001b[0m\u001b[32;49m23.3.1\u001b[0m\n",
      "\u001b[1m[\u001b[0m\u001b[34;49mnotice\u001b[0m\u001b[1;39;49m]\u001b[0m\u001b[39;49m To update, run: \u001b[0m\u001b[32;49mpip install --upgrade pip\u001b[0m\n"
     ]
    }
   ],
   "source": [
    "!pip install torch==2.0.1+cu118 --index-url https://download.pytorch.org/whl/cu118"
   ]
  },
  {
   "cell_type": "code",
   "execution_count": 12,
   "id": "959c9569-4c5d-4807-babf-ffe033fc43a6",
   "metadata": {
    "tags": []
   },
   "outputs": [],
   "source": [
    "from typing import Union\n",
    "\n",
    "import chex\n",
    "import jax.numpy as jnp\n",
    "import jax\n",
    "import numpy as np\n",
    "import matplotlib.pyplot as plt\n",
    "import torch\n",
    "import torchsde\n",
    "\n",
    "from typing import Tuple, Optional\n",
    "\n",
    "import jax.numpy as jnp\n",
    "import chex\n",
    "\n",
    "\n",
    "def get_senders_and_receivers_fully_connected(n_nodes: int) -> Tuple[chex.Array, chex.Array]:\n",
    "    receivers = []\n",
    "    senders = []\n",
    "    for i in range(n_nodes):\n",
    "        for j in range(n_nodes - 1):\n",
    "            receivers.append(i)\n",
    "            senders.append((i + 1 + j) % n_nodes)\n",
    "    return torch.tensor(senders), torch.tensor(receivers)\n",
    "\n",
    "def energy(x: torch.Tensor, epsilon: float = 1.0, tau: float = 1.0, r: Union[float, chex.Array] = 1.0,\n",
    "           harmonic_potential_coef: float = 0.5) -> chex.Array:\n",
    "    n_nodes, dim = x.shape\n",
    "    if isinstance(r, float):\n",
    "        r = torch.ones(n_nodes, device=device) * r\n",
    "    senders, receivers = get_senders_and_receivers_fully_connected(n_nodes)\n",
    "    vectors = x[senders] - x[receivers]\n",
    "    d = torch.linalg.norm(vectors, ord=2, dim=-1)\n",
    "    term_inside_sum = (r[receivers] / d)**12 - 2*(r[receivers] / d)**6\n",
    "    energy = epsilon / (2 * tau) * term_inside_sum.sum()\n",
    "\n",
    "    # For harmonic potential see https://github.com/vgsatorras/en_flows/blob/main/deprecated/eqnode/test_systems.py#L94.\n",
    "    # This oscillator is mentioned but not explicity specified in the paper where it was introduced:\n",
    "    # http://proceedings.mlr.press/v119/kohler20a/kohler20a.pdf.\n",
    "    centre_of_mass = x.mean(dim=0)\n",
    "    harmonic_potential = harmonic_potential_coef * (x - centre_of_mass).pow(2).sum()\n",
    "    return energy + harmonic_potential\n",
    "\n",
    "\n",
    "def log_prob_fn(x: torch.Tensor):\n",
    "    x = x.reshape(-1, 13, 3)\n",
    "    if len(x.shape) == 2:\n",
    "        return - energy(x)\n",
    "    elif len(x.shape) == 3:\n",
    "        return - torch.vmap(energy)(x)\n",
    "    else:\n",
    "        raise Exception\n",
    "\n",
    "\n",
    "def plot_sample_hist(samples, ax = None, dim=(0,1)):\n",
    "    if ax == None:\n",
    "        fig, ax = plt.subplots()\n",
    "    d = torch.linalg.norm(samples[:, 0, dim] - samples[:, 1, dim], dim=-1)\n",
    "    ax.hist(d, bins=50, density=True, alpha=0.4)"
   ]
  },
  {
   "cell_type": "code",
   "execution_count": 2,
   "id": "a0d95732-2094-463a-99ca-c5ea50082526",
   "metadata": {
    "tags": []
   },
   "outputs": [],
   "source": [
    "class VEReverseSDE(torch.nn.Module):\n",
    "    noise_type = 'diagonal'\n",
    "    sde_type = 'ito'\n",
    "    \n",
    "    def __init__(self, score_net):\n",
    "        super().__init__()\n",
    "        self.score_model = score_net\n",
    "    \n",
    "    def f(self, t, x):\n",
    "        # pdb.set_trace()\n",
    "        t = t.repeat(len(x)).to(x.device)\n",
    "        score = self.score_model(x, 1-t)\n",
    "        return self.g(t, x).pow(2) * score \n",
    "    \n",
    "    def g(self, t, x):\n",
    "        return torch.full_like(x, beta ** 0.5) #+ 0.1\n",
    "\n",
    "def estimate_grad_Rt(x, t, beta=1.0, num_mc_samples=100):\n",
    "    def grad_fxn(_x, _t):\n",
    "        repeated_x = _x.unsqueeze(0).repeat_interleave(num_mc_samples, dim=0)\n",
    "        repeated_t = _t.unsqueeze(0).repeat_interleave(num_mc_samples, dim=0)\n",
    "        h_t = beta * repeated_t\n",
    "        \n",
    "        # samples = repeated_x + torch.normal(torch.zeros_like(repeated_x), h_t.unsqueeze(1) ** 0.5)\n",
    "        samples = repeated_x + torch.randn(repeated_x.shape).to(device) * h_t.unsqueeze(1) ** 0.5\n",
    "        log_rewards = log_prob_fn(samples)#unnormalize(samples, global_mins, global_maxs))\n",
    "        \n",
    "        return torch.logsumexp(log_rewards, dim=-1) - np.log(num_mc_samples)\n",
    "    \n",
    "    t = t * torch.ones(x.shape[0]).to(device)\n",
    "    est_scores = torch.vmap(torch.func.grad(grad_fxn), randomness='different')(x, t)\n",
    "    return est_scores"
   ]
  },
  {
   "cell_type": "code",
   "execution_count": 7,
   "id": "964eeac1-6968-489c-b87c-40eeb87a5dc9",
   "metadata": {
    "tags": []
   },
   "outputs": [],
   "source": [
    "def est_ve_score_wrapper(x, t):\n",
    "    with torch.enable_grad():\n",
    "        est_score = estimate_grad_Rt(x, t, beta=beta, num_mc_samples=100)\n",
    "        return est_score\n",
    "\n",
    "ve_sde_est_score = VEReverseSDE(est_ve_score_wrapper)\n",
    "\n",
    "beta = 10\n",
    "\n",
    "dim = 13 * 3\n",
    "device = 'cuda'\n",
    "centers = torch.zeros((100, dim), device=device)\n",
    "x1_samples = torch.normal(centers, torch.full_like(centers, fill_value=beta))"
   ]
  },
  {
   "cell_type": "code",
   "execution_count": 8,
   "id": "1bca8635-7788-49b4-b3d3-81899bfb541c",
   "metadata": {
    "tags": []
   },
   "outputs": [],
   "source": [
    "t = torch.linspace(0.0, 1.0, 500)\n",
    "with torch.no_grad():\n",
    "    est_samples = torchsde.sdeint(ve_sde_est_score, x1_samples, t, method='euler')"
   ]
  },
  {
   "cell_type": "code",
   "execution_count": 15,
   "id": "4a93a0bb-7c58-44a3-a0be-c2aa934ed036",
   "metadata": {
    "tags": []
   },
   "outputs": [
    {
     "data": {
      "image/png": "[encoded data removed]",
      "text/plain": [
       "<Figure size 640x480 with 1 Axes>"
      ]
     },
     "metadata": {},
     "output_type": "display_data"
    }
   ],
   "source": [
    "fig, ax = plt.subplots()  # 2D\n",
    "plot_sample_hist(est_samples[-1].reshape(-1, 13, 3).detach().cpu(), ax=ax)\n",
    "\n",
    "#ax.plot(d, jnp.exp(log_probs - 1))  # approx normalise"
   ]
  },
  {
   "cell_type": "code",
   "execution_count": 19,
   "id": "99f4530c-d077-4242-ad7b-3d93b2def8bd",
   "metadata": {
    "tags": []
   },
   "outputs": [
    {
     "data": {
      "text/plain": [
       "(array([ 1.,  0.,  2.,  0.,  1.,  4., 18., 29., 33., 12.]),\n",
       " array([-63.91796875, -57.66281509, -51.40766144, -45.15250778,\n",
       "        -38.89735413, -32.64220047, -26.38704681, -20.13189316,\n",
       "        -13.8767395 ,  -7.62158585,  -1.36643219]),\n",
       " <BarContainer object of 10 artists>)"
      ]
     },
     "execution_count": 19,
     "metadata": {},
     "output_type": "execute_result"
    },
    {
     "data": {
      "image/png": "[encoded data removed]",
      "text/plain": [
       "<Figure size 640x480 with 1 Axes>"
      ]
     },
     "metadata": {},
     "output_type": "display_data"
    }
   ],
   "source": [
    "plt.hist(log_prob_fn(est_samples[-1]).detach().cpu())"
   ]
  },
  {
   "cell_type": "code",
   "execution_count": null,
   "id": "32d6fa99-85f1-4873-a176-a49ca192f629",
   "metadata": {},
   "outputs": [],
   "source": [
    "if __name__ == '__main__':\n",
    "    USE_64_BIT = False\n",
    "    if USE_64_BIT:\n",
    "        from jax.config import config\n",
    "        config.update(\"jax_enable_x64\", True)\n",
    "\n",
    "\n",
    "    # Visualise 2D energy fn as a function of distance\n",
    "    key = jax.random.PRNGKey(0)\n",
    "\n",
    "    dim = 2\n",
    "    batch_size = 512\n",
    "    x0 = jax.random.normal(jax.random.PRNGKey(0), (batch_size, 2))   #  jnp.zeros((batch_size, 2)) + 0.1\n",
    "    d = jnp.linspace(0.8, 10, batch_size)\n",
    "    x1 = x0 + jnp.sqrt(d**2/2)[:, None]\n",
    "\n",
    "    x = jnp.stack([x0, x1], axis=1)\n",
    "    log_probs = log_prob_fn(x)\n",
    "\n",
    "    print(jax.grad(log_prob_fn)(x[0]))\n",
    "\n",
    "    plt.plot(d, log_probs)\n",
    "    plt.show()\n",
    "\n",
    "    fig, ax = plt.subplots()  # 2D\n",
    "    ax.plot(d, jnp.exp(log_probs - 1))  # approx normalise\n",
    "\n",
    "    n_nodes = 13\n",
    "    dim = 3\n",
    "    samples, weights, lmbda = run_smc_molecule(target_log_prob=log_prob_fn,\n",
    "                        dim=dim,\n",
    "                        n_nodes=n_nodes,\n",
    "                        key=key,\n",
    "                        n_samples =1000,\n",
    "                        num_mcmc_steps=30,\n",
    "                        target_ess=0.0,\n",
    "                        base_scale=2.,\n",
    "                        hmc_step_size= 1e-3)\n",
    "\n",
    "    plot_sample_hist(samples, ax=ax)\n",
    "    plt.show()\n",
    "\n",
    "    # make_dataset(dim=3, n_vertices=13)"
   ]
  }
 ],
 "metadata": {
  "kernelspec": {
   "display_name": "Python 3 (ipykernel)",
   "language": "python",
   "name": "python3"
  },
  "language_info": {
   "codemirror_mode": {
    "name": "ipython",
    "version": 3
   },
   "file_extension": ".py",
   "mimetype": "text/x-python",
   "name": "python",
   "nbconvert_exporter": "python",
   "pygments_lexer": "ipython3",
   "version": "3.9.15"
  }
 },
 "nbformat": 4,
 "nbformat_minor": 5
}
